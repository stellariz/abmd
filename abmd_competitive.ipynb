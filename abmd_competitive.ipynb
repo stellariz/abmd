{
 "cells": [
  {
   "cell_type": "code",
   "execution_count": 1,
   "id": "initial_id",
   "metadata": {
    "collapsed": true,
    "ExecuteTime": {
     "end_time": "2024-01-13T16:30:43.868592Z",
     "start_time": "2024-01-13T16:30:43.271656Z"
    }
   },
   "outputs": [],
   "source": [
    "import pandas as pd\n",
    "import matplotlib.pyplot as plt\n",
    "import seaborn as sns\n",
    "from sklearn.ensemble import RandomForestRegressor\n",
    "import numpy as np\n",
    "from bs4 import BeautifulSoup\n",
    "from sklearn.feature_extraction.text import TfidfVectorizer\n",
    "from sklearn.decomposition import TruncatedSVD\n",
    "from sklearn.preprocessing import StandardScaler\n",
    "from sklearn.metrics import make_scorer\n",
    "from sklearn.model_selection import train_test_split\n",
    "import xgboost as xgb"
   ]
  },
  {
   "cell_type": "code",
   "outputs": [],
   "source": [
    "X_train = pd.read_csv('X_train.csv')\n",
    "X_test = pd.read_csv('X_test.csv')\n",
    "y_train = pd.read_csv('y_train.csv')"
   ],
   "metadata": {
    "collapsed": false,
    "ExecuteTime": {
     "end_time": "2024-01-13T16:30:45.071400Z",
     "start_time": "2024-01-13T16:30:43.868854Z"
    }
   },
   "id": "c163ddb332db42cb",
   "execution_count": 2
  },
  {
   "cell_type": "code",
   "execution_count": 3,
   "outputs": [
    {
     "data": {
      "text/plain": "id                           0.00\nname                         0.00\nhas_test                     0.00\nresponse_letter_required     0.00\nsalary_from                 14.43\nsalary_currency              0.00\nsalary_gross                 0.53\npublished_at                 0.00\ncreated_at                   0.00\nemployer_name                0.00\ndescription                  0.00\narea_id                      0.00\narea_name                    0.00\ndtype: float64"
     },
     "execution_count": 3,
     "metadata": {},
     "output_type": "execute_result"
    }
   ],
   "source": [
    "na_percentage = (X_train.isna().mean() * 100).round(2)\n",
    "na_percentage"
   ],
   "metadata": {
    "collapsed": false,
    "ExecuteTime": {
     "end_time": "2024-01-13T16:30:45.683931Z",
     "start_time": "2024-01-13T16:30:45.632767Z"
    }
   },
   "id": "1a9d6d167e2d54a7"
  },
  {
   "cell_type": "code",
   "outputs": [],
   "source": [
    "# Добавляем новые фичи\n",
    "X_train['name_length'] = X_train['name'].apply(len)\n",
    "X_train['name_word_count'] = X_train['name'].apply(lambda x: len(x.split()))"
   ],
   "metadata": {
    "collapsed": false,
    "ExecuteTime": {
     "end_time": "2024-01-13T16:30:46.252289Z",
     "start_time": "2024-01-13T16:30:46.243511Z"
    }
   },
   "id": "8b915a82abb1b3c",
   "execution_count": 4
  },
  {
   "cell_type": "code",
   "outputs": [],
   "source": [
    "X_test['name_length'] = X_test['name'].apply(len)\n",
    "X_test['name_word_count'] = X_test['name'].apply(lambda x: len(x.split()))"
   ],
   "metadata": {
    "collapsed": false,
    "ExecuteTime": {
     "end_time": "2024-01-13T16:30:46.776579Z",
     "start_time": "2024-01-13T16:30:46.754460Z"
    }
   },
   "id": "15ac52b149b816ff",
   "execution_count": 5
  },
  {
   "cell_type": "code",
   "execution_count": 6,
   "outputs": [
    {
     "data": {
      "text/plain": "id                            int64\nname                         object\nhas_test                       bool\nresponse_letter_required       bool\nsalary_from                 float64\nsalary_currency              object\nsalary_gross                   bool\npublished_at                 object\ncreated_at                   object\nemployer_name                object\ndescription                  object\narea_id                       int64\narea_name                    object\nname_length                   int64\nname_word_count               int64\ndtype: object"
     },
     "execution_count": 6,
     "metadata": {},
     "output_type": "execute_result"
    }
   ],
   "source": [
    "# Убираем данные с пропущенными значениями salary_gross, т.к их не так много\n",
    "X_train.dropna(subset=['salary_gross'], inplace=True)\n",
    "X_train['salary_gross'] = X_train['salary_gross'].astype(bool)\n",
    "X_train.dtypes"
   ],
   "metadata": {
    "collapsed": false,
    "ExecuteTime": {
     "end_time": "2024-01-13T16:30:47.240863Z",
     "start_time": "2024-01-13T16:30:47.209889Z"
    }
   },
   "id": "9f1cb886278b39e9"
  },
  {
   "cell_type": "code",
   "outputs": [
    {
     "data": {
      "text/plain": "id                            int64\nname                         object\nhas_test                       bool\nresponse_letter_required       bool\nsalary_from                 float64\nsalary_currency              object\nsalary_gross                   bool\npublished_at                 object\ncreated_at                   object\nemployer_name                object\ndescription                  object\narea_id                       int64\narea_name                    object\nname_length                   int64\nname_word_count               int64\ndtype: object"
     },
     "execution_count": 7,
     "metadata": {},
     "output_type": "execute_result"
    }
   ],
   "source": [
    "X_test['salary_gross'].fillna(X_train['salary_gross'].mode(), inplace=True)\n",
    "X_test['salary_gross'] = X_test['salary_gross'].astype(bool)\n",
    "\n",
    "X_test.dtypes"
   ],
   "metadata": {
    "collapsed": false,
    "ExecuteTime": {
     "end_time": "2024-01-13T16:30:48.010809Z",
     "start_time": "2024-01-13T16:30:47.964178Z"
    }
   },
   "id": "f13dbec85272e412",
   "execution_count": 7
  },
  {
   "cell_type": "code",
   "outputs": [
    {
     "data": {
      "text/plain": "array(['RUR'], dtype=object)"
     },
     "execution_count": 8,
     "metadata": {},
     "output_type": "execute_result"
    }
   ],
   "source": [
    "X_train['salary_currency'].unique()"
   ],
   "metadata": {
    "collapsed": false,
    "ExecuteTime": {
     "end_time": "2024-01-13T16:30:48.619017Z",
     "start_time": "2024-01-13T16:30:48.610057Z"
    }
   },
   "id": "963f52dd1f64a5ed",
   "execution_count": 8
  },
  {
   "cell_type": "code",
   "outputs": [],
   "source": [
    "# Бесполезный признак\n",
    "X_train.drop(columns=['salary_currency'], inplace=True)\n",
    "X_test.drop(columns=['salary_currency'], inplace=True)"
   ],
   "metadata": {
    "collapsed": false,
    "ExecuteTime": {
     "end_time": "2024-01-13T16:30:49.122056Z",
     "start_time": "2024-01-13T16:30:49.114159Z"
    }
   },
   "id": "4db103e7315ca461",
   "execution_count": 9
  },
  {
   "cell_type": "code",
   "outputs": [],
   "source": [
    "X_train['created_at'] = pd.to_datetime(X_train['created_at'])\n",
    "X_train['published_at'] = pd.to_datetime(X_train['published_at'])"
   ],
   "metadata": {
    "collapsed": false,
    "ExecuteTime": {
     "end_time": "2024-01-13T16:30:49.608520Z",
     "start_time": "2024-01-13T16:30:49.590419Z"
    }
   },
   "id": "f7af092d20bde83b",
   "execution_count": 10
  },
  {
   "cell_type": "code",
   "outputs": [],
   "source": [
    "X_test['created_at'] = pd.to_datetime(X_test['created_at'])\n",
    "X_test['published_at'] = pd.to_datetime(X_test['published_at'])"
   ],
   "metadata": {
    "collapsed": false,
    "ExecuteTime": {
     "end_time": "2024-01-13T16:30:50.118559Z",
     "start_time": "2024-01-13T16:30:50.099838Z"
    }
   },
   "id": "601cdb0cc2740cd3",
   "execution_count": 11
  },
  {
   "cell_type": "code",
   "outputs": [
    {
     "name": "stderr",
     "output_type": "stream",
     "text": [
      "[nltk_data] Downloading package punkt to /Users/rpopov/nltk_data...\n",
      "[nltk_data]   Package punkt is already up-to-date!\n"
     ]
    },
    {
     "data": {
      "text/plain": "True"
     },
     "execution_count": 12,
     "metadata": {},
     "output_type": "execute_result"
    }
   ],
   "source": [
    "from nltk.corpus import stopwords\n",
    "import nltk\n",
    "\n",
    "stop_words = set(stopwords.words(\"english\") + stopwords.words(\"russian\"))\n",
    "nltk.download('punkt')"
   ],
   "metadata": {
    "collapsed": false,
    "ExecuteTime": {
     "end_time": "2024-01-13T16:30:51.948049Z",
     "start_time": "2024-01-13T16:30:51.097499Z"
    }
   },
   "id": "9cde10edbc6331fa",
   "execution_count": 12
  },
  {
   "cell_type": "markdown",
   "source": [
    "Area_name"
   ],
   "metadata": {
    "collapsed": false
   },
   "id": "ebd137cf0885e1cf"
  },
  {
   "cell_type": "code",
   "outputs": [],
   "source": [
    "all_data = pd.concat([X_train, X_test])\n",
    "all_encoded = pd.get_dummies(all_data['area_name'], prefix='area_name')"
   ],
   "metadata": {
    "collapsed": false,
    "ExecuteTime": {
     "end_time": "2024-01-13T16:30:54.840509Z",
     "start_time": "2024-01-13T16:30:54.801395Z"
    }
   },
   "id": "4dc5c0108d2bf270",
   "execution_count": 13
  },
  {
   "cell_type": "code",
   "outputs": [
    {
     "data": {
      "text/plain": "          id                                               name  has_test  \\\n0      29083  Менеджер по продажам (брокер) элитной городско...     False   \n1      26052  Product marketing manager / Продуктовый маркет...     False   \n2      24055                        Программист Python (Middle)     False   \n3       4408          Продавец-кассир (Москва, Вернадского, 93)     False   \n4      16856                              Дизайнер-визуализатор     False   \n...      ...                                                ...       ...   \n27929  16850  Директор департамента по административной и ка...     False   \n27930   6265  Продавец-кассир (г Москва, ул Смольная, д 67 к 2)     False   \n27931  11284                            Младший аналитик данных     False   \n27932    860                      Копирайтер / контент менеджер     False   \n27933  15795                                      Гейм-дизайнер     False   \n\n       response_letter_required  salary_from  salary_gross  \\\n0                         False          NaN         False   \n1                         False     120000.0         False   \n2                         False          NaN         False   \n3                         False      33500.0          True   \n4                          True      30000.0          True   \n...                         ...          ...           ...   \n27929                     False     120000.0         False   \n27930                     False      33500.0          True   \n27931                     False      50000.0         False   \n27932                     False      60000.0         False   \n27933                     False      30000.0         False   \n\n                   published_at                created_at  \\\n0     2020-06-16 06:45:04+00:00 2020-06-16 06:45:04+00:00   \n1     2020-07-22 10:24:15+00:00 2020-07-22 10:24:15+00:00   \n2     2020-04-12 08:19:08+00:00 2020-04-12 08:19:08+00:00   \n3     2020-08-24 01:16:52+00:00 2020-08-24 01:16:52+00:00   \n4     2021-09-18 13:30:15+00:00 2021-09-18 13:30:15+00:00   \n...                         ...                       ...   \n27929 2021-10-03 10:04:45+00:00 2021-10-03 10:04:45+00:00   \n27930 2020-09-07 00:32:00+00:00 2020-09-07 00:32:00+00:00   \n27931 2021-04-20 08:25:44+00:00 2021-04-20 08:25:44+00:00   \n27932 2020-11-15 11:12:07+00:00 2020-11-15 11:12:07+00:00   \n27933 2021-08-11 09:41:00+00:00 2021-08-11 09:41:00+00:00   \n\n                       employer_name  \\\n0                    Villagio Estate   \n1                      CityAds Media   \n2                           Лендсбэй   \n3                          Пятёрочка   \n4                      Моллдекор Рус   \n...                              ...   \n27929      Балтик Граунд Сервисес РУ   \n27930                      Пятёрочка   \n27931  Баскаков Дмитрий Владимирович   \n27932                         Revain   \n27933                         Рэдвуд   \n\n                                             description  ...  \\\n0      <strong>Обязанности:</strong> <p>​​​​​- Прием ...  ...   \n1      <p><strong>CityAds Media</strong> – один из ли...  ...   \n2      <p>В перспективный международный Fintech старт...  ...   \n3      <p><strong>Обязанности:</strong></p><ul><li>Об...  ...   \n4      <p><strong>Компания MALL DECOR</strong> - лиде...  ...   \n...                                                  ...  ...   \n27929  <p><em>Если вы ищете динамичную работу в расту...  ...   \n27930  <p><strong>Обязанности:</strong></p><ul><li>Об...  ...   \n27931  <p>Ищем перспективного и талантливого веб анал...  ...   \n27932  <p><strong>Обязанности:</strong></p> <p><stron...  ...   \n27933  <p>Нам хотелось бы видеть в своей команде нера...  ...   \n\n       area_name_Шадринск  area_name_Шахты  area_name_Шымкент  \\\n0                       0                0                  0   \n1                       0                0                  0   \n2                       0                0                  0   \n3                       0                0                  0   \n4                       0                0                  0   \n...                   ...              ...                ...   \n27929                   0                0                  0   \n27930                   0                0                  0   \n27931                   0                0                  0   \n27932                   0                0                  0   \n27933                   0                0                  0   \n\n       area_name_Эквадор  area_name_Энгельс  area_name_Эстония  \\\n0                      0                  0                  0   \n1                      0                  0                  0   \n2                      0                  0                  0   \n3                      0                  0                  0   \n4                      0                  0                  0   \n...                  ...                ...                ...   \n27929                  0                  0                  0   \n27930                  0                  0                  0   \n27931                  0                  0                  0   \n27932                  0                  0                  0   \n27933                  0                  0                  0   \n\n       area_name_Южно-Сахалинск  area_name_Якутск  area_name_Ялта  \\\n0                             0                 0               0   \n1                             0                 0               0   \n2                             0                 0               0   \n3                             0                 0               0   \n4                             0                 0               0   \n...                         ...               ...             ...   \n27929                         0                 0               0   \n27930                         0                 0               0   \n27931                         0                 0               0   \n27932                         0                 0               0   \n27933                         0                 0               0   \n\n       area_name_Ярославль  \n0                        0  \n1                        0  \n2                        0  \n3                        0  \n4                        0  \n...                    ...  \n27929                    0  \n27930                    0  \n27931                    0  \n27932                    0  \n27933                    0  \n\n[27786 rows x 200 columns]",
      "text/html": "<div>\n<style scoped>\n    .dataframe tbody tr th:only-of-type {\n        vertical-align: middle;\n    }\n\n    .dataframe tbody tr th {\n        vertical-align: top;\n    }\n\n    .dataframe thead th {\n        text-align: right;\n    }\n</style>\n<table border=\"1\" class=\"dataframe\">\n  <thead>\n    <tr style=\"text-align: right;\">\n      <th></th>\n      <th>id</th>\n      <th>name</th>\n      <th>has_test</th>\n      <th>response_letter_required</th>\n      <th>salary_from</th>\n      <th>salary_gross</th>\n      <th>published_at</th>\n      <th>created_at</th>\n      <th>employer_name</th>\n      <th>description</th>\n      <th>...</th>\n      <th>area_name_Шадринск</th>\n      <th>area_name_Шахты</th>\n      <th>area_name_Шымкент</th>\n      <th>area_name_Эквадор</th>\n      <th>area_name_Энгельс</th>\n      <th>area_name_Эстония</th>\n      <th>area_name_Южно-Сахалинск</th>\n      <th>area_name_Якутск</th>\n      <th>area_name_Ялта</th>\n      <th>area_name_Ярославль</th>\n    </tr>\n  </thead>\n  <tbody>\n    <tr>\n      <th>0</th>\n      <td>29083</td>\n      <td>Менеджер по продажам (брокер) элитной городско...</td>\n      <td>False</td>\n      <td>False</td>\n      <td>NaN</td>\n      <td>False</td>\n      <td>2020-06-16 06:45:04+00:00</td>\n      <td>2020-06-16 06:45:04+00:00</td>\n      <td>Villagio Estate</td>\n      <td>&lt;strong&gt;Обязанности:&lt;/strong&gt; &lt;p&gt;​​​​​- Прием ...</td>\n      <td>...</td>\n      <td>0</td>\n      <td>0</td>\n      <td>0</td>\n      <td>0</td>\n      <td>0</td>\n      <td>0</td>\n      <td>0</td>\n      <td>0</td>\n      <td>0</td>\n      <td>0</td>\n    </tr>\n    <tr>\n      <th>1</th>\n      <td>26052</td>\n      <td>Product marketing manager / Продуктовый маркет...</td>\n      <td>False</td>\n      <td>False</td>\n      <td>120000.0</td>\n      <td>False</td>\n      <td>2020-07-22 10:24:15+00:00</td>\n      <td>2020-07-22 10:24:15+00:00</td>\n      <td>CityAds Media</td>\n      <td>&lt;p&gt;&lt;strong&gt;CityAds Media&lt;/strong&gt; – один из ли...</td>\n      <td>...</td>\n      <td>0</td>\n      <td>0</td>\n      <td>0</td>\n      <td>0</td>\n      <td>0</td>\n      <td>0</td>\n      <td>0</td>\n      <td>0</td>\n      <td>0</td>\n      <td>0</td>\n    </tr>\n    <tr>\n      <th>2</th>\n      <td>24055</td>\n      <td>Программист Python (Middle)</td>\n      <td>False</td>\n      <td>False</td>\n      <td>NaN</td>\n      <td>False</td>\n      <td>2020-04-12 08:19:08+00:00</td>\n      <td>2020-04-12 08:19:08+00:00</td>\n      <td>Лендсбэй</td>\n      <td>&lt;p&gt;В перспективный международный Fintech старт...</td>\n      <td>...</td>\n      <td>0</td>\n      <td>0</td>\n      <td>0</td>\n      <td>0</td>\n      <td>0</td>\n      <td>0</td>\n      <td>0</td>\n      <td>0</td>\n      <td>0</td>\n      <td>0</td>\n    </tr>\n    <tr>\n      <th>3</th>\n      <td>4408</td>\n      <td>Продавец-кассир (Москва, Вернадского, 93)</td>\n      <td>False</td>\n      <td>False</td>\n      <td>33500.0</td>\n      <td>True</td>\n      <td>2020-08-24 01:16:52+00:00</td>\n      <td>2020-08-24 01:16:52+00:00</td>\n      <td>Пятёрочка</td>\n      <td>&lt;p&gt;&lt;strong&gt;Обязанности:&lt;/strong&gt;&lt;/p&gt;&lt;ul&gt;&lt;li&gt;Об...</td>\n      <td>...</td>\n      <td>0</td>\n      <td>0</td>\n      <td>0</td>\n      <td>0</td>\n      <td>0</td>\n      <td>0</td>\n      <td>0</td>\n      <td>0</td>\n      <td>0</td>\n      <td>0</td>\n    </tr>\n    <tr>\n      <th>4</th>\n      <td>16856</td>\n      <td>Дизайнер-визуализатор</td>\n      <td>False</td>\n      <td>True</td>\n      <td>30000.0</td>\n      <td>True</td>\n      <td>2021-09-18 13:30:15+00:00</td>\n      <td>2021-09-18 13:30:15+00:00</td>\n      <td>Моллдекор Рус</td>\n      <td>&lt;p&gt;&lt;strong&gt;Компания MALL DECOR&lt;/strong&gt; - лиде...</td>\n      <td>...</td>\n      <td>0</td>\n      <td>0</td>\n      <td>0</td>\n      <td>0</td>\n      <td>0</td>\n      <td>0</td>\n      <td>0</td>\n      <td>0</td>\n      <td>0</td>\n      <td>0</td>\n    </tr>\n    <tr>\n      <th>...</th>\n      <td>...</td>\n      <td>...</td>\n      <td>...</td>\n      <td>...</td>\n      <td>...</td>\n      <td>...</td>\n      <td>...</td>\n      <td>...</td>\n      <td>...</td>\n      <td>...</td>\n      <td>...</td>\n      <td>...</td>\n      <td>...</td>\n      <td>...</td>\n      <td>...</td>\n      <td>...</td>\n      <td>...</td>\n      <td>...</td>\n      <td>...</td>\n      <td>...</td>\n      <td>...</td>\n    </tr>\n    <tr>\n      <th>27929</th>\n      <td>16850</td>\n      <td>Директор департамента по административной и ка...</td>\n      <td>False</td>\n      <td>False</td>\n      <td>120000.0</td>\n      <td>False</td>\n      <td>2021-10-03 10:04:45+00:00</td>\n      <td>2021-10-03 10:04:45+00:00</td>\n      <td>Балтик Граунд Сервисес РУ</td>\n      <td>&lt;p&gt;&lt;em&gt;Если вы ищете динамичную работу в расту...</td>\n      <td>...</td>\n      <td>0</td>\n      <td>0</td>\n      <td>0</td>\n      <td>0</td>\n      <td>0</td>\n      <td>0</td>\n      <td>0</td>\n      <td>0</td>\n      <td>0</td>\n      <td>0</td>\n    </tr>\n    <tr>\n      <th>27930</th>\n      <td>6265</td>\n      <td>Продавец-кассир (г Москва, ул Смольная, д 67 к 2)</td>\n      <td>False</td>\n      <td>False</td>\n      <td>33500.0</td>\n      <td>True</td>\n      <td>2020-09-07 00:32:00+00:00</td>\n      <td>2020-09-07 00:32:00+00:00</td>\n      <td>Пятёрочка</td>\n      <td>&lt;p&gt;&lt;strong&gt;Обязанности:&lt;/strong&gt;&lt;/p&gt;&lt;ul&gt;&lt;li&gt;Об...</td>\n      <td>...</td>\n      <td>0</td>\n      <td>0</td>\n      <td>0</td>\n      <td>0</td>\n      <td>0</td>\n      <td>0</td>\n      <td>0</td>\n      <td>0</td>\n      <td>0</td>\n      <td>0</td>\n    </tr>\n    <tr>\n      <th>27931</th>\n      <td>11284</td>\n      <td>Младший аналитик данных</td>\n      <td>False</td>\n      <td>False</td>\n      <td>50000.0</td>\n      <td>False</td>\n      <td>2021-04-20 08:25:44+00:00</td>\n      <td>2021-04-20 08:25:44+00:00</td>\n      <td>Баскаков Дмитрий Владимирович</td>\n      <td>&lt;p&gt;Ищем перспективного и талантливого веб анал...</td>\n      <td>...</td>\n      <td>0</td>\n      <td>0</td>\n      <td>0</td>\n      <td>0</td>\n      <td>0</td>\n      <td>0</td>\n      <td>0</td>\n      <td>0</td>\n      <td>0</td>\n      <td>0</td>\n    </tr>\n    <tr>\n      <th>27932</th>\n      <td>860</td>\n      <td>Копирайтер / контент менеджер</td>\n      <td>False</td>\n      <td>False</td>\n      <td>60000.0</td>\n      <td>False</td>\n      <td>2020-11-15 11:12:07+00:00</td>\n      <td>2020-11-15 11:12:07+00:00</td>\n      <td>Revain</td>\n      <td>&lt;p&gt;&lt;strong&gt;Обязанности:&lt;/strong&gt;&lt;/p&gt; &lt;p&gt;&lt;stron...</td>\n      <td>...</td>\n      <td>0</td>\n      <td>0</td>\n      <td>0</td>\n      <td>0</td>\n      <td>0</td>\n      <td>0</td>\n      <td>0</td>\n      <td>0</td>\n      <td>0</td>\n      <td>0</td>\n    </tr>\n    <tr>\n      <th>27933</th>\n      <td>15795</td>\n      <td>Гейм-дизайнер</td>\n      <td>False</td>\n      <td>False</td>\n      <td>30000.0</td>\n      <td>False</td>\n      <td>2021-08-11 09:41:00+00:00</td>\n      <td>2021-08-11 09:41:00+00:00</td>\n      <td>Рэдвуд</td>\n      <td>&lt;p&gt;Нам хотелось бы видеть в своей команде нера...</td>\n      <td>...</td>\n      <td>0</td>\n      <td>0</td>\n      <td>0</td>\n      <td>0</td>\n      <td>0</td>\n      <td>0</td>\n      <td>0</td>\n      <td>0</td>\n      <td>0</td>\n      <td>0</td>\n    </tr>\n  </tbody>\n</table>\n<p>27786 rows × 200 columns</p>\n</div>"
     },
     "execution_count": 14,
     "metadata": {},
     "output_type": "execute_result"
    }
   ],
   "source": [
    "x_train_encoded = all_encoded.iloc[:len(X_train)]\n",
    "df_train = pd.concat([X_train.drop(columns=['area_name']), x_train_encoded], axis=1)\n",
    "df_train"
   ],
   "metadata": {
    "collapsed": false,
    "ExecuteTime": {
     "end_time": "2024-01-13T16:30:55.407903Z",
     "start_time": "2024-01-13T16:30:55.360487Z"
    }
   },
   "id": "c28f72df8e04aff4",
   "execution_count": 14
  },
  {
   "cell_type": "code",
   "outputs": [
    {
     "data": {
      "text/plain": "         id                                               name  has_test  \\\n0     20978  Техник по инструменту / Специалист по инструме...     False   \n1      3102                               Диспетчер по заказам     False   \n2     14731                Frontend Developer в Focus Calendar     False   \n3     16113                                 Системный аналитик     False   \n4      8410                 Front-end разработчик (JavaScript)     False   \n...     ...                                                ...       ...   \n9307  29490                                   Обходчик объекта     False   \n9308  34298                             IT рекрутер (удаленно)     False   \n9309  33921  Старший продавец-кассир (Москва, бульвар Яна Р...     False   \n9310   8886        Психолог/менеджер по корпоративной культуре     False   \n9311  23978                    Кухонный работник-мойщик посуды     False   \n\n      response_letter_required  salary_from  salary_gross  \\\n0                        False      35000.0         False   \n1                        False      20000.0         False   \n2                        False     200000.0         False   \n3                        False     150000.0         False   \n4                        False      80000.0         False   \n...                        ...          ...           ...   \n9307                     False      40000.0         False   \n9308                     False      40000.0         False   \n9309                     False      35000.0          True   \n9310                     False          NaN         False   \n9311                     False      30000.0         False   \n\n                  published_at                created_at  \\\n0    2020-03-23 10:49:43+00:00 2020-03-23 10:49:43+00:00   \n1    2020-08-18 10:29:11+00:00 2020-08-18 10:29:11+00:00   \n2    2021-08-09 09:00:27+00:00 2021-08-09 09:00:27+00:00   \n3    2021-08-08 05:59:07+00:00 2021-08-08 05:59:07+00:00   \n4    2021-01-12 08:16:14+00:00 2021-01-12 08:16:14+00:00   \n...                        ...                       ...   \n9307 2020-06-10 10:47:48+00:00 2020-06-10 10:47:48+00:00   \n9308 2020-11-17 08:25:30+00:00 2020-11-17 08:25:30+00:00   \n9309 2020-07-15 23:35:09+00:00 2020-07-15 23:35:09+00:00   \n9310 2021-01-22 08:52:50+00:00 2021-01-22 08:52:50+00:00   \n9311 2020-04-09 10:10:20+00:00 2020-04-09 10:10:20+00:00   \n\n               employer_name  \\\n0              АвтоСпецЦентр   \n1                  АвтоВыкуп   \n2             Focus Calendar   \n3                     INTECH   \n4               Кравцов И.Н.   \n...                      ...   \n9307         МонтажСпецСтрой   \n9308           Soft personal   \n9309               Пятёрочка   \n9310   Верона, школа моделей   \n9311  ГБОУ Детский сад № 635   \n\n                                            description  ...  \\\n0     <strong>Обязанности:</strong> <ul> <li>произво...  ...   \n1     <p>Приглашаем диспетчера по работе с заказами ...  ...   \n2     <p><strong>Кого мы ищем и что тебе предстоит д...  ...   \n3     <p>INTECH - IT-компания, ведущий контент и сер...  ...   \n4     <p><strong>Требования к кандидату:</strong></p...  ...   \n...                                                 ...  ...   \n9307  <p>ООО «Ремсервис»</p> <p>Москва, Текстильщики...  ...   \n9308  <p><strong>IT Рекрутер (удаленно)</strong><br ...  ...   \n9309  <p><strong>Обязанности:</strong></p> <ul> <li>...  ...   \n9310  <p><strong>VeronаSchool- </strong>крупнейшая в...  ...   \n9311  <strong>Обязанности:</strong> <ul> <li>Помощни...  ...   \n\n      area_name_Шадринск  area_name_Шахты  area_name_Шымкент  \\\n0                      0                0                  0   \n1                      0                0                  0   \n2                      0                0                  0   \n3                      0                0                  0   \n4                      0                0                  0   \n...                  ...              ...                ...   \n9307                   0                0                  0   \n9308                   0                0                  0   \n9309                   0                0                  0   \n9310                   0                0                  0   \n9311                   0                0                  0   \n\n      area_name_Эквадор  area_name_Энгельс  area_name_Эстония  \\\n0                     0                  0                  0   \n1                     0                  0                  0   \n2                     0                  0                  0   \n3                     0                  0                  0   \n4                     0                  0                  0   \n...                 ...                ...                ...   \n9307                  0                  0                  0   \n9308                  0                  0                  0   \n9309                  0                  0                  0   \n9310                  0                  0                  0   \n9311                  0                  0                  0   \n\n      area_name_Южно-Сахалинск  area_name_Якутск  area_name_Ялта  \\\n0                            0                 0               0   \n1                            0                 0               0   \n2                            0                 0               0   \n3                            0                 0               0   \n4                            0                 0               0   \n...                        ...               ...             ...   \n9307                         0                 0               0   \n9308                         0                 0               0   \n9309                         0                 0               0   \n9310                         0                 0               0   \n9311                         0                 0               0   \n\n      area_name_Ярославль  \n0                       0  \n1                       0  \n2                       0  \n3                       0  \n4                       0  \n...                   ...  \n9307                    0  \n9308                    0  \n9309                    0  \n9310                    0  \n9311                    0  \n\n[9312 rows x 200 columns]",
      "text/html": "<div>\n<style scoped>\n    .dataframe tbody tr th:only-of-type {\n        vertical-align: middle;\n    }\n\n    .dataframe tbody tr th {\n        vertical-align: top;\n    }\n\n    .dataframe thead th {\n        text-align: right;\n    }\n</style>\n<table border=\"1\" class=\"dataframe\">\n  <thead>\n    <tr style=\"text-align: right;\">\n      <th></th>\n      <th>id</th>\n      <th>name</th>\n      <th>has_test</th>\n      <th>response_letter_required</th>\n      <th>salary_from</th>\n      <th>salary_gross</th>\n      <th>published_at</th>\n      <th>created_at</th>\n      <th>employer_name</th>\n      <th>description</th>\n      <th>...</th>\n      <th>area_name_Шадринск</th>\n      <th>area_name_Шахты</th>\n      <th>area_name_Шымкент</th>\n      <th>area_name_Эквадор</th>\n      <th>area_name_Энгельс</th>\n      <th>area_name_Эстония</th>\n      <th>area_name_Южно-Сахалинск</th>\n      <th>area_name_Якутск</th>\n      <th>area_name_Ялта</th>\n      <th>area_name_Ярославль</th>\n    </tr>\n  </thead>\n  <tbody>\n    <tr>\n      <th>0</th>\n      <td>20978</td>\n      <td>Техник по инструменту / Специалист по инструме...</td>\n      <td>False</td>\n      <td>False</td>\n      <td>35000.0</td>\n      <td>False</td>\n      <td>2020-03-23 10:49:43+00:00</td>\n      <td>2020-03-23 10:49:43+00:00</td>\n      <td>АвтоСпецЦентр</td>\n      <td>&lt;strong&gt;Обязанности:&lt;/strong&gt; &lt;ul&gt; &lt;li&gt;произво...</td>\n      <td>...</td>\n      <td>0</td>\n      <td>0</td>\n      <td>0</td>\n      <td>0</td>\n      <td>0</td>\n      <td>0</td>\n      <td>0</td>\n      <td>0</td>\n      <td>0</td>\n      <td>0</td>\n    </tr>\n    <tr>\n      <th>1</th>\n      <td>3102</td>\n      <td>Диспетчер по заказам</td>\n      <td>False</td>\n      <td>False</td>\n      <td>20000.0</td>\n      <td>False</td>\n      <td>2020-08-18 10:29:11+00:00</td>\n      <td>2020-08-18 10:29:11+00:00</td>\n      <td>АвтоВыкуп</td>\n      <td>&lt;p&gt;Приглашаем диспетчера по работе с заказами ...</td>\n      <td>...</td>\n      <td>0</td>\n      <td>0</td>\n      <td>0</td>\n      <td>0</td>\n      <td>0</td>\n      <td>0</td>\n      <td>0</td>\n      <td>0</td>\n      <td>0</td>\n      <td>0</td>\n    </tr>\n    <tr>\n      <th>2</th>\n      <td>14731</td>\n      <td>Frontend Developer в Focus Calendar</td>\n      <td>False</td>\n      <td>False</td>\n      <td>200000.0</td>\n      <td>False</td>\n      <td>2021-08-09 09:00:27+00:00</td>\n      <td>2021-08-09 09:00:27+00:00</td>\n      <td>Focus Calendar</td>\n      <td>&lt;p&gt;&lt;strong&gt;Кого мы ищем и что тебе предстоит д...</td>\n      <td>...</td>\n      <td>0</td>\n      <td>0</td>\n      <td>0</td>\n      <td>0</td>\n      <td>0</td>\n      <td>0</td>\n      <td>0</td>\n      <td>0</td>\n      <td>0</td>\n      <td>0</td>\n    </tr>\n    <tr>\n      <th>3</th>\n      <td>16113</td>\n      <td>Системный аналитик</td>\n      <td>False</td>\n      <td>False</td>\n      <td>150000.0</td>\n      <td>False</td>\n      <td>2021-08-08 05:59:07+00:00</td>\n      <td>2021-08-08 05:59:07+00:00</td>\n      <td>INTECH</td>\n      <td>&lt;p&gt;INTECH - IT-компания, ведущий контент и сер...</td>\n      <td>...</td>\n      <td>0</td>\n      <td>0</td>\n      <td>0</td>\n      <td>0</td>\n      <td>0</td>\n      <td>0</td>\n      <td>0</td>\n      <td>0</td>\n      <td>0</td>\n      <td>0</td>\n    </tr>\n    <tr>\n      <th>4</th>\n      <td>8410</td>\n      <td>Front-end разработчик (JavaScript)</td>\n      <td>False</td>\n      <td>False</td>\n      <td>80000.0</td>\n      <td>False</td>\n      <td>2021-01-12 08:16:14+00:00</td>\n      <td>2021-01-12 08:16:14+00:00</td>\n      <td>Кравцов И.Н.</td>\n      <td>&lt;p&gt;&lt;strong&gt;Требования к кандидату:&lt;/strong&gt;&lt;/p...</td>\n      <td>...</td>\n      <td>0</td>\n      <td>0</td>\n      <td>0</td>\n      <td>0</td>\n      <td>0</td>\n      <td>0</td>\n      <td>0</td>\n      <td>0</td>\n      <td>0</td>\n      <td>0</td>\n    </tr>\n    <tr>\n      <th>...</th>\n      <td>...</td>\n      <td>...</td>\n      <td>...</td>\n      <td>...</td>\n      <td>...</td>\n      <td>...</td>\n      <td>...</td>\n      <td>...</td>\n      <td>...</td>\n      <td>...</td>\n      <td>...</td>\n      <td>...</td>\n      <td>...</td>\n      <td>...</td>\n      <td>...</td>\n      <td>...</td>\n      <td>...</td>\n      <td>...</td>\n      <td>...</td>\n      <td>...</td>\n      <td>...</td>\n    </tr>\n    <tr>\n      <th>9307</th>\n      <td>29490</td>\n      <td>Обходчик объекта</td>\n      <td>False</td>\n      <td>False</td>\n      <td>40000.0</td>\n      <td>False</td>\n      <td>2020-06-10 10:47:48+00:00</td>\n      <td>2020-06-10 10:47:48+00:00</td>\n      <td>МонтажСпецСтрой</td>\n      <td>&lt;p&gt;ООО «Ремсервис»&lt;/p&gt; &lt;p&gt;Москва, Текстильщики...</td>\n      <td>...</td>\n      <td>0</td>\n      <td>0</td>\n      <td>0</td>\n      <td>0</td>\n      <td>0</td>\n      <td>0</td>\n      <td>0</td>\n      <td>0</td>\n      <td>0</td>\n      <td>0</td>\n    </tr>\n    <tr>\n      <th>9308</th>\n      <td>34298</td>\n      <td>IT рекрутер (удаленно)</td>\n      <td>False</td>\n      <td>False</td>\n      <td>40000.0</td>\n      <td>False</td>\n      <td>2020-11-17 08:25:30+00:00</td>\n      <td>2020-11-17 08:25:30+00:00</td>\n      <td>Soft personal</td>\n      <td>&lt;p&gt;&lt;strong&gt;IT Рекрутер (удаленно)&lt;/strong&gt;&lt;br ...</td>\n      <td>...</td>\n      <td>0</td>\n      <td>0</td>\n      <td>0</td>\n      <td>0</td>\n      <td>0</td>\n      <td>0</td>\n      <td>0</td>\n      <td>0</td>\n      <td>0</td>\n      <td>0</td>\n    </tr>\n    <tr>\n      <th>9309</th>\n      <td>33921</td>\n      <td>Старший продавец-кассир (Москва, бульвар Яна Р...</td>\n      <td>False</td>\n      <td>False</td>\n      <td>35000.0</td>\n      <td>True</td>\n      <td>2020-07-15 23:35:09+00:00</td>\n      <td>2020-07-15 23:35:09+00:00</td>\n      <td>Пятёрочка</td>\n      <td>&lt;p&gt;&lt;strong&gt;Обязанности:&lt;/strong&gt;&lt;/p&gt; &lt;ul&gt; &lt;li&gt;...</td>\n      <td>...</td>\n      <td>0</td>\n      <td>0</td>\n      <td>0</td>\n      <td>0</td>\n      <td>0</td>\n      <td>0</td>\n      <td>0</td>\n      <td>0</td>\n      <td>0</td>\n      <td>0</td>\n    </tr>\n    <tr>\n      <th>9310</th>\n      <td>8886</td>\n      <td>Психолог/менеджер по корпоративной культуре</td>\n      <td>False</td>\n      <td>False</td>\n      <td>NaN</td>\n      <td>False</td>\n      <td>2021-01-22 08:52:50+00:00</td>\n      <td>2021-01-22 08:52:50+00:00</td>\n      <td>Верона, школа моделей</td>\n      <td>&lt;p&gt;&lt;strong&gt;VeronаSchool- &lt;/strong&gt;крупнейшая в...</td>\n      <td>...</td>\n      <td>0</td>\n      <td>0</td>\n      <td>0</td>\n      <td>0</td>\n      <td>0</td>\n      <td>0</td>\n      <td>0</td>\n      <td>0</td>\n      <td>0</td>\n      <td>0</td>\n    </tr>\n    <tr>\n      <th>9311</th>\n      <td>23978</td>\n      <td>Кухонный работник-мойщик посуды</td>\n      <td>False</td>\n      <td>False</td>\n      <td>30000.0</td>\n      <td>False</td>\n      <td>2020-04-09 10:10:20+00:00</td>\n      <td>2020-04-09 10:10:20+00:00</td>\n      <td>ГБОУ Детский сад № 635</td>\n      <td>&lt;strong&gt;Обязанности:&lt;/strong&gt; &lt;ul&gt; &lt;li&gt;Помощни...</td>\n      <td>...</td>\n      <td>0</td>\n      <td>0</td>\n      <td>0</td>\n      <td>0</td>\n      <td>0</td>\n      <td>0</td>\n      <td>0</td>\n      <td>0</td>\n      <td>0</td>\n      <td>0</td>\n    </tr>\n  </tbody>\n</table>\n<p>9312 rows × 200 columns</p>\n</div>"
     },
     "execution_count": 15,
     "metadata": {},
     "output_type": "execute_result"
    }
   ],
   "source": [
    "x_test_encoded = all_encoded.iloc[len(X_train):]\n",
    "df_test = pd.concat([X_test.drop(columns=['area_name']), x_test_encoded], axis=1)\n",
    "df_test"
   ],
   "metadata": {
    "collapsed": false,
    "ExecuteTime": {
     "end_time": "2024-01-13T16:30:56.066827Z",
     "start_time": "2024-01-13T16:30:55.981090Z"
    }
   },
   "id": "db7a58d8dcf234ee",
   "execution_count": 15
  },
  {
   "cell_type": "markdown",
   "source": [
    "Name"
   ],
   "metadata": {
    "collapsed": false
   },
   "id": "dc577f563846b183"
  },
  {
   "cell_type": "code",
   "outputs": [
    {
     "data": {
      "text/plain": "array([[ 0.25465227, -0.01396358, -0.00602591, ..., -0.00538839,\n         0.00420214, -0.00922477],\n       [ 0.01591453,  0.0036165 ,  0.01141268, ..., -0.00131739,\n         0.00189281,  0.00885296],\n       [ 0.02026066,  0.47354569,  0.4282037 , ..., -0.00419532,\n         0.01140966,  0.03291077],\n       ...,\n       [ 0.01215488,  0.01318577,  0.13793748, ...,  0.06386939,\n        -0.07225914,  0.0076431 ],\n       [ 0.27850324, -0.01360362, -0.00334432, ..., -0.02023229,\n         0.05919386, -0.01317787],\n       [ 0.00232425,  0.00106666,  0.00188557, ..., -0.07664505,\n        -0.09595661, -0.02829358]])"
     },
     "execution_count": 16,
     "metadata": {},
     "output_type": "execute_result"
    }
   ],
   "source": [
    "n_components = 100\n",
    "name_vectorizer = TfidfVectorizer(stop_words=stop_words)\n",
    "svd = TruncatedSVD(n_components=n_components)\n",
    "name_encoded_train = name_vectorizer.fit_transform(df_train['name'])\n",
    "name_encoded_svd_train = svd.fit_transform(name_encoded_train)\n",
    "name_encoded_svd_train"
   ],
   "metadata": {
    "collapsed": false,
    "ExecuteTime": {
     "end_time": "2024-01-13T16:31:02.497186Z",
     "start_time": "2024-01-13T16:31:01.469871Z"
    }
   },
   "id": "fbc758cd67af0129",
   "execution_count": 16
  },
  {
   "cell_type": "code",
   "outputs": [
    {
     "data": {
      "text/plain": "          id  has_test  response_letter_required  salary_from  salary_gross  \\\n0      29083     False                     False          NaN         False   \n1      26052     False                     False     120000.0         False   \n2      24055     False                     False          NaN         False   \n3       4408     False                     False      33500.0          True   \n4      16856     False                      True      30000.0          True   \n...      ...       ...                       ...          ...           ...   \n27781  16850     False                     False     120000.0         False   \n27782   6265     False                     False      33500.0          True   \n27783  11284     False                     False      50000.0         False   \n27784    860     False                     False      60000.0         False   \n27785  15795     False                     False      30000.0         False   \n\n                   published_at                created_at  \\\n0     2020-06-16 06:45:04+00:00 2020-06-16 06:45:04+00:00   \n1     2020-07-22 10:24:15+00:00 2020-07-22 10:24:15+00:00   \n2     2020-04-12 08:19:08+00:00 2020-04-12 08:19:08+00:00   \n3     2020-08-24 01:16:52+00:00 2020-08-24 01:16:52+00:00   \n4     2021-09-18 13:30:15+00:00 2021-09-18 13:30:15+00:00   \n...                         ...                       ...   \n27781 2021-10-03 10:04:45+00:00 2021-10-03 10:04:45+00:00   \n27782 2020-09-07 00:32:00+00:00 2020-09-07 00:32:00+00:00   \n27783 2021-04-20 08:25:44+00:00 2021-04-20 08:25:44+00:00   \n27784 2020-11-15 11:12:07+00:00 2020-11-15 11:12:07+00:00   \n27785 2021-08-11 09:41:00+00:00 2021-08-11 09:41:00+00:00   \n\n                       employer_name  \\\n0                    Villagio Estate   \n1                      CityAds Media   \n2                           Лендсбэй   \n3                          Пятёрочка   \n4                      Моллдекор Рус   \n...                              ...   \n27781      Балтик Граунд Сервисес РУ   \n27782                      Пятёрочка   \n27783  Баскаков Дмитрий Владимирович   \n27784                         Revain   \n27785                         Рэдвуд   \n\n                                             description  area_id  ...  \\\n0      <strong>Обязанности:</strong> <p>​​​​​- Прием ...        1  ...   \n1      <p><strong>CityAds Media</strong> – один из ли...        1  ...   \n2      <p>В перспективный международный Fintech старт...        1  ...   \n3      <p><strong>Обязанности:</strong></p><ul><li>Об...        1  ...   \n4      <p><strong>Компания MALL DECOR</strong> - лиде...        1  ...   \n...                                                  ...      ...  ...   \n27781  <p><em>Если вы ищете динамичную работу в расту...        1  ...   \n27782  <p><strong>Обязанности:</strong></p><ul><li>Об...        1  ...   \n27783  <p>Ищем перспективного и талантливого веб анал...        1  ...   \n27784  <p><strong>Обязанности:</strong></p> <p><stron...        1  ...   \n27785  <p>Нам хотелось бы видеть в своей команде нера...       11  ...   \n\n       name_svd_90  name_svd_91  name_svd_92  name_svd_93  name_svd_94  \\\n0        -0.003064     0.003541     0.002674     0.003559    -0.002934   \n1        -0.003660     0.010706     0.005410    -0.011755    -0.012772   \n2        -0.013600     0.011594     0.003777     0.011161     0.026663   \n3         0.002358     0.013177    -0.002392    -0.003958    -0.002999   \n4        -0.017564    -0.004410     0.033447     0.025209    -0.026690   \n...            ...          ...          ...          ...          ...   \n27781    -0.011887     0.012952    -0.007015    -0.000487     0.003692   \n27782     0.005016    -0.013652     0.016573     0.007760     0.002350   \n27783    -0.034737     0.006578     0.000245     0.023323     0.005042   \n27784    -0.020451    -0.013524    -0.011578     0.011824    -0.020094   \n27785    -0.016975    -0.004006     0.030247     0.023881    -0.024647   \n\n       name_svd_95  name_svd_96  name_svd_97  name_svd_98  name_svd_99  \n0        -0.002953    -0.007919    -0.005388     0.004202    -0.009225  \n1        -0.006024    -0.004746    -0.001317     0.001893     0.008853  \n2        -0.008339    -0.004932    -0.004195     0.011410     0.032911  \n3         0.004600    -0.017304     0.000350    -0.010579     0.002702  \n4         0.058785    -0.050740    -0.080621    -0.101684    -0.030567  \n...            ...          ...          ...          ...          ...  \n27781    -0.002060     0.009480     0.011843    -0.007546    -0.006837  \n27782    -0.008978     0.033132    -0.000229    -0.001459    -0.003500  \n27783    -0.048589     0.051241     0.063869    -0.072259     0.007643  \n27784     0.009948    -0.024369    -0.020232     0.059194    -0.013178  \n27785     0.056446    -0.049148    -0.076645    -0.095957    -0.028294  \n\n[27786 rows x 299 columns]",
      "text/html": "<div>\n<style scoped>\n    .dataframe tbody tr th:only-of-type {\n        vertical-align: middle;\n    }\n\n    .dataframe tbody tr th {\n        vertical-align: top;\n    }\n\n    .dataframe thead th {\n        text-align: right;\n    }\n</style>\n<table border=\"1\" class=\"dataframe\">\n  <thead>\n    <tr style=\"text-align: right;\">\n      <th></th>\n      <th>id</th>\n      <th>has_test</th>\n      <th>response_letter_required</th>\n      <th>salary_from</th>\n      <th>salary_gross</th>\n      <th>published_at</th>\n      <th>created_at</th>\n      <th>employer_name</th>\n      <th>description</th>\n      <th>area_id</th>\n      <th>...</th>\n      <th>name_svd_90</th>\n      <th>name_svd_91</th>\n      <th>name_svd_92</th>\n      <th>name_svd_93</th>\n      <th>name_svd_94</th>\n      <th>name_svd_95</th>\n      <th>name_svd_96</th>\n      <th>name_svd_97</th>\n      <th>name_svd_98</th>\n      <th>name_svd_99</th>\n    </tr>\n  </thead>\n  <tbody>\n    <tr>\n      <th>0</th>\n      <td>29083</td>\n      <td>False</td>\n      <td>False</td>\n      <td>NaN</td>\n      <td>False</td>\n      <td>2020-06-16 06:45:04+00:00</td>\n      <td>2020-06-16 06:45:04+00:00</td>\n      <td>Villagio Estate</td>\n      <td>&lt;strong&gt;Обязанности:&lt;/strong&gt; &lt;p&gt;​​​​​- Прием ...</td>\n      <td>1</td>\n      <td>...</td>\n      <td>-0.003064</td>\n      <td>0.003541</td>\n      <td>0.002674</td>\n      <td>0.003559</td>\n      <td>-0.002934</td>\n      <td>-0.002953</td>\n      <td>-0.007919</td>\n      <td>-0.005388</td>\n      <td>0.004202</td>\n      <td>-0.009225</td>\n    </tr>\n    <tr>\n      <th>1</th>\n      <td>26052</td>\n      <td>False</td>\n      <td>False</td>\n      <td>120000.0</td>\n      <td>False</td>\n      <td>2020-07-22 10:24:15+00:00</td>\n      <td>2020-07-22 10:24:15+00:00</td>\n      <td>CityAds Media</td>\n      <td>&lt;p&gt;&lt;strong&gt;CityAds Media&lt;/strong&gt; – один из ли...</td>\n      <td>1</td>\n      <td>...</td>\n      <td>-0.003660</td>\n      <td>0.010706</td>\n      <td>0.005410</td>\n      <td>-0.011755</td>\n      <td>-0.012772</td>\n      <td>-0.006024</td>\n      <td>-0.004746</td>\n      <td>-0.001317</td>\n      <td>0.001893</td>\n      <td>0.008853</td>\n    </tr>\n    <tr>\n      <th>2</th>\n      <td>24055</td>\n      <td>False</td>\n      <td>False</td>\n      <td>NaN</td>\n      <td>False</td>\n      <td>2020-04-12 08:19:08+00:00</td>\n      <td>2020-04-12 08:19:08+00:00</td>\n      <td>Лендсбэй</td>\n      <td>&lt;p&gt;В перспективный международный Fintech старт...</td>\n      <td>1</td>\n      <td>...</td>\n      <td>-0.013600</td>\n      <td>0.011594</td>\n      <td>0.003777</td>\n      <td>0.011161</td>\n      <td>0.026663</td>\n      <td>-0.008339</td>\n      <td>-0.004932</td>\n      <td>-0.004195</td>\n      <td>0.011410</td>\n      <td>0.032911</td>\n    </tr>\n    <tr>\n      <th>3</th>\n      <td>4408</td>\n      <td>False</td>\n      <td>False</td>\n      <td>33500.0</td>\n      <td>True</td>\n      <td>2020-08-24 01:16:52+00:00</td>\n      <td>2020-08-24 01:16:52+00:00</td>\n      <td>Пятёрочка</td>\n      <td>&lt;p&gt;&lt;strong&gt;Обязанности:&lt;/strong&gt;&lt;/p&gt;&lt;ul&gt;&lt;li&gt;Об...</td>\n      <td>1</td>\n      <td>...</td>\n      <td>0.002358</td>\n      <td>0.013177</td>\n      <td>-0.002392</td>\n      <td>-0.003958</td>\n      <td>-0.002999</td>\n      <td>0.004600</td>\n      <td>-0.017304</td>\n      <td>0.000350</td>\n      <td>-0.010579</td>\n      <td>0.002702</td>\n    </tr>\n    <tr>\n      <th>4</th>\n      <td>16856</td>\n      <td>False</td>\n      <td>True</td>\n      <td>30000.0</td>\n      <td>True</td>\n      <td>2021-09-18 13:30:15+00:00</td>\n      <td>2021-09-18 13:30:15+00:00</td>\n      <td>Моллдекор Рус</td>\n      <td>&lt;p&gt;&lt;strong&gt;Компания MALL DECOR&lt;/strong&gt; - лиде...</td>\n      <td>1</td>\n      <td>...</td>\n      <td>-0.017564</td>\n      <td>-0.004410</td>\n      <td>0.033447</td>\n      <td>0.025209</td>\n      <td>-0.026690</td>\n      <td>0.058785</td>\n      <td>-0.050740</td>\n      <td>-0.080621</td>\n      <td>-0.101684</td>\n      <td>-0.030567</td>\n    </tr>\n    <tr>\n      <th>...</th>\n      <td>...</td>\n      <td>...</td>\n      <td>...</td>\n      <td>...</td>\n      <td>...</td>\n      <td>...</td>\n      <td>...</td>\n      <td>...</td>\n      <td>...</td>\n      <td>...</td>\n      <td>...</td>\n      <td>...</td>\n      <td>...</td>\n      <td>...</td>\n      <td>...</td>\n      <td>...</td>\n      <td>...</td>\n      <td>...</td>\n      <td>...</td>\n      <td>...</td>\n      <td>...</td>\n    </tr>\n    <tr>\n      <th>27781</th>\n      <td>16850</td>\n      <td>False</td>\n      <td>False</td>\n      <td>120000.0</td>\n      <td>False</td>\n      <td>2021-10-03 10:04:45+00:00</td>\n      <td>2021-10-03 10:04:45+00:00</td>\n      <td>Балтик Граунд Сервисес РУ</td>\n      <td>&lt;p&gt;&lt;em&gt;Если вы ищете динамичную работу в расту...</td>\n      <td>1</td>\n      <td>...</td>\n      <td>-0.011887</td>\n      <td>0.012952</td>\n      <td>-0.007015</td>\n      <td>-0.000487</td>\n      <td>0.003692</td>\n      <td>-0.002060</td>\n      <td>0.009480</td>\n      <td>0.011843</td>\n      <td>-0.007546</td>\n      <td>-0.006837</td>\n    </tr>\n    <tr>\n      <th>27782</th>\n      <td>6265</td>\n      <td>False</td>\n      <td>False</td>\n      <td>33500.0</td>\n      <td>True</td>\n      <td>2020-09-07 00:32:00+00:00</td>\n      <td>2020-09-07 00:32:00+00:00</td>\n      <td>Пятёрочка</td>\n      <td>&lt;p&gt;&lt;strong&gt;Обязанности:&lt;/strong&gt;&lt;/p&gt;&lt;ul&gt;&lt;li&gt;Об...</td>\n      <td>1</td>\n      <td>...</td>\n      <td>0.005016</td>\n      <td>-0.013652</td>\n      <td>0.016573</td>\n      <td>0.007760</td>\n      <td>0.002350</td>\n      <td>-0.008978</td>\n      <td>0.033132</td>\n      <td>-0.000229</td>\n      <td>-0.001459</td>\n      <td>-0.003500</td>\n    </tr>\n    <tr>\n      <th>27783</th>\n      <td>11284</td>\n      <td>False</td>\n      <td>False</td>\n      <td>50000.0</td>\n      <td>False</td>\n      <td>2021-04-20 08:25:44+00:00</td>\n      <td>2021-04-20 08:25:44+00:00</td>\n      <td>Баскаков Дмитрий Владимирович</td>\n      <td>&lt;p&gt;Ищем перспективного и талантливого веб анал...</td>\n      <td>1</td>\n      <td>...</td>\n      <td>-0.034737</td>\n      <td>0.006578</td>\n      <td>0.000245</td>\n      <td>0.023323</td>\n      <td>0.005042</td>\n      <td>-0.048589</td>\n      <td>0.051241</td>\n      <td>0.063869</td>\n      <td>-0.072259</td>\n      <td>0.007643</td>\n    </tr>\n    <tr>\n      <th>27784</th>\n      <td>860</td>\n      <td>False</td>\n      <td>False</td>\n      <td>60000.0</td>\n      <td>False</td>\n      <td>2020-11-15 11:12:07+00:00</td>\n      <td>2020-11-15 11:12:07+00:00</td>\n      <td>Revain</td>\n      <td>&lt;p&gt;&lt;strong&gt;Обязанности:&lt;/strong&gt;&lt;/p&gt; &lt;p&gt;&lt;stron...</td>\n      <td>1</td>\n      <td>...</td>\n      <td>-0.020451</td>\n      <td>-0.013524</td>\n      <td>-0.011578</td>\n      <td>0.011824</td>\n      <td>-0.020094</td>\n      <td>0.009948</td>\n      <td>-0.024369</td>\n      <td>-0.020232</td>\n      <td>0.059194</td>\n      <td>-0.013178</td>\n    </tr>\n    <tr>\n      <th>27785</th>\n      <td>15795</td>\n      <td>False</td>\n      <td>False</td>\n      <td>30000.0</td>\n      <td>False</td>\n      <td>2021-08-11 09:41:00+00:00</td>\n      <td>2021-08-11 09:41:00+00:00</td>\n      <td>Рэдвуд</td>\n      <td>&lt;p&gt;Нам хотелось бы видеть в своей команде нера...</td>\n      <td>11</td>\n      <td>...</td>\n      <td>-0.016975</td>\n      <td>-0.004006</td>\n      <td>0.030247</td>\n      <td>0.023881</td>\n      <td>-0.024647</td>\n      <td>0.056446</td>\n      <td>-0.049148</td>\n      <td>-0.076645</td>\n      <td>-0.095957</td>\n      <td>-0.028294</td>\n    </tr>\n  </tbody>\n</table>\n<p>27786 rows × 299 columns</p>\n</div>"
     },
     "execution_count": 17,
     "metadata": {},
     "output_type": "execute_result"
    }
   ],
   "source": [
    "name_encoded_df = pd.DataFrame(name_encoded_svd_train, columns=[f'name_svd_{i}' for i in range(name_encoded_svd_train.shape[1])])\n",
    "df_train = pd.concat([df_train.drop(columns=['name']).reset_index(drop=True), name_encoded_df], axis=1)\n",
    "df_train"
   ],
   "metadata": {
    "collapsed": false,
    "ExecuteTime": {
     "end_time": "2024-01-13T16:31:03.194657Z",
     "start_time": "2024-01-13T16:31:03.157440Z"
    }
   },
   "id": "a5bc5efa475e28ff",
   "execution_count": 17
  },
  {
   "cell_type": "code",
   "outputs": [
    {
     "data": {
      "text/plain": "array([[ 1.06920994e-02,  7.57397333e-04,  5.96196484e-03, ...,\n        -8.93227321e-04, -8.05432796e-03,  2.66991826e-02],\n       [ 1.01745040e-03,  7.32950647e-05,  4.14368156e-04, ...,\n         9.38743030e-03,  2.07519722e-03, -7.69002557e-03],\n       [ 1.50680144e-02,  4.12723578e-01, -2.92058530e-01, ...,\n         9.14321909e-03, -7.26073589e-05, -1.35941951e-02],\n       ...,\n       [ 4.25138935e-03,  2.00364878e-03,  9.88539497e-03, ...,\n        -5.77010230e-03,  8.06664304e-03, -6.64117147e-03],\n       [ 2.71086540e-01, -1.39411970e-02, -3.66831484e-03, ...,\n         4.30807500e-03, -4.85303194e-03,  1.15346874e-02],\n       [ 4.77837598e-05, -7.32191968e-07,  3.90049918e-05, ...,\n        -2.43209813e-02,  1.29218685e-02,  1.94116349e-02]])"
     },
     "execution_count": 18,
     "metadata": {},
     "output_type": "execute_result"
    }
   ],
   "source": [
    "name_encoded_test = name_vectorizer.transform(df_test['name'])\n",
    "name_encoded_svd_test = svd.transform(name_encoded_test)\n",
    "name_encoded_svd_test"
   ],
   "metadata": {
    "collapsed": false,
    "ExecuteTime": {
     "end_time": "2024-01-13T16:31:04.048053Z",
     "start_time": "2024-01-13T16:31:04.011433Z"
    }
   },
   "id": "3ae0bf5b7fba9d4f",
   "execution_count": 18
  },
  {
   "cell_type": "code",
   "outputs": [
    {
     "data": {
      "text/plain": "         id  has_test  response_letter_required  salary_from  salary_gross  \\\n0     20978     False                     False      35000.0         False   \n1      3102     False                     False      20000.0         False   \n2     14731     False                     False     200000.0         False   \n3     16113     False                     False     150000.0         False   \n4      8410     False                     False      80000.0         False   \n...     ...       ...                       ...          ...           ...   \n9307  29490     False                     False      40000.0         False   \n9308  34298     False                     False      40000.0         False   \n9309  33921     False                     False      35000.0          True   \n9310   8886     False                     False          NaN         False   \n9311  23978     False                     False      30000.0         False   \n\n                  published_at                created_at  \\\n0    2020-03-23 10:49:43+00:00 2020-03-23 10:49:43+00:00   \n1    2020-08-18 10:29:11+00:00 2020-08-18 10:29:11+00:00   \n2    2021-08-09 09:00:27+00:00 2021-08-09 09:00:27+00:00   \n3    2021-08-08 05:59:07+00:00 2021-08-08 05:59:07+00:00   \n4    2021-01-12 08:16:14+00:00 2021-01-12 08:16:14+00:00   \n...                        ...                       ...   \n9307 2020-06-10 10:47:48+00:00 2020-06-10 10:47:48+00:00   \n9308 2020-11-17 08:25:30+00:00 2020-11-17 08:25:30+00:00   \n9309 2020-07-15 23:35:09+00:00 2020-07-15 23:35:09+00:00   \n9310 2021-01-22 08:52:50+00:00 2021-01-22 08:52:50+00:00   \n9311 2020-04-09 10:10:20+00:00 2020-04-09 10:10:20+00:00   \n\n               employer_name  \\\n0              АвтоСпецЦентр   \n1                  АвтоВыкуп   \n2             Focus Calendar   \n3                     INTECH   \n4               Кравцов И.Н.   \n...                      ...   \n9307         МонтажСпецСтрой   \n9308           Soft personal   \n9309               Пятёрочка   \n9310   Верона, школа моделей   \n9311  ГБОУ Детский сад № 635   \n\n                                            description  area_id  ...  \\\n0     <strong>Обязанности:</strong> <ul> <li>произво...        1  ...   \n1     <p>Приглашаем диспетчера по работе с заказами ...        1  ...   \n2     <p><strong>Кого мы ищем и что тебе предстоит д...        1  ...   \n3     <p>INTECH - IT-компания, ведущий контент и сер...        1  ...   \n4     <p><strong>Требования к кандидату:</strong></p...       47  ...   \n...                                                 ...      ...  ...   \n9307  <p>ООО «Ремсервис»</p> <p>Москва, Текстильщики...        1  ...   \n9308  <p><strong>IT Рекрутер (удаленно)</strong><br ...        4  ...   \n9309  <p><strong>Обязанности:</strong></p> <ul> <li>...        1  ...   \n9310  <p><strong>VeronаSchool- </strong>крупнейшая в...        1  ...   \n9311  <strong>Обязанности:</strong> <ul> <li>Помощни...        2  ...   \n\n      name_svd_90  name_svd_91  name_svd_92  name_svd_93  name_svd_94  \\\n0       -0.006814    -0.002933    -0.016602    -0.005531     0.005685   \n1       -0.004934     0.004081    -0.011548     0.007084     0.012601   \n2        0.004942    -0.005482    -0.005325    -0.001496    -0.010814   \n3       -0.005726    -0.002237    -0.009090     0.003346    -0.006734   \n4       -0.007391     0.004815    -0.022986     0.037217     0.006892   \n...           ...          ...          ...          ...          ...   \n9307     0.000298    -0.000738     0.000525     0.000794     0.001023   \n9308    -0.007264    -0.003322    -0.003158    -0.000573     0.000504   \n9309    -0.013145    -0.038473     0.010868     0.003693     0.007653   \n9310     0.000421     0.015777    -0.002266    -0.005421     0.025440   \n9311    -0.009829    -0.007696    -0.007337     0.005323     0.015908   \n\n      name_svd_95  name_svd_96  name_svd_97  name_svd_98  name_svd_99  \n0       -0.001262    -0.012198    -0.000893    -0.008054     0.026699  \n1        0.003499    -0.003948     0.009387     0.002075    -0.007690  \n2       -0.002745     0.002157     0.009143    -0.000073    -0.013594  \n3        0.003234    -0.016699     0.001012    -0.012207    -0.001542  \n4       -0.026183    -0.004368    -0.016428    -0.002527     0.052193  \n...           ...          ...          ...          ...          ...  \n9307    -0.000153    -0.000098     0.001445    -0.000587    -0.000059  \n9308     0.006378     0.004269    -0.020586     0.003066     0.010552  \n9309    -0.017478     0.037459    -0.005770     0.008067    -0.006641  \n9310     0.007075    -0.000653     0.004308    -0.004853     0.011535  \n9311     0.001183    -0.007190    -0.024321     0.012922     0.019412  \n\n[9312 rows x 299 columns]",
      "text/html": "<div>\n<style scoped>\n    .dataframe tbody tr th:only-of-type {\n        vertical-align: middle;\n    }\n\n    .dataframe tbody tr th {\n        vertical-align: top;\n    }\n\n    .dataframe thead th {\n        text-align: right;\n    }\n</style>\n<table border=\"1\" class=\"dataframe\">\n  <thead>\n    <tr style=\"text-align: right;\">\n      <th></th>\n      <th>id</th>\n      <th>has_test</th>\n      <th>response_letter_required</th>\n      <th>salary_from</th>\n      <th>salary_gross</th>\n      <th>published_at</th>\n      <th>created_at</th>\n      <th>employer_name</th>\n      <th>description</th>\n      <th>area_id</th>\n      <th>...</th>\n      <th>name_svd_90</th>\n      <th>name_svd_91</th>\n      <th>name_svd_92</th>\n      <th>name_svd_93</th>\n      <th>name_svd_94</th>\n      <th>name_svd_95</th>\n      <th>name_svd_96</th>\n      <th>name_svd_97</th>\n      <th>name_svd_98</th>\n      <th>name_svd_99</th>\n    </tr>\n  </thead>\n  <tbody>\n    <tr>\n      <th>0</th>\n      <td>20978</td>\n      <td>False</td>\n      <td>False</td>\n      <td>35000.0</td>\n      <td>False</td>\n      <td>2020-03-23 10:49:43+00:00</td>\n      <td>2020-03-23 10:49:43+00:00</td>\n      <td>АвтоСпецЦентр</td>\n      <td>&lt;strong&gt;Обязанности:&lt;/strong&gt; &lt;ul&gt; &lt;li&gt;произво...</td>\n      <td>1</td>\n      <td>...</td>\n      <td>-0.006814</td>\n      <td>-0.002933</td>\n      <td>-0.016602</td>\n      <td>-0.005531</td>\n      <td>0.005685</td>\n      <td>-0.001262</td>\n      <td>-0.012198</td>\n      <td>-0.000893</td>\n      <td>-0.008054</td>\n      <td>0.026699</td>\n    </tr>\n    <tr>\n      <th>1</th>\n      <td>3102</td>\n      <td>False</td>\n      <td>False</td>\n      <td>20000.0</td>\n      <td>False</td>\n      <td>2020-08-18 10:29:11+00:00</td>\n      <td>2020-08-18 10:29:11+00:00</td>\n      <td>АвтоВыкуп</td>\n      <td>&lt;p&gt;Приглашаем диспетчера по работе с заказами ...</td>\n      <td>1</td>\n      <td>...</td>\n      <td>-0.004934</td>\n      <td>0.004081</td>\n      <td>-0.011548</td>\n      <td>0.007084</td>\n      <td>0.012601</td>\n      <td>0.003499</td>\n      <td>-0.003948</td>\n      <td>0.009387</td>\n      <td>0.002075</td>\n      <td>-0.007690</td>\n    </tr>\n    <tr>\n      <th>2</th>\n      <td>14731</td>\n      <td>False</td>\n      <td>False</td>\n      <td>200000.0</td>\n      <td>False</td>\n      <td>2021-08-09 09:00:27+00:00</td>\n      <td>2021-08-09 09:00:27+00:00</td>\n      <td>Focus Calendar</td>\n      <td>&lt;p&gt;&lt;strong&gt;Кого мы ищем и что тебе предстоит д...</td>\n      <td>1</td>\n      <td>...</td>\n      <td>0.004942</td>\n      <td>-0.005482</td>\n      <td>-0.005325</td>\n      <td>-0.001496</td>\n      <td>-0.010814</td>\n      <td>-0.002745</td>\n      <td>0.002157</td>\n      <td>0.009143</td>\n      <td>-0.000073</td>\n      <td>-0.013594</td>\n    </tr>\n    <tr>\n      <th>3</th>\n      <td>16113</td>\n      <td>False</td>\n      <td>False</td>\n      <td>150000.0</td>\n      <td>False</td>\n      <td>2021-08-08 05:59:07+00:00</td>\n      <td>2021-08-08 05:59:07+00:00</td>\n      <td>INTECH</td>\n      <td>&lt;p&gt;INTECH - IT-компания, ведущий контент и сер...</td>\n      <td>1</td>\n      <td>...</td>\n      <td>-0.005726</td>\n      <td>-0.002237</td>\n      <td>-0.009090</td>\n      <td>0.003346</td>\n      <td>-0.006734</td>\n      <td>0.003234</td>\n      <td>-0.016699</td>\n      <td>0.001012</td>\n      <td>-0.012207</td>\n      <td>-0.001542</td>\n    </tr>\n    <tr>\n      <th>4</th>\n      <td>8410</td>\n      <td>False</td>\n      <td>False</td>\n      <td>80000.0</td>\n      <td>False</td>\n      <td>2021-01-12 08:16:14+00:00</td>\n      <td>2021-01-12 08:16:14+00:00</td>\n      <td>Кравцов И.Н.</td>\n      <td>&lt;p&gt;&lt;strong&gt;Требования к кандидату:&lt;/strong&gt;&lt;/p...</td>\n      <td>47</td>\n      <td>...</td>\n      <td>-0.007391</td>\n      <td>0.004815</td>\n      <td>-0.022986</td>\n      <td>0.037217</td>\n      <td>0.006892</td>\n      <td>-0.026183</td>\n      <td>-0.004368</td>\n      <td>-0.016428</td>\n      <td>-0.002527</td>\n      <td>0.052193</td>\n    </tr>\n    <tr>\n      <th>...</th>\n      <td>...</td>\n      <td>...</td>\n      <td>...</td>\n      <td>...</td>\n      <td>...</td>\n      <td>...</td>\n      <td>...</td>\n      <td>...</td>\n      <td>...</td>\n      <td>...</td>\n      <td>...</td>\n      <td>...</td>\n      <td>...</td>\n      <td>...</td>\n      <td>...</td>\n      <td>...</td>\n      <td>...</td>\n      <td>...</td>\n      <td>...</td>\n      <td>...</td>\n      <td>...</td>\n    </tr>\n    <tr>\n      <th>9307</th>\n      <td>29490</td>\n      <td>False</td>\n      <td>False</td>\n      <td>40000.0</td>\n      <td>False</td>\n      <td>2020-06-10 10:47:48+00:00</td>\n      <td>2020-06-10 10:47:48+00:00</td>\n      <td>МонтажСпецСтрой</td>\n      <td>&lt;p&gt;ООО «Ремсервис»&lt;/p&gt; &lt;p&gt;Москва, Текстильщики...</td>\n      <td>1</td>\n      <td>...</td>\n      <td>0.000298</td>\n      <td>-0.000738</td>\n      <td>0.000525</td>\n      <td>0.000794</td>\n      <td>0.001023</td>\n      <td>-0.000153</td>\n      <td>-0.000098</td>\n      <td>0.001445</td>\n      <td>-0.000587</td>\n      <td>-0.000059</td>\n    </tr>\n    <tr>\n      <th>9308</th>\n      <td>34298</td>\n      <td>False</td>\n      <td>False</td>\n      <td>40000.0</td>\n      <td>False</td>\n      <td>2020-11-17 08:25:30+00:00</td>\n      <td>2020-11-17 08:25:30+00:00</td>\n      <td>Soft personal</td>\n      <td>&lt;p&gt;&lt;strong&gt;IT Рекрутер (удаленно)&lt;/strong&gt;&lt;br ...</td>\n      <td>4</td>\n      <td>...</td>\n      <td>-0.007264</td>\n      <td>-0.003322</td>\n      <td>-0.003158</td>\n      <td>-0.000573</td>\n      <td>0.000504</td>\n      <td>0.006378</td>\n      <td>0.004269</td>\n      <td>-0.020586</td>\n      <td>0.003066</td>\n      <td>0.010552</td>\n    </tr>\n    <tr>\n      <th>9309</th>\n      <td>33921</td>\n      <td>False</td>\n      <td>False</td>\n      <td>35000.0</td>\n      <td>True</td>\n      <td>2020-07-15 23:35:09+00:00</td>\n      <td>2020-07-15 23:35:09+00:00</td>\n      <td>Пятёрочка</td>\n      <td>&lt;p&gt;&lt;strong&gt;Обязанности:&lt;/strong&gt;&lt;/p&gt; &lt;ul&gt; &lt;li&gt;...</td>\n      <td>1</td>\n      <td>...</td>\n      <td>-0.013145</td>\n      <td>-0.038473</td>\n      <td>0.010868</td>\n      <td>0.003693</td>\n      <td>0.007653</td>\n      <td>-0.017478</td>\n      <td>0.037459</td>\n      <td>-0.005770</td>\n      <td>0.008067</td>\n      <td>-0.006641</td>\n    </tr>\n    <tr>\n      <th>9310</th>\n      <td>8886</td>\n      <td>False</td>\n      <td>False</td>\n      <td>NaN</td>\n      <td>False</td>\n      <td>2021-01-22 08:52:50+00:00</td>\n      <td>2021-01-22 08:52:50+00:00</td>\n      <td>Верона, школа моделей</td>\n      <td>&lt;p&gt;&lt;strong&gt;VeronаSchool- &lt;/strong&gt;крупнейшая в...</td>\n      <td>1</td>\n      <td>...</td>\n      <td>0.000421</td>\n      <td>0.015777</td>\n      <td>-0.002266</td>\n      <td>-0.005421</td>\n      <td>0.025440</td>\n      <td>0.007075</td>\n      <td>-0.000653</td>\n      <td>0.004308</td>\n      <td>-0.004853</td>\n      <td>0.011535</td>\n    </tr>\n    <tr>\n      <th>9311</th>\n      <td>23978</td>\n      <td>False</td>\n      <td>False</td>\n      <td>30000.0</td>\n      <td>False</td>\n      <td>2020-04-09 10:10:20+00:00</td>\n      <td>2020-04-09 10:10:20+00:00</td>\n      <td>ГБОУ Детский сад № 635</td>\n      <td>&lt;strong&gt;Обязанности:&lt;/strong&gt; &lt;ul&gt; &lt;li&gt;Помощни...</td>\n      <td>2</td>\n      <td>...</td>\n      <td>-0.009829</td>\n      <td>-0.007696</td>\n      <td>-0.007337</td>\n      <td>0.005323</td>\n      <td>0.015908</td>\n      <td>0.001183</td>\n      <td>-0.007190</td>\n      <td>-0.024321</td>\n      <td>0.012922</td>\n      <td>0.019412</td>\n    </tr>\n  </tbody>\n</table>\n<p>9312 rows × 299 columns</p>\n</div>"
     },
     "execution_count": 19,
     "metadata": {},
     "output_type": "execute_result"
    }
   ],
   "source": [
    "name_encoded_df = pd.DataFrame(name_encoded_svd_test, columns=[f'name_svd_{i}' for i in range(name_encoded_svd_test.shape[1])])\n",
    "df_test = pd.concat([df_test.drop(columns=['name']), name_encoded_df], axis=1)\n",
    "df_test"
   ],
   "metadata": {
    "collapsed": false,
    "ExecuteTime": {
     "end_time": "2024-01-13T16:31:16.963644Z",
     "start_time": "2024-01-13T16:31:16.918817Z"
    }
   },
   "id": "c750c03d0476b670",
   "execution_count": 19
  },
  {
   "cell_type": "markdown",
   "source": [
    "employer_name"
   ],
   "metadata": {
    "collapsed": false
   },
   "id": "8a09a6527c89f6b9"
  },
  {
   "cell_type": "code",
   "outputs": [
    {
     "data": {
      "text/plain": "Пятёрочка                    927\nПятерочка                    669\nПерекресток                  323\nБилайн                       261\nJCat.ru                       70\n                            ... \nExMail                         1\nАлбаков Руслан Борисович       1\nЭлит Паллет                    1\nСпецстрой-Т                    1\nБалтик Граунд Сервисес РУ      1\nName: employer_name, Length: 13284, dtype: int64"
     },
     "execution_count": 20,
     "metadata": {},
     "output_type": "execute_result"
    }
   ],
   "source": [
    "df_train['employer_name'].value_counts()"
   ],
   "metadata": {
    "collapsed": false,
    "ExecuteTime": {
     "end_time": "2024-01-13T16:31:18.501054Z",
     "start_time": "2024-01-13T16:31:18.493259Z"
    }
   },
   "id": "5b0f5820f1df09af",
   "execution_count": 20
  },
  {
   "cell_type": "code",
   "outputs": [
    {
     "data": {
      "text/plain": "Пятёрочка                    1596\nПерекресток                   323\nБилайн                        261\nJCat.ru                        70\nSkyeng                         63\n                             ... \nExMail                          1\nАлбаков Руслан Борисович        1\nЭлит Паллет                     1\nСпецстрой-Т                     1\nБалтик Граунд Сервисес РУ       1\nName: employer_name, Length: 13283, dtype: int64"
     },
     "execution_count": 21,
     "metadata": {},
     "output_type": "execute_result"
    }
   ],
   "source": [
    "# Make Пятерочка great again\n",
    "df_train['employer_name'] = df_train['employer_name'].replace('Пятерочка', 'Пятёрочка')\n",
    "df_test['employer_name'] = df_test['employer_name'].replace('Пятерочка', 'Пятёрочка')\n",
    "\n",
    "df_train['employer_name'].value_counts()"
   ],
   "metadata": {
    "collapsed": false,
    "ExecuteTime": {
     "end_time": "2024-01-13T16:31:19.846043Z",
     "start_time": "2024-01-13T16:31:19.825058Z"
    }
   },
   "id": "61f9d4f84b1a3027",
   "execution_count": 21
  },
  {
   "cell_type": "code",
   "outputs": [],
   "source": [
    "top_n = 500"
   ],
   "metadata": {
    "collapsed": false,
    "ExecuteTime": {
     "end_time": "2024-01-13T16:31:38.434408Z",
     "start_time": "2024-01-13T16:31:38.389817Z"
    }
   },
   "id": "3052d9f6b34fd7ac",
   "execution_count": 22
  },
  {
   "cell_type": "code",
   "outputs": [],
   "source": [
    "all_employers = pd.concat([df_train['employer_name'], df_test['employer_name']])\n",
    "top_employers = all_employers.value_counts().head(top_n).index"
   ],
   "metadata": {
    "collapsed": false,
    "ExecuteTime": {
     "end_time": "2024-01-13T16:31:39.081445Z",
     "start_time": "2024-01-13T16:31:39.034990Z"
    }
   },
   "id": "a7a1e9edea13b7d4",
   "execution_count": 23
  },
  {
   "cell_type": "code",
   "outputs": [
    {
     "data": {
      "text/plain": "          id  has_test  response_letter_required  salary_from  salary_gross  \\\n0      29083     False                     False          NaN         False   \n1      26052     False                     False     120000.0         False   \n2      24055     False                     False          NaN         False   \n3       4408     False                     False      33500.0          True   \n4      16856     False                      True      30000.0          True   \n...      ...       ...                       ...          ...           ...   \n27781  16850     False                     False     120000.0         False   \n27782   6265     False                     False      33500.0          True   \n27783  11284     False                     False      50000.0         False   \n27784    860     False                     False      60000.0         False   \n27785  15795     False                     False      30000.0         False   \n\n                   published_at                created_at  \\\n0     2020-06-16 06:45:04+00:00 2020-06-16 06:45:04+00:00   \n1     2020-07-22 10:24:15+00:00 2020-07-22 10:24:15+00:00   \n2     2020-04-12 08:19:08+00:00 2020-04-12 08:19:08+00:00   \n3     2020-08-24 01:16:52+00:00 2020-08-24 01:16:52+00:00   \n4     2021-09-18 13:30:15+00:00 2021-09-18 13:30:15+00:00   \n...                         ...                       ...   \n27781 2021-10-03 10:04:45+00:00 2021-10-03 10:04:45+00:00   \n27782 2020-09-07 00:32:00+00:00 2020-09-07 00:32:00+00:00   \n27783 2021-04-20 08:25:44+00:00 2021-04-20 08:25:44+00:00   \n27784 2020-11-15 11:12:07+00:00 2020-11-15 11:12:07+00:00   \n27785 2021-08-11 09:41:00+00:00 2021-08-11 09:41:00+00:00   \n\n                                             description  area_id  \\\n0      <strong>Обязанности:</strong> <p>​​​​​- Прием ...        1   \n1      <p><strong>CityAds Media</strong> – один из ли...        1   \n2      <p>В перспективный международный Fintech старт...        1   \n3      <p><strong>Обязанности:</strong></p><ul><li>Об...        1   \n4      <p><strong>Компания MALL DECOR</strong> - лиде...        1   \n...                                                  ...      ...   \n27781  <p><em>Если вы ищете динамичную работу в расту...        1   \n27782  <p><strong>Обязанности:</strong></p><ul><li>Об...        1   \n27783  <p>Ищем перспективного и талантливого веб анал...        1   \n27784  <p><strong>Обязанности:</strong></p> <p><stron...        1   \n27785  <p>Нам хотелось бы видеть в своей команде нера...       11   \n\n       name_length  ...  employer_name_Эталон  \\\n0               60  ...                     0   \n1               50  ...                     0   \n2               27  ...                     0   \n3               41  ...                     0   \n4               21  ...                     0   \n...            ...  ...                   ...   \n27781           59  ...                     0   \n27782           49  ...                     0   \n27783           23  ...                     0   \n27784           29  ...                     0   \n27785           13  ...                     0   \n\n       employer_name_ЮТэйр, Авиакомпания  employer_name_Ювенко  \\\n0                                      0                     0   \n1                                      0                     0   \n2                                      0                     0   \n3                                      0                     0   \n4                                      0                     0   \n...                                  ...                   ...   \n27781                                  0                     0   \n27782                                  0                     0   \n27783                                  0                     0   \n27784                                  0                     0   \n27785                                  0                     0   \n\n       employer_name_Юнайтед Иншуренс Компани  employer_name_Юнайтед Концептс  \\\n0                                           0                               0   \n1                                           0                               0   \n2                                           0                               0   \n3                                           0                               0   \n4                                           0                               0   \n...                                       ...                             ...   \n27781                                       0                               0   \n27782                                       0                               0   \n27783                                       0                               0   \n27784                                       0                               0   \n27785                                       0                               0   \n\n       employer_name_Юридический центр Бизнес и Право  employer_name_Юрист  \\\n0                                                   0                    0   \n1                                                   0                    0   \n2                                                   0                    0   \n3                                                   0                    0   \n4                                                   0                    0   \n...                                               ...                  ...   \n27781                                               0                    0   \n27782                                               0                    0   \n27783                                               0                    0   \n27784                                               0                    0   \n27785                                               0                    0   \n\n       employer_name_Ягуар, ДОВ, НОУ  employer_name_Яндекс  \\\n0                                  0                     0   \n1                                  0                     0   \n2                                  0                     0   \n3                                  0                     0   \n4                                  0                     0   \n...                              ...                   ...   \n27781                              0                     0   \n27782                              0                     0   \n27783                              0                     0   \n27784                              0                     0   \n27785                              0                     0   \n\n       employer_name_Яшин&Партнёры  \n0                                0  \n1                                0  \n2                                0  \n3                                0  \n4                                0  \n...                            ...  \n27781                            0  \n27782                            0  \n27783                            0  \n27784                            0  \n27785                            0  \n\n[27786 rows x 798 columns]",
      "text/html": "<div>\n<style scoped>\n    .dataframe tbody tr th:only-of-type {\n        vertical-align: middle;\n    }\n\n    .dataframe tbody tr th {\n        vertical-align: top;\n    }\n\n    .dataframe thead th {\n        text-align: right;\n    }\n</style>\n<table border=\"1\" class=\"dataframe\">\n  <thead>\n    <tr style=\"text-align: right;\">\n      <th></th>\n      <th>id</th>\n      <th>has_test</th>\n      <th>response_letter_required</th>\n      <th>salary_from</th>\n      <th>salary_gross</th>\n      <th>published_at</th>\n      <th>created_at</th>\n      <th>description</th>\n      <th>area_id</th>\n      <th>name_length</th>\n      <th>...</th>\n      <th>employer_name_Эталон</th>\n      <th>employer_name_ЮТэйр, Авиакомпания</th>\n      <th>employer_name_Ювенко</th>\n      <th>employer_name_Юнайтед Иншуренс Компани</th>\n      <th>employer_name_Юнайтед Концептс</th>\n      <th>employer_name_Юридический центр Бизнес и Право</th>\n      <th>employer_name_Юрист</th>\n      <th>employer_name_Ягуар, ДОВ, НОУ</th>\n      <th>employer_name_Яндекс</th>\n      <th>employer_name_Яшин&amp;Партнёры</th>\n    </tr>\n  </thead>\n  <tbody>\n    <tr>\n      <th>0</th>\n      <td>29083</td>\n      <td>False</td>\n      <td>False</td>\n      <td>NaN</td>\n      <td>False</td>\n      <td>2020-06-16 06:45:04+00:00</td>\n      <td>2020-06-16 06:45:04+00:00</td>\n      <td>&lt;strong&gt;Обязанности:&lt;/strong&gt; &lt;p&gt;​​​​​- Прием ...</td>\n      <td>1</td>\n      <td>60</td>\n      <td>...</td>\n      <td>0</td>\n      <td>0</td>\n      <td>0</td>\n      <td>0</td>\n      <td>0</td>\n      <td>0</td>\n      <td>0</td>\n      <td>0</td>\n      <td>0</td>\n      <td>0</td>\n    </tr>\n    <tr>\n      <th>1</th>\n      <td>26052</td>\n      <td>False</td>\n      <td>False</td>\n      <td>120000.0</td>\n      <td>False</td>\n      <td>2020-07-22 10:24:15+00:00</td>\n      <td>2020-07-22 10:24:15+00:00</td>\n      <td>&lt;p&gt;&lt;strong&gt;CityAds Media&lt;/strong&gt; – один из ли...</td>\n      <td>1</td>\n      <td>50</td>\n      <td>...</td>\n      <td>0</td>\n      <td>0</td>\n      <td>0</td>\n      <td>0</td>\n      <td>0</td>\n      <td>0</td>\n      <td>0</td>\n      <td>0</td>\n      <td>0</td>\n      <td>0</td>\n    </tr>\n    <tr>\n      <th>2</th>\n      <td>24055</td>\n      <td>False</td>\n      <td>False</td>\n      <td>NaN</td>\n      <td>False</td>\n      <td>2020-04-12 08:19:08+00:00</td>\n      <td>2020-04-12 08:19:08+00:00</td>\n      <td>&lt;p&gt;В перспективный международный Fintech старт...</td>\n      <td>1</td>\n      <td>27</td>\n      <td>...</td>\n      <td>0</td>\n      <td>0</td>\n      <td>0</td>\n      <td>0</td>\n      <td>0</td>\n      <td>0</td>\n      <td>0</td>\n      <td>0</td>\n      <td>0</td>\n      <td>0</td>\n    </tr>\n    <tr>\n      <th>3</th>\n      <td>4408</td>\n      <td>False</td>\n      <td>False</td>\n      <td>33500.0</td>\n      <td>True</td>\n      <td>2020-08-24 01:16:52+00:00</td>\n      <td>2020-08-24 01:16:52+00:00</td>\n      <td>&lt;p&gt;&lt;strong&gt;Обязанности:&lt;/strong&gt;&lt;/p&gt;&lt;ul&gt;&lt;li&gt;Об...</td>\n      <td>1</td>\n      <td>41</td>\n      <td>...</td>\n      <td>0</td>\n      <td>0</td>\n      <td>0</td>\n      <td>0</td>\n      <td>0</td>\n      <td>0</td>\n      <td>0</td>\n      <td>0</td>\n      <td>0</td>\n      <td>0</td>\n    </tr>\n    <tr>\n      <th>4</th>\n      <td>16856</td>\n      <td>False</td>\n      <td>True</td>\n      <td>30000.0</td>\n      <td>True</td>\n      <td>2021-09-18 13:30:15+00:00</td>\n      <td>2021-09-18 13:30:15+00:00</td>\n      <td>&lt;p&gt;&lt;strong&gt;Компания MALL DECOR&lt;/strong&gt; - лиде...</td>\n      <td>1</td>\n      <td>21</td>\n      <td>...</td>\n      <td>0</td>\n      <td>0</td>\n      <td>0</td>\n      <td>0</td>\n      <td>0</td>\n      <td>0</td>\n      <td>0</td>\n      <td>0</td>\n      <td>0</td>\n      <td>0</td>\n    </tr>\n    <tr>\n      <th>...</th>\n      <td>...</td>\n      <td>...</td>\n      <td>...</td>\n      <td>...</td>\n      <td>...</td>\n      <td>...</td>\n      <td>...</td>\n      <td>...</td>\n      <td>...</td>\n      <td>...</td>\n      <td>...</td>\n      <td>...</td>\n      <td>...</td>\n      <td>...</td>\n      <td>...</td>\n      <td>...</td>\n      <td>...</td>\n      <td>...</td>\n      <td>...</td>\n      <td>...</td>\n      <td>...</td>\n    </tr>\n    <tr>\n      <th>27781</th>\n      <td>16850</td>\n      <td>False</td>\n      <td>False</td>\n      <td>120000.0</td>\n      <td>False</td>\n      <td>2021-10-03 10:04:45+00:00</td>\n      <td>2021-10-03 10:04:45+00:00</td>\n      <td>&lt;p&gt;&lt;em&gt;Если вы ищете динамичную работу в расту...</td>\n      <td>1</td>\n      <td>59</td>\n      <td>...</td>\n      <td>0</td>\n      <td>0</td>\n      <td>0</td>\n      <td>0</td>\n      <td>0</td>\n      <td>0</td>\n      <td>0</td>\n      <td>0</td>\n      <td>0</td>\n      <td>0</td>\n    </tr>\n    <tr>\n      <th>27782</th>\n      <td>6265</td>\n      <td>False</td>\n      <td>False</td>\n      <td>33500.0</td>\n      <td>True</td>\n      <td>2020-09-07 00:32:00+00:00</td>\n      <td>2020-09-07 00:32:00+00:00</td>\n      <td>&lt;p&gt;&lt;strong&gt;Обязанности:&lt;/strong&gt;&lt;/p&gt;&lt;ul&gt;&lt;li&gt;Об...</td>\n      <td>1</td>\n      <td>49</td>\n      <td>...</td>\n      <td>0</td>\n      <td>0</td>\n      <td>0</td>\n      <td>0</td>\n      <td>0</td>\n      <td>0</td>\n      <td>0</td>\n      <td>0</td>\n      <td>0</td>\n      <td>0</td>\n    </tr>\n    <tr>\n      <th>27783</th>\n      <td>11284</td>\n      <td>False</td>\n      <td>False</td>\n      <td>50000.0</td>\n      <td>False</td>\n      <td>2021-04-20 08:25:44+00:00</td>\n      <td>2021-04-20 08:25:44+00:00</td>\n      <td>&lt;p&gt;Ищем перспективного и талантливого веб анал...</td>\n      <td>1</td>\n      <td>23</td>\n      <td>...</td>\n      <td>0</td>\n      <td>0</td>\n      <td>0</td>\n      <td>0</td>\n      <td>0</td>\n      <td>0</td>\n      <td>0</td>\n      <td>0</td>\n      <td>0</td>\n      <td>0</td>\n    </tr>\n    <tr>\n      <th>27784</th>\n      <td>860</td>\n      <td>False</td>\n      <td>False</td>\n      <td>60000.0</td>\n      <td>False</td>\n      <td>2020-11-15 11:12:07+00:00</td>\n      <td>2020-11-15 11:12:07+00:00</td>\n      <td>&lt;p&gt;&lt;strong&gt;Обязанности:&lt;/strong&gt;&lt;/p&gt; &lt;p&gt;&lt;stron...</td>\n      <td>1</td>\n      <td>29</td>\n      <td>...</td>\n      <td>0</td>\n      <td>0</td>\n      <td>0</td>\n      <td>0</td>\n      <td>0</td>\n      <td>0</td>\n      <td>0</td>\n      <td>0</td>\n      <td>0</td>\n      <td>0</td>\n    </tr>\n    <tr>\n      <th>27785</th>\n      <td>15795</td>\n      <td>False</td>\n      <td>False</td>\n      <td>30000.0</td>\n      <td>False</td>\n      <td>2021-08-11 09:41:00+00:00</td>\n      <td>2021-08-11 09:41:00+00:00</td>\n      <td>&lt;p&gt;Нам хотелось бы видеть в своей команде нера...</td>\n      <td>11</td>\n      <td>13</td>\n      <td>...</td>\n      <td>0</td>\n      <td>0</td>\n      <td>0</td>\n      <td>0</td>\n      <td>0</td>\n      <td>0</td>\n      <td>0</td>\n      <td>0</td>\n      <td>0</td>\n      <td>0</td>\n    </tr>\n  </tbody>\n</table>\n<p>27786 rows × 798 columns</p>\n</div>"
     },
     "execution_count": 24,
     "metadata": {},
     "output_type": "execute_result"
    }
   ],
   "source": [
    "train_encoded_employers = pd.get_dummies(df_train['employer_name'].where(df_train['employer_name'].isin(top_employers)), prefix='employer_name', prefix_sep='_')\n",
    "\n",
    "df_train_encoded = pd.concat([df_train.drop(columns=['employer_name']), train_encoded_employers], axis=1)\n",
    "df_train_encoded"
   ],
   "metadata": {
    "collapsed": false,
    "ExecuteTime": {
     "end_time": "2024-01-13T16:31:40.229300Z",
     "start_time": "2024-01-13T16:31:40.170680Z"
    }
   },
   "id": "5aecc95dd95bb0",
   "execution_count": 24
  },
  {
   "cell_type": "code",
   "outputs": [
    {
     "data": {
      "text/plain": "         id  has_test  response_letter_required  salary_from  salary_gross  \\\n0     20978     False                     False      35000.0         False   \n1      3102     False                     False      20000.0         False   \n2     14731     False                     False     200000.0         False   \n3     16113     False                     False     150000.0         False   \n4      8410     False                     False      80000.0         False   \n...     ...       ...                       ...          ...           ...   \n9307  29490     False                     False      40000.0         False   \n9308  34298     False                     False      40000.0         False   \n9309  33921     False                     False      35000.0          True   \n9310   8886     False                     False          NaN         False   \n9311  23978     False                     False      30000.0         False   \n\n                  published_at                created_at  \\\n0    2020-03-23 10:49:43+00:00 2020-03-23 10:49:43+00:00   \n1    2020-08-18 10:29:11+00:00 2020-08-18 10:29:11+00:00   \n2    2021-08-09 09:00:27+00:00 2021-08-09 09:00:27+00:00   \n3    2021-08-08 05:59:07+00:00 2021-08-08 05:59:07+00:00   \n4    2021-01-12 08:16:14+00:00 2021-01-12 08:16:14+00:00   \n...                        ...                       ...   \n9307 2020-06-10 10:47:48+00:00 2020-06-10 10:47:48+00:00   \n9308 2020-11-17 08:25:30+00:00 2020-11-17 08:25:30+00:00   \n9309 2020-07-15 23:35:09+00:00 2020-07-15 23:35:09+00:00   \n9310 2021-01-22 08:52:50+00:00 2021-01-22 08:52:50+00:00   \n9311 2020-04-09 10:10:20+00:00 2020-04-09 10:10:20+00:00   \n\n                                            description  area_id  name_length  \\\n0     <strong>Обязанности:</strong> <ul> <li>произво...        1           70   \n1     <p>Приглашаем диспетчера по работе с заказами ...        1           20   \n2     <p><strong>Кого мы ищем и что тебе предстоит д...        1           35   \n3     <p>INTECH - IT-компания, ведущий контент и сер...        1           18   \n4     <p><strong>Требования к кандидату:</strong></p...       47           34   \n...                                                 ...      ...          ...   \n9307  <p>ООО «Ремсервис»</p> <p>Москва, Текстильщики...        1           16   \n9308  <p><strong>IT Рекрутер (удаленно)</strong><br ...        4           22   \n9309  <p><strong>Обязанности:</strong></p> <ul> <li>...        1           59   \n9310  <p><strong>VeronаSchool- </strong>крупнейшая в...        1           43   \n9311  <strong>Обязанности:</strong> <ul> <li>Помощни...        2           31   \n\n      ...  employer_name_Этажи, федеральная компания  \\\n0     ...                                          0   \n1     ...                                          0   \n2     ...                                          0   \n3     ...                                          0   \n4     ...                                          0   \n...   ...                                        ...   \n9307  ...                                          0   \n9308  ...                                          0   \n9309  ...                                          0   \n9310  ...                                          0   \n9311  ...                                          0   \n\n      employer_name_ЮТэйр, Авиакомпания  employer_name_Ювенко  \\\n0                                     0                     0   \n1                                     0                     0   \n2                                     0                     0   \n3                                     0                     0   \n4                                     0                     0   \n...                                 ...                   ...   \n9307                                  0                     0   \n9308                                  0                     0   \n9309                                  0                     0   \n9310                                  0                     0   \n9311                                  0                     0   \n\n      employer_name_Юнайтед Иншуренс Компани  employer_name_Юнайтед Концептс  \\\n0                                          0                               0   \n1                                          0                               0   \n2                                          0                               0   \n3                                          0                               0   \n4                                          0                               0   \n...                                      ...                             ...   \n9307                                       0                               0   \n9308                                       0                               0   \n9309                                       0                               0   \n9310                                       0                               0   \n9311                                       0                               0   \n\n      employer_name_Юридический центр Бизнес и Право  employer_name_Юрист  \\\n0                                                  0                    0   \n1                                                  0                    0   \n2                                                  0                    0   \n3                                                  0                    0   \n4                                                  0                    0   \n...                                              ...                  ...   \n9307                                               0                    0   \n9308                                               0                    0   \n9309                                               0                    0   \n9310                                               0                    0   \n9311                                               0                    0   \n\n      employer_name_Ягуар, ДОВ, НОУ  employer_name_Яндекс  \\\n0                                 0                     0   \n1                                 0                     0   \n2                                 0                     0   \n3                                 0                     0   \n4                                 0                     0   \n...                             ...                   ...   \n9307                              0                     0   \n9308                              0                     0   \n9309                              0                     0   \n9310                              0                     0   \n9311                              0                     0   \n\n      employer_name_Яшин&Партнёры  \n0                               0  \n1                               0  \n2                               0  \n3                               0  \n4                               0  \n...                           ...  \n9307                            0  \n9308                            0  \n9309                            0  \n9310                            0  \n9311                            0  \n\n[9312 rows x 781 columns]",
      "text/html": "<div>\n<style scoped>\n    .dataframe tbody tr th:only-of-type {\n        vertical-align: middle;\n    }\n\n    .dataframe tbody tr th {\n        vertical-align: top;\n    }\n\n    .dataframe thead th {\n        text-align: right;\n    }\n</style>\n<table border=\"1\" class=\"dataframe\">\n  <thead>\n    <tr style=\"text-align: right;\">\n      <th></th>\n      <th>id</th>\n      <th>has_test</th>\n      <th>response_letter_required</th>\n      <th>salary_from</th>\n      <th>salary_gross</th>\n      <th>published_at</th>\n      <th>created_at</th>\n      <th>description</th>\n      <th>area_id</th>\n      <th>name_length</th>\n      <th>...</th>\n      <th>employer_name_Этажи, федеральная компания</th>\n      <th>employer_name_ЮТэйр, Авиакомпания</th>\n      <th>employer_name_Ювенко</th>\n      <th>employer_name_Юнайтед Иншуренс Компани</th>\n      <th>employer_name_Юнайтед Концептс</th>\n      <th>employer_name_Юридический центр Бизнес и Право</th>\n      <th>employer_name_Юрист</th>\n      <th>employer_name_Ягуар, ДОВ, НОУ</th>\n      <th>employer_name_Яндекс</th>\n      <th>employer_name_Яшин&amp;Партнёры</th>\n    </tr>\n  </thead>\n  <tbody>\n    <tr>\n      <th>0</th>\n      <td>20978</td>\n      <td>False</td>\n      <td>False</td>\n      <td>35000.0</td>\n      <td>False</td>\n      <td>2020-03-23 10:49:43+00:00</td>\n      <td>2020-03-23 10:49:43+00:00</td>\n      <td>&lt;strong&gt;Обязанности:&lt;/strong&gt; &lt;ul&gt; &lt;li&gt;произво...</td>\n      <td>1</td>\n      <td>70</td>\n      <td>...</td>\n      <td>0</td>\n      <td>0</td>\n      <td>0</td>\n      <td>0</td>\n      <td>0</td>\n      <td>0</td>\n      <td>0</td>\n      <td>0</td>\n      <td>0</td>\n      <td>0</td>\n    </tr>\n    <tr>\n      <th>1</th>\n      <td>3102</td>\n      <td>False</td>\n      <td>False</td>\n      <td>20000.0</td>\n      <td>False</td>\n      <td>2020-08-18 10:29:11+00:00</td>\n      <td>2020-08-18 10:29:11+00:00</td>\n      <td>&lt;p&gt;Приглашаем диспетчера по работе с заказами ...</td>\n      <td>1</td>\n      <td>20</td>\n      <td>...</td>\n      <td>0</td>\n      <td>0</td>\n      <td>0</td>\n      <td>0</td>\n      <td>0</td>\n      <td>0</td>\n      <td>0</td>\n      <td>0</td>\n      <td>0</td>\n      <td>0</td>\n    </tr>\n    <tr>\n      <th>2</th>\n      <td>14731</td>\n      <td>False</td>\n      <td>False</td>\n      <td>200000.0</td>\n      <td>False</td>\n      <td>2021-08-09 09:00:27+00:00</td>\n      <td>2021-08-09 09:00:27+00:00</td>\n      <td>&lt;p&gt;&lt;strong&gt;Кого мы ищем и что тебе предстоит д...</td>\n      <td>1</td>\n      <td>35</td>\n      <td>...</td>\n      <td>0</td>\n      <td>0</td>\n      <td>0</td>\n      <td>0</td>\n      <td>0</td>\n      <td>0</td>\n      <td>0</td>\n      <td>0</td>\n      <td>0</td>\n      <td>0</td>\n    </tr>\n    <tr>\n      <th>3</th>\n      <td>16113</td>\n      <td>False</td>\n      <td>False</td>\n      <td>150000.0</td>\n      <td>False</td>\n      <td>2021-08-08 05:59:07+00:00</td>\n      <td>2021-08-08 05:59:07+00:00</td>\n      <td>&lt;p&gt;INTECH - IT-компания, ведущий контент и сер...</td>\n      <td>1</td>\n      <td>18</td>\n      <td>...</td>\n      <td>0</td>\n      <td>0</td>\n      <td>0</td>\n      <td>0</td>\n      <td>0</td>\n      <td>0</td>\n      <td>0</td>\n      <td>0</td>\n      <td>0</td>\n      <td>0</td>\n    </tr>\n    <tr>\n      <th>4</th>\n      <td>8410</td>\n      <td>False</td>\n      <td>False</td>\n      <td>80000.0</td>\n      <td>False</td>\n      <td>2021-01-12 08:16:14+00:00</td>\n      <td>2021-01-12 08:16:14+00:00</td>\n      <td>&lt;p&gt;&lt;strong&gt;Требования к кандидату:&lt;/strong&gt;&lt;/p...</td>\n      <td>47</td>\n      <td>34</td>\n      <td>...</td>\n      <td>0</td>\n      <td>0</td>\n      <td>0</td>\n      <td>0</td>\n      <td>0</td>\n      <td>0</td>\n      <td>0</td>\n      <td>0</td>\n      <td>0</td>\n      <td>0</td>\n    </tr>\n    <tr>\n      <th>...</th>\n      <td>...</td>\n      <td>...</td>\n      <td>...</td>\n      <td>...</td>\n      <td>...</td>\n      <td>...</td>\n      <td>...</td>\n      <td>...</td>\n      <td>...</td>\n      <td>...</td>\n      <td>...</td>\n      <td>...</td>\n      <td>...</td>\n      <td>...</td>\n      <td>...</td>\n      <td>...</td>\n      <td>...</td>\n      <td>...</td>\n      <td>...</td>\n      <td>...</td>\n      <td>...</td>\n    </tr>\n    <tr>\n      <th>9307</th>\n      <td>29490</td>\n      <td>False</td>\n      <td>False</td>\n      <td>40000.0</td>\n      <td>False</td>\n      <td>2020-06-10 10:47:48+00:00</td>\n      <td>2020-06-10 10:47:48+00:00</td>\n      <td>&lt;p&gt;ООО «Ремсервис»&lt;/p&gt; &lt;p&gt;Москва, Текстильщики...</td>\n      <td>1</td>\n      <td>16</td>\n      <td>...</td>\n      <td>0</td>\n      <td>0</td>\n      <td>0</td>\n      <td>0</td>\n      <td>0</td>\n      <td>0</td>\n      <td>0</td>\n      <td>0</td>\n      <td>0</td>\n      <td>0</td>\n    </tr>\n    <tr>\n      <th>9308</th>\n      <td>34298</td>\n      <td>False</td>\n      <td>False</td>\n      <td>40000.0</td>\n      <td>False</td>\n      <td>2020-11-17 08:25:30+00:00</td>\n      <td>2020-11-17 08:25:30+00:00</td>\n      <td>&lt;p&gt;&lt;strong&gt;IT Рекрутер (удаленно)&lt;/strong&gt;&lt;br ...</td>\n      <td>4</td>\n      <td>22</td>\n      <td>...</td>\n      <td>0</td>\n      <td>0</td>\n      <td>0</td>\n      <td>0</td>\n      <td>0</td>\n      <td>0</td>\n      <td>0</td>\n      <td>0</td>\n      <td>0</td>\n      <td>0</td>\n    </tr>\n    <tr>\n      <th>9309</th>\n      <td>33921</td>\n      <td>False</td>\n      <td>False</td>\n      <td>35000.0</td>\n      <td>True</td>\n      <td>2020-07-15 23:35:09+00:00</td>\n      <td>2020-07-15 23:35:09+00:00</td>\n      <td>&lt;p&gt;&lt;strong&gt;Обязанности:&lt;/strong&gt;&lt;/p&gt; &lt;ul&gt; &lt;li&gt;...</td>\n      <td>1</td>\n      <td>59</td>\n      <td>...</td>\n      <td>0</td>\n      <td>0</td>\n      <td>0</td>\n      <td>0</td>\n      <td>0</td>\n      <td>0</td>\n      <td>0</td>\n      <td>0</td>\n      <td>0</td>\n      <td>0</td>\n    </tr>\n    <tr>\n      <th>9310</th>\n      <td>8886</td>\n      <td>False</td>\n      <td>False</td>\n      <td>NaN</td>\n      <td>False</td>\n      <td>2021-01-22 08:52:50+00:00</td>\n      <td>2021-01-22 08:52:50+00:00</td>\n      <td>&lt;p&gt;&lt;strong&gt;VeronаSchool- &lt;/strong&gt;крупнейшая в...</td>\n      <td>1</td>\n      <td>43</td>\n      <td>...</td>\n      <td>0</td>\n      <td>0</td>\n      <td>0</td>\n      <td>0</td>\n      <td>0</td>\n      <td>0</td>\n      <td>0</td>\n      <td>0</td>\n      <td>0</td>\n      <td>0</td>\n    </tr>\n    <tr>\n      <th>9311</th>\n      <td>23978</td>\n      <td>False</td>\n      <td>False</td>\n      <td>30000.0</td>\n      <td>False</td>\n      <td>2020-04-09 10:10:20+00:00</td>\n      <td>2020-04-09 10:10:20+00:00</td>\n      <td>&lt;strong&gt;Обязанности:&lt;/strong&gt; &lt;ul&gt; &lt;li&gt;Помощни...</td>\n      <td>2</td>\n      <td>31</td>\n      <td>...</td>\n      <td>0</td>\n      <td>0</td>\n      <td>0</td>\n      <td>0</td>\n      <td>0</td>\n      <td>0</td>\n      <td>0</td>\n      <td>0</td>\n      <td>0</td>\n      <td>0</td>\n    </tr>\n  </tbody>\n</table>\n<p>9312 rows × 781 columns</p>\n</div>"
     },
     "execution_count": 25,
     "metadata": {},
     "output_type": "execute_result"
    }
   ],
   "source": [
    "test_encoded_employers = pd.get_dummies(df_test['employer_name'].where(df_test['employer_name'].isin(top_employers)), prefix='employer_name', prefix_sep='_')\n",
    "\n",
    "df_test_encoded = pd.concat([df_test.drop(columns=['employer_name']), test_encoded_employers], axis=1)\n",
    "df_test_encoded"
   ],
   "metadata": {
    "collapsed": false,
    "ExecuteTime": {
     "end_time": "2024-01-13T16:31:45.049743Z",
     "start_time": "2024-01-13T16:31:44.997193Z"
    }
   },
   "id": "5b980957b015e4dc",
   "execution_count": 25
  },
  {
   "cell_type": "code",
   "outputs": [],
   "source": [
    "missing_col = df_train_encoded.columns.difference(df_test_encoded.columns).tolist()"
   ],
   "metadata": {
    "collapsed": false,
    "ExecuteTime": {
     "end_time": "2024-01-13T16:31:51.352939Z",
     "start_time": "2024-01-13T16:31:51.315223Z"
    }
   },
   "id": "e3cc73eae70d5703",
   "execution_count": 26
  },
  {
   "cell_type": "code",
   "outputs": [],
   "source": [
    "for col in missing_col:\n",
    "    df_test_encoded.loc[:, col] = 0"
   ],
   "metadata": {
    "collapsed": false,
    "ExecuteTime": {
     "end_time": "2024-01-13T16:31:51.874536Z",
     "start_time": "2024-01-13T16:31:51.839863Z"
    }
   },
   "id": "465babc776856973",
   "execution_count": 27
  },
  {
   "cell_type": "markdown",
   "source": [
    "Description"
   ],
   "metadata": {
    "collapsed": false
   },
   "id": "a55d69c1507ec240"
  },
  {
   "cell_type": "code",
   "outputs": [],
   "source": [
    "df_train_encoded.dropna(subset=['description'], inplace=True)"
   ],
   "metadata": {
    "collapsed": false,
    "ExecuteTime": {
     "end_time": "2024-01-13T16:32:27.985057Z",
     "start_time": "2024-01-13T16:32:27.917361Z"
    }
   },
   "id": "9216fdad7c342715",
   "execution_count": 28
  },
  {
   "cell_type": "code",
   "outputs": [
    {
     "name": "stderr",
     "output_type": "stream",
     "text": [
      "/Users/rpopov/PycharmProjects/data_analysis/venv/lib/python3.9/site-packages/bs4/__init__.py:435: MarkupResemblesLocatorWarning: The input looks more like a filename than markup. You may want to open this file and pass the filehandle into Beautiful Soup.\n",
      "  warnings.warn(\n"
     ]
    }
   ],
   "source": [
    "df_train_encoded['description'] = df_train_encoded['description'].apply(lambda x: BeautifulSoup(x, 'html.parser').get_text())\n",
    "df_test_encoded['description'] = df_test_encoded['description'].apply(lambda x: BeautifulSoup(x, 'html.parser').get_text())"
   ],
   "metadata": {
    "collapsed": false,
    "ExecuteTime": {
     "end_time": "2024-01-13T16:32:47.533579Z",
     "start_time": "2024-01-13T16:32:28.468697Z"
    }
   },
   "id": "da8e4fff06ba9",
   "execution_count": 29
  },
  {
   "cell_type": "code",
   "outputs": [],
   "source": [
    "df_train_encoded['description_length'] = df_train_encoded['description'].apply(lambda x: len(x))\n",
    "df_train_encoded['word_count'] = df_train_encoded['description'].apply(lambda x: len(x.split()))"
   ],
   "metadata": {
    "collapsed": false,
    "ExecuteTime": {
     "end_time": "2024-01-13T16:33:00.024517Z",
     "start_time": "2024-01-13T16:32:59.773655Z"
    }
   },
   "id": "47ffce87c7772a88",
   "execution_count": 30
  },
  {
   "cell_type": "code",
   "outputs": [],
   "source": [
    "df_test_encoded['description_length'] = df_test_encoded['description'].apply(lambda x: len(x))\n",
    "df_test_encoded['word_count'] = df_test_encoded['description'].apply(lambda x: len(x.split()))"
   ],
   "metadata": {
    "collapsed": false,
    "ExecuteTime": {
     "end_time": "2024-01-13T16:33:00.211420Z",
     "start_time": "2024-01-13T16:33:00.195629Z"
    }
   },
   "id": "d3c292c24cd42059",
   "execution_count": 31
  },
  {
   "cell_type": "code",
   "outputs": [],
   "source": [
    "from sklearn.feature_extraction.text import TfidfVectorizer\n",
    "\n",
    "vectorizer = TfidfVectorizer(stop_words=stop_words, max_features=200)"
   ],
   "metadata": {
    "collapsed": false,
    "ExecuteTime": {
     "end_time": "2024-01-13T16:33:00.760214Z",
     "start_time": "2024-01-13T16:33:00.745061Z"
    }
   },
   "id": "b98405b95026c89",
   "execution_count": 32
  },
  {
   "cell_type": "code",
   "outputs": [],
   "source": [
    "df_description_train = pd.concat([df_train_encoded['description'], df_test_encoded['description']])\n",
    "tfidf_matrix = vectorizer.fit_transform(df_description_train)\n",
    "tfidf_df = pd.DataFrame(tfidf_matrix.toarray(), columns=vectorizer.get_feature_names_out())"
   ],
   "metadata": {
    "collapsed": false,
    "ExecuteTime": {
     "end_time": "2024-01-13T16:33:05.202661Z",
     "start_time": "2024-01-13T16:33:01.850117Z"
    }
   },
   "id": "113f2a5f310b44b8",
   "execution_count": 33
  },
  {
   "cell_type": "code",
   "outputs": [
    {
     "data": {
      "text/plain": "          id  has_test  response_letter_required  salary_from  salary_gross  \\\n0      29083     False                     False          NaN         False   \n1      26052     False                     False     120000.0         False   \n2      24055     False                     False          NaN         False   \n3       4408     False                     False      33500.0          True   \n4      16856     False                      True      30000.0          True   \n...      ...       ...                       ...          ...           ...   \n27780  16850     False                     False     120000.0         False   \n27781   6265     False                     False      33500.0          True   \n27782  11284     False                     False      50000.0         False   \n27783    860     False                     False      60000.0         False   \n27784  15795     False                     False      30000.0         False   \n\n                   published_at                created_at  area_id  \\\n0     2020-06-16 06:45:04+00:00 2020-06-16 06:45:04+00:00        1   \n1     2020-07-22 10:24:15+00:00 2020-07-22 10:24:15+00:00        1   \n2     2020-04-12 08:19:08+00:00 2020-04-12 08:19:08+00:00        1   \n3     2020-08-24 01:16:52+00:00 2020-08-24 01:16:52+00:00        1   \n4     2021-09-18 13:30:15+00:00 2021-09-18 13:30:15+00:00        1   \n...                         ...                       ...      ...   \n27780 2021-10-03 10:04:45+00:00 2021-10-03 10:04:45+00:00        1   \n27781 2020-09-07 00:32:00+00:00 2020-09-07 00:32:00+00:00        1   \n27782 2021-04-20 08:25:44+00:00 2021-04-20 08:25:44+00:00        1   \n27783 2020-11-15 11:12:07+00:00 2020-11-15 11:12:07+00:00        1   \n27784 2021-08-11 09:41:00+00:00 2021-08-11 09:41:00+00:00       11   \n\n       name_length  name_word_count  ...    умение   уровень    уровне  \\\n0               60                7  ...  0.000000  0.212626  0.000000   \n1               50                6  ...  0.000000  0.096814  0.000000   \n2               27                3  ...  0.230722  0.000000  0.000000   \n3               41                4  ...  0.000000  0.000000  0.000000   \n4               21                1  ...  0.000000  0.000000  0.186249   \n...            ...              ...  ...       ...       ...       ...   \n27780           59                7  ...  0.057445  0.000000  0.000000   \n27781           49                9  ...  0.000000  0.000000  0.000000   \n27782           23                3  ...  0.102169  0.000000  0.000000   \n27783           29                4  ...  0.000000  0.000000  0.000000   \n27784           13                1  ...  0.000000  0.000000  0.207936   \n\n        условия  услуг  участие  формирование  часов   человек       это  \n0      0.097219    0.0      0.0      0.000000    0.0  0.000000  0.000000  \n1      0.000000    0.0      0.0      0.000000    0.0  0.115474  0.084806  \n2      0.049889    0.0      0.0      0.000000    0.0  0.000000  0.000000  \n3      0.000000    0.0      0.0      0.000000    0.0  0.000000  0.000000  \n4      0.150600    0.0      0.0      0.000000    0.0  0.000000  0.000000  \n...         ...    ...      ...           ...    ...       ...       ...  \n27780  0.037264    0.0      0.0      0.099616    0.0  0.000000  0.000000  \n27781  0.000000    0.0      0.0      0.000000    0.0  0.000000  0.000000  \n27782  0.066277    0.0      0.0      0.000000    0.0  0.000000  0.000000  \n27783  0.097912    0.0      0.0      0.000000    0.0  0.000000  0.000000  \n27784  0.084068    0.0      0.0      0.000000    0.0  0.000000  0.000000  \n\n[27785 rows x 999 columns]",
      "text/html": "<div>\n<style scoped>\n    .dataframe tbody tr th:only-of-type {\n        vertical-align: middle;\n    }\n\n    .dataframe tbody tr th {\n        vertical-align: top;\n    }\n\n    .dataframe thead th {\n        text-align: right;\n    }\n</style>\n<table border=\"1\" class=\"dataframe\">\n  <thead>\n    <tr style=\"text-align: right;\">\n      <th></th>\n      <th>id</th>\n      <th>has_test</th>\n      <th>response_letter_required</th>\n      <th>salary_from</th>\n      <th>salary_gross</th>\n      <th>published_at</th>\n      <th>created_at</th>\n      <th>area_id</th>\n      <th>name_length</th>\n      <th>name_word_count</th>\n      <th>...</th>\n      <th>умение</th>\n      <th>уровень</th>\n      <th>уровне</th>\n      <th>условия</th>\n      <th>услуг</th>\n      <th>участие</th>\n      <th>формирование</th>\n      <th>часов</th>\n      <th>человек</th>\n      <th>это</th>\n    </tr>\n  </thead>\n  <tbody>\n    <tr>\n      <th>0</th>\n      <td>29083</td>\n      <td>False</td>\n      <td>False</td>\n      <td>NaN</td>\n      <td>False</td>\n      <td>2020-06-16 06:45:04+00:00</td>\n      <td>2020-06-16 06:45:04+00:00</td>\n      <td>1</td>\n      <td>60</td>\n      <td>7</td>\n      <td>...</td>\n      <td>0.000000</td>\n      <td>0.212626</td>\n      <td>0.000000</td>\n      <td>0.097219</td>\n      <td>0.0</td>\n      <td>0.0</td>\n      <td>0.000000</td>\n      <td>0.0</td>\n      <td>0.000000</td>\n      <td>0.000000</td>\n    </tr>\n    <tr>\n      <th>1</th>\n      <td>26052</td>\n      <td>False</td>\n      <td>False</td>\n      <td>120000.0</td>\n      <td>False</td>\n      <td>2020-07-22 10:24:15+00:00</td>\n      <td>2020-07-22 10:24:15+00:00</td>\n      <td>1</td>\n      <td>50</td>\n      <td>6</td>\n      <td>...</td>\n      <td>0.000000</td>\n      <td>0.096814</td>\n      <td>0.000000</td>\n      <td>0.000000</td>\n      <td>0.0</td>\n      <td>0.0</td>\n      <td>0.000000</td>\n      <td>0.0</td>\n      <td>0.115474</td>\n      <td>0.084806</td>\n    </tr>\n    <tr>\n      <th>2</th>\n      <td>24055</td>\n      <td>False</td>\n      <td>False</td>\n      <td>NaN</td>\n      <td>False</td>\n      <td>2020-04-12 08:19:08+00:00</td>\n      <td>2020-04-12 08:19:08+00:00</td>\n      <td>1</td>\n      <td>27</td>\n      <td>3</td>\n      <td>...</td>\n      <td>0.230722</td>\n      <td>0.000000</td>\n      <td>0.000000</td>\n      <td>0.049889</td>\n      <td>0.0</td>\n      <td>0.0</td>\n      <td>0.000000</td>\n      <td>0.0</td>\n      <td>0.000000</td>\n      <td>0.000000</td>\n    </tr>\n    <tr>\n      <th>3</th>\n      <td>4408</td>\n      <td>False</td>\n      <td>False</td>\n      <td>33500.0</td>\n      <td>True</td>\n      <td>2020-08-24 01:16:52+00:00</td>\n      <td>2020-08-24 01:16:52+00:00</td>\n      <td>1</td>\n      <td>41</td>\n      <td>4</td>\n      <td>...</td>\n      <td>0.000000</td>\n      <td>0.000000</td>\n      <td>0.000000</td>\n      <td>0.000000</td>\n      <td>0.0</td>\n      <td>0.0</td>\n      <td>0.000000</td>\n      <td>0.0</td>\n      <td>0.000000</td>\n      <td>0.000000</td>\n    </tr>\n    <tr>\n      <th>4</th>\n      <td>16856</td>\n      <td>False</td>\n      <td>True</td>\n      <td>30000.0</td>\n      <td>True</td>\n      <td>2021-09-18 13:30:15+00:00</td>\n      <td>2021-09-18 13:30:15+00:00</td>\n      <td>1</td>\n      <td>21</td>\n      <td>1</td>\n      <td>...</td>\n      <td>0.000000</td>\n      <td>0.000000</td>\n      <td>0.186249</td>\n      <td>0.150600</td>\n      <td>0.0</td>\n      <td>0.0</td>\n      <td>0.000000</td>\n      <td>0.0</td>\n      <td>0.000000</td>\n      <td>0.000000</td>\n    </tr>\n    <tr>\n      <th>...</th>\n      <td>...</td>\n      <td>...</td>\n      <td>...</td>\n      <td>...</td>\n      <td>...</td>\n      <td>...</td>\n      <td>...</td>\n      <td>...</td>\n      <td>...</td>\n      <td>...</td>\n      <td>...</td>\n      <td>...</td>\n      <td>...</td>\n      <td>...</td>\n      <td>...</td>\n      <td>...</td>\n      <td>...</td>\n      <td>...</td>\n      <td>...</td>\n      <td>...</td>\n      <td>...</td>\n    </tr>\n    <tr>\n      <th>27780</th>\n      <td>16850</td>\n      <td>False</td>\n      <td>False</td>\n      <td>120000.0</td>\n      <td>False</td>\n      <td>2021-10-03 10:04:45+00:00</td>\n      <td>2021-10-03 10:04:45+00:00</td>\n      <td>1</td>\n      <td>59</td>\n      <td>7</td>\n      <td>...</td>\n      <td>0.057445</td>\n      <td>0.000000</td>\n      <td>0.000000</td>\n      <td>0.037264</td>\n      <td>0.0</td>\n      <td>0.0</td>\n      <td>0.099616</td>\n      <td>0.0</td>\n      <td>0.000000</td>\n      <td>0.000000</td>\n    </tr>\n    <tr>\n      <th>27781</th>\n      <td>6265</td>\n      <td>False</td>\n      <td>False</td>\n      <td>33500.0</td>\n      <td>True</td>\n      <td>2020-09-07 00:32:00+00:00</td>\n      <td>2020-09-07 00:32:00+00:00</td>\n      <td>1</td>\n      <td>49</td>\n      <td>9</td>\n      <td>...</td>\n      <td>0.000000</td>\n      <td>0.000000</td>\n      <td>0.000000</td>\n      <td>0.000000</td>\n      <td>0.0</td>\n      <td>0.0</td>\n      <td>0.000000</td>\n      <td>0.0</td>\n      <td>0.000000</td>\n      <td>0.000000</td>\n    </tr>\n    <tr>\n      <th>27782</th>\n      <td>11284</td>\n      <td>False</td>\n      <td>False</td>\n      <td>50000.0</td>\n      <td>False</td>\n      <td>2021-04-20 08:25:44+00:00</td>\n      <td>2021-04-20 08:25:44+00:00</td>\n      <td>1</td>\n      <td>23</td>\n      <td>3</td>\n      <td>...</td>\n      <td>0.102169</td>\n      <td>0.000000</td>\n      <td>0.000000</td>\n      <td>0.066277</td>\n      <td>0.0</td>\n      <td>0.0</td>\n      <td>0.000000</td>\n      <td>0.0</td>\n      <td>0.000000</td>\n      <td>0.000000</td>\n    </tr>\n    <tr>\n      <th>27783</th>\n      <td>860</td>\n      <td>False</td>\n      <td>False</td>\n      <td>60000.0</td>\n      <td>False</td>\n      <td>2020-11-15 11:12:07+00:00</td>\n      <td>2020-11-15 11:12:07+00:00</td>\n      <td>1</td>\n      <td>29</td>\n      <td>4</td>\n      <td>...</td>\n      <td>0.000000</td>\n      <td>0.000000</td>\n      <td>0.000000</td>\n      <td>0.097912</td>\n      <td>0.0</td>\n      <td>0.0</td>\n      <td>0.000000</td>\n      <td>0.0</td>\n      <td>0.000000</td>\n      <td>0.000000</td>\n    </tr>\n    <tr>\n      <th>27784</th>\n      <td>15795</td>\n      <td>False</td>\n      <td>False</td>\n      <td>30000.0</td>\n      <td>False</td>\n      <td>2021-08-11 09:41:00+00:00</td>\n      <td>2021-08-11 09:41:00+00:00</td>\n      <td>11</td>\n      <td>13</td>\n      <td>1</td>\n      <td>...</td>\n      <td>0.000000</td>\n      <td>0.000000</td>\n      <td>0.207936</td>\n      <td>0.084068</td>\n      <td>0.0</td>\n      <td>0.0</td>\n      <td>0.000000</td>\n      <td>0.0</td>\n      <td>0.000000</td>\n      <td>0.000000</td>\n    </tr>\n  </tbody>\n</table>\n<p>27785 rows × 999 columns</p>\n</div>"
     },
     "execution_count": 34,
     "metadata": {},
     "output_type": "execute_result"
    }
   ],
   "source": [
    "df_train_encoded = pd.concat([df_train_encoded.drop(columns=['description']).reset_index(drop=True), tfidf_df.iloc[:len(df_train_encoded)]], axis=1)\n",
    "df_train_encoded"
   ],
   "metadata": {
    "collapsed": false,
    "ExecuteTime": {
     "end_time": "2024-01-13T16:33:05.819346Z",
     "start_time": "2024-01-13T16:33:05.766647Z"
    }
   },
   "id": "e3b02df49ec1efd0",
   "execution_count": 34
  },
  {
   "cell_type": "code",
   "outputs": [
    {
     "data": {
      "text/plain": "         id  has_test  response_letter_required  salary_from  salary_gross  \\\n0     20978     False                     False      35000.0         False   \n1      3102     False                     False      20000.0         False   \n2     14731     False                     False     200000.0         False   \n3     16113     False                     False     150000.0         False   \n4      8410     False                     False      80000.0         False   \n...     ...       ...                       ...          ...           ...   \n9307  29490     False                     False      40000.0         False   \n9308  34298     False                     False      40000.0         False   \n9309  33921     False                     False      35000.0          True   \n9310   8886     False                     False          NaN         False   \n9311  23978     False                     False      30000.0         False   \n\n                  published_at                created_at  area_id  \\\n0    2020-03-23 10:49:43+00:00 2020-03-23 10:49:43+00:00        1   \n1    2020-08-18 10:29:11+00:00 2020-08-18 10:29:11+00:00        1   \n2    2021-08-09 09:00:27+00:00 2021-08-09 09:00:27+00:00        1   \n3    2021-08-08 05:59:07+00:00 2021-08-08 05:59:07+00:00        1   \n4    2021-01-12 08:16:14+00:00 2021-01-12 08:16:14+00:00       47   \n...                        ...                       ...      ...   \n9307 2020-06-10 10:47:48+00:00 2020-06-10 10:47:48+00:00        1   \n9308 2020-11-17 08:25:30+00:00 2020-11-17 08:25:30+00:00        4   \n9309 2020-07-15 23:35:09+00:00 2020-07-15 23:35:09+00:00        1   \n9310 2021-01-22 08:52:50+00:00 2021-01-22 08:52:50+00:00        1   \n9311 2020-04-09 10:10:20+00:00 2020-04-09 10:10:20+00:00        2   \n\n      name_length  name_word_count  ...    умение   уровень    уровне  \\\n0              70               10  ...  0.000000  0.168517  0.000000   \n1              20                3  ...  0.285201  0.000000  0.000000   \n2              35                5  ...  0.000000  0.000000  0.123489   \n3              18                2  ...  0.075107  0.000000  0.000000   \n4              34                3  ...  0.000000  0.000000  0.230316   \n...           ...              ...  ...       ...       ...       ...   \n9307           16                2  ...  0.000000  0.000000  0.000000   \n9308           22                3  ...  0.000000  0.000000  0.000000   \n9309           59                7  ...  0.000000  0.000000  0.000000   \n9310           43                4  ...  0.000000  0.000000  0.000000   \n9311           31                3  ...  0.000000  0.000000  0.000000   \n\n       условия     услуг   участие  формирование     часов  человек       это  \n0     0.231153  0.000000  0.000000      0.000000  0.000000  0.00000  0.000000  \n1     0.061670  0.000000  0.000000      0.000000  0.000000  0.00000  0.118148  \n2     0.000000  0.000000  0.000000      0.000000  0.254638  0.13024  0.000000  \n3     0.000000  0.122702  0.096434      0.000000  0.000000  0.00000  0.000000  \n4     0.093116  0.000000  0.000000      0.000000  0.237459  0.00000  0.000000  \n...        ...       ...       ...           ...       ...      ...       ...  \n9307  0.105463  0.000000  0.000000      0.000000  0.000000  0.00000  0.000000  \n9308  0.048481  0.000000  0.095957      0.000000  0.000000  0.00000  0.000000  \n9309  0.073839  0.000000  0.146149      0.197389  0.000000  0.00000  0.000000  \n9310  0.193903  0.000000  0.000000      0.000000  0.000000  0.00000  0.000000  \n9311  0.168434  0.000000  0.000000      0.000000  0.000000  0.00000  0.000000  \n\n[9312 rows x 999 columns]",
      "text/html": "<div>\n<style scoped>\n    .dataframe tbody tr th:only-of-type {\n        vertical-align: middle;\n    }\n\n    .dataframe tbody tr th {\n        vertical-align: top;\n    }\n\n    .dataframe thead th {\n        text-align: right;\n    }\n</style>\n<table border=\"1\" class=\"dataframe\">\n  <thead>\n    <tr style=\"text-align: right;\">\n      <th></th>\n      <th>id</th>\n      <th>has_test</th>\n      <th>response_letter_required</th>\n      <th>salary_from</th>\n      <th>salary_gross</th>\n      <th>published_at</th>\n      <th>created_at</th>\n      <th>area_id</th>\n      <th>name_length</th>\n      <th>name_word_count</th>\n      <th>...</th>\n      <th>умение</th>\n      <th>уровень</th>\n      <th>уровне</th>\n      <th>условия</th>\n      <th>услуг</th>\n      <th>участие</th>\n      <th>формирование</th>\n      <th>часов</th>\n      <th>человек</th>\n      <th>это</th>\n    </tr>\n  </thead>\n  <tbody>\n    <tr>\n      <th>0</th>\n      <td>20978</td>\n      <td>False</td>\n      <td>False</td>\n      <td>35000.0</td>\n      <td>False</td>\n      <td>2020-03-23 10:49:43+00:00</td>\n      <td>2020-03-23 10:49:43+00:00</td>\n      <td>1</td>\n      <td>70</td>\n      <td>10</td>\n      <td>...</td>\n      <td>0.000000</td>\n      <td>0.168517</td>\n      <td>0.000000</td>\n      <td>0.231153</td>\n      <td>0.000000</td>\n      <td>0.000000</td>\n      <td>0.000000</td>\n      <td>0.000000</td>\n      <td>0.00000</td>\n      <td>0.000000</td>\n    </tr>\n    <tr>\n      <th>1</th>\n      <td>3102</td>\n      <td>False</td>\n      <td>False</td>\n      <td>20000.0</td>\n      <td>False</td>\n      <td>2020-08-18 10:29:11+00:00</td>\n      <td>2020-08-18 10:29:11+00:00</td>\n      <td>1</td>\n      <td>20</td>\n      <td>3</td>\n      <td>...</td>\n      <td>0.285201</td>\n      <td>0.000000</td>\n      <td>0.000000</td>\n      <td>0.061670</td>\n      <td>0.000000</td>\n      <td>0.000000</td>\n      <td>0.000000</td>\n      <td>0.000000</td>\n      <td>0.00000</td>\n      <td>0.118148</td>\n    </tr>\n    <tr>\n      <th>2</th>\n      <td>14731</td>\n      <td>False</td>\n      <td>False</td>\n      <td>200000.0</td>\n      <td>False</td>\n      <td>2021-08-09 09:00:27+00:00</td>\n      <td>2021-08-09 09:00:27+00:00</td>\n      <td>1</td>\n      <td>35</td>\n      <td>5</td>\n      <td>...</td>\n      <td>0.000000</td>\n      <td>0.000000</td>\n      <td>0.123489</td>\n      <td>0.000000</td>\n      <td>0.000000</td>\n      <td>0.000000</td>\n      <td>0.000000</td>\n      <td>0.254638</td>\n      <td>0.13024</td>\n      <td>0.000000</td>\n    </tr>\n    <tr>\n      <th>3</th>\n      <td>16113</td>\n      <td>False</td>\n      <td>False</td>\n      <td>150000.0</td>\n      <td>False</td>\n      <td>2021-08-08 05:59:07+00:00</td>\n      <td>2021-08-08 05:59:07+00:00</td>\n      <td>1</td>\n      <td>18</td>\n      <td>2</td>\n      <td>...</td>\n      <td>0.075107</td>\n      <td>0.000000</td>\n      <td>0.000000</td>\n      <td>0.000000</td>\n      <td>0.122702</td>\n      <td>0.096434</td>\n      <td>0.000000</td>\n      <td>0.000000</td>\n      <td>0.00000</td>\n      <td>0.000000</td>\n    </tr>\n    <tr>\n      <th>4</th>\n      <td>8410</td>\n      <td>False</td>\n      <td>False</td>\n      <td>80000.0</td>\n      <td>False</td>\n      <td>2021-01-12 08:16:14+00:00</td>\n      <td>2021-01-12 08:16:14+00:00</td>\n      <td>47</td>\n      <td>34</td>\n      <td>3</td>\n      <td>...</td>\n      <td>0.000000</td>\n      <td>0.000000</td>\n      <td>0.230316</td>\n      <td>0.093116</td>\n      <td>0.000000</td>\n      <td>0.000000</td>\n      <td>0.000000</td>\n      <td>0.237459</td>\n      <td>0.00000</td>\n      <td>0.000000</td>\n    </tr>\n    <tr>\n      <th>...</th>\n      <td>...</td>\n      <td>...</td>\n      <td>...</td>\n      <td>...</td>\n      <td>...</td>\n      <td>...</td>\n      <td>...</td>\n      <td>...</td>\n      <td>...</td>\n      <td>...</td>\n      <td>...</td>\n      <td>...</td>\n      <td>...</td>\n      <td>...</td>\n      <td>...</td>\n      <td>...</td>\n      <td>...</td>\n      <td>...</td>\n      <td>...</td>\n      <td>...</td>\n      <td>...</td>\n    </tr>\n    <tr>\n      <th>9307</th>\n      <td>29490</td>\n      <td>False</td>\n      <td>False</td>\n      <td>40000.0</td>\n      <td>False</td>\n      <td>2020-06-10 10:47:48+00:00</td>\n      <td>2020-06-10 10:47:48+00:00</td>\n      <td>1</td>\n      <td>16</td>\n      <td>2</td>\n      <td>...</td>\n      <td>0.000000</td>\n      <td>0.000000</td>\n      <td>0.000000</td>\n      <td>0.105463</td>\n      <td>0.000000</td>\n      <td>0.000000</td>\n      <td>0.000000</td>\n      <td>0.000000</td>\n      <td>0.00000</td>\n      <td>0.000000</td>\n    </tr>\n    <tr>\n      <th>9308</th>\n      <td>34298</td>\n      <td>False</td>\n      <td>False</td>\n      <td>40000.0</td>\n      <td>False</td>\n      <td>2020-11-17 08:25:30+00:00</td>\n      <td>2020-11-17 08:25:30+00:00</td>\n      <td>4</td>\n      <td>22</td>\n      <td>3</td>\n      <td>...</td>\n      <td>0.000000</td>\n      <td>0.000000</td>\n      <td>0.000000</td>\n      <td>0.048481</td>\n      <td>0.000000</td>\n      <td>0.095957</td>\n      <td>0.000000</td>\n      <td>0.000000</td>\n      <td>0.00000</td>\n      <td>0.000000</td>\n    </tr>\n    <tr>\n      <th>9309</th>\n      <td>33921</td>\n      <td>False</td>\n      <td>False</td>\n      <td>35000.0</td>\n      <td>True</td>\n      <td>2020-07-15 23:35:09+00:00</td>\n      <td>2020-07-15 23:35:09+00:00</td>\n      <td>1</td>\n      <td>59</td>\n      <td>7</td>\n      <td>...</td>\n      <td>0.000000</td>\n      <td>0.000000</td>\n      <td>0.000000</td>\n      <td>0.073839</td>\n      <td>0.000000</td>\n      <td>0.146149</td>\n      <td>0.197389</td>\n      <td>0.000000</td>\n      <td>0.00000</td>\n      <td>0.000000</td>\n    </tr>\n    <tr>\n      <th>9310</th>\n      <td>8886</td>\n      <td>False</td>\n      <td>False</td>\n      <td>NaN</td>\n      <td>False</td>\n      <td>2021-01-22 08:52:50+00:00</td>\n      <td>2021-01-22 08:52:50+00:00</td>\n      <td>1</td>\n      <td>43</td>\n      <td>4</td>\n      <td>...</td>\n      <td>0.000000</td>\n      <td>0.000000</td>\n      <td>0.000000</td>\n      <td>0.193903</td>\n      <td>0.000000</td>\n      <td>0.000000</td>\n      <td>0.000000</td>\n      <td>0.000000</td>\n      <td>0.00000</td>\n      <td>0.000000</td>\n    </tr>\n    <tr>\n      <th>9311</th>\n      <td>23978</td>\n      <td>False</td>\n      <td>False</td>\n      <td>30000.0</td>\n      <td>False</td>\n      <td>2020-04-09 10:10:20+00:00</td>\n      <td>2020-04-09 10:10:20+00:00</td>\n      <td>2</td>\n      <td>31</td>\n      <td>3</td>\n      <td>...</td>\n      <td>0.000000</td>\n      <td>0.000000</td>\n      <td>0.000000</td>\n      <td>0.168434</td>\n      <td>0.000000</td>\n      <td>0.000000</td>\n      <td>0.000000</td>\n      <td>0.000000</td>\n      <td>0.00000</td>\n      <td>0.000000</td>\n    </tr>\n  </tbody>\n</table>\n<p>9312 rows × 999 columns</p>\n</div>"
     },
     "execution_count": 35,
     "metadata": {},
     "output_type": "execute_result"
    }
   ],
   "source": [
    "df_test_encoded = pd.concat([df_test_encoded.drop(columns=['description']),  tfidf_df.iloc[len(df_train_encoded):].reset_index(drop=True)], axis=1)\n",
    "df_test_encoded"
   ],
   "metadata": {
    "collapsed": false,
    "ExecuteTime": {
     "end_time": "2024-01-13T16:33:07.968730Z",
     "start_time": "2024-01-13T16:33:07.947172Z"
    }
   },
   "id": "5ac99874604fcdf3",
   "execution_count": 35
  },
  {
   "cell_type": "markdown",
   "source": [
    "Time"
   ],
   "metadata": {
    "collapsed": false
   },
   "id": "b8204965ebc7c116"
  },
  {
   "cell_type": "code",
   "outputs": [],
   "source": [
    "df_train_encoded['published_day_of_week'] = df_train_encoded['published_at'].dt.dayofweek\n",
    "df_train_encoded['published_hour'] = df_train_encoded['published_at'].dt.hour\n",
    "df_train_encoded['published_day_of_month'] = df_train_encoded['published_at'].dt.day"
   ],
   "metadata": {
    "collapsed": false,
    "ExecuteTime": {
     "end_time": "2024-01-13T16:33:31.732263Z",
     "start_time": "2024-01-13T16:33:31.706149Z"
    }
   },
   "id": "dbab610690c248e4",
   "execution_count": 36
  },
  {
   "cell_type": "code",
   "outputs": [],
   "source": [
    "df_test_encoded['published_day_of_week'] = df_test_encoded['published_at'].dt.dayofweek\n",
    "df_test_encoded['published_hour'] = df_test_encoded['published_at'].dt.hour\n",
    "df_test_encoded['published_day_of_month'] = df_test_encoded['published_at'].dt.day"
   ],
   "metadata": {
    "collapsed": false,
    "ExecuteTime": {
     "end_time": "2024-01-13T16:33:32.165393Z",
     "start_time": "2024-01-13T16:33:32.153897Z"
    }
   },
   "id": "949bc2334354d2a7",
   "execution_count": 37
  },
  {
   "cell_type": "code",
   "outputs": [],
   "source": [
    "df_train_encoded['published_day'] = df_train_encoded['published_at'].dt.day\n",
    "df_train_encoded['published_month'] = df_train_encoded['published_at'].dt.month\n",
    "df_train_encoded['published_year'] = df_train_encoded['published_at'].dt.year"
   ],
   "metadata": {
    "collapsed": false,
    "ExecuteTime": {
     "end_time": "2024-01-13T16:33:32.508183Z",
     "start_time": "2024-01-13T16:33:32.497558Z"
    }
   },
   "id": "db8285c304638adc",
   "execution_count": 38
  },
  {
   "cell_type": "code",
   "outputs": [],
   "source": [
    "df_test_encoded['published_day'] = df_test_encoded['published_at'].dt.day\n",
    "df_test_encoded['published_month'] = df_test_encoded['published_at'].dt.month\n",
    "df_test_encoded['published_year'] = df_test_encoded['published_at'].dt.year"
   ],
   "metadata": {
    "collapsed": false,
    "ExecuteTime": {
     "end_time": "2024-01-13T16:33:32.781226Z",
     "start_time": "2024-01-13T16:33:32.770066Z"
    }
   },
   "id": "e40ef1266d5499d9",
   "execution_count": 39
  },
  {
   "cell_type": "code",
   "outputs": [
    {
     "data": {
      "text/plain": "          id  has_test  response_letter_required  salary_from  salary_gross  \\\n0      29083     False                     False          NaN         False   \n1      26052     False                     False     120000.0         False   \n2      24055     False                     False          NaN         False   \n3       4408     False                     False      33500.0          True   \n4      16856     False                      True      30000.0          True   \n...      ...       ...                       ...          ...           ...   \n27780  16850     False                     False     120000.0         False   \n27781   6265     False                     False      33500.0          True   \n27782  11284     False                     False      50000.0         False   \n27783    860     False                     False      60000.0         False   \n27784  15795     False                     False      30000.0         False   \n\n       area_id  name_length  name_word_count  area_name_Адлер  area_name_Азов  \\\n0            1           60                7                0               0   \n1            1           50                6                0               0   \n2            1           27                3                0               0   \n3            1           41                4                0               0   \n4            1           21                1                0               0   \n...        ...          ...              ...              ...             ...   \n27780        1           59                7                0               0   \n27781        1           49                9                0               0   \n27782        1           23                3                0               0   \n27783        1           29                4                0               0   \n27784       11           13                1                0               0   \n\n       ...       это  published_day_of_week  published_hour  \\\n0      ...  0.000000                      1               6   \n1      ...  0.084806                      2              10   \n2      ...  0.000000                      6               8   \n3      ...  0.000000                      0               1   \n4      ...  0.000000                      5              13   \n...    ...       ...                    ...             ...   \n27780  ...  0.000000                      6              10   \n27781  ...  0.000000                      0               0   \n27782  ...  0.000000                      1               8   \n27783  ...  0.000000                      6              11   \n27784  ...  0.000000                      2               9   \n\n       published_day_of_month  published_day  published_month  published_year  \\\n0                          16             16                6            2020   \n1                          22             22                7            2020   \n2                          12             12                4            2020   \n3                          24             24                8            2020   \n4                          18             18                9            2021   \n...                       ...            ...              ...             ...   \n27780                       3              3               10            2021   \n27781                       7              7                9            2020   \n27782                      20             20                4            2021   \n27783                      15             15               11            2020   \n27784                      11             11                8            2021   \n\n       created_day  created_month  created_year  \n0               16              6          2020  \n1               22              7          2020  \n2               12              4          2020  \n3               24              8          2020  \n4               18              9          2021  \n...            ...            ...           ...  \n27780            3             10          2021  \n27781            7              9          2020  \n27782           20              4          2021  \n27783           15             11          2020  \n27784           11              8          2021  \n\n[27785 rows x 1006 columns]",
      "text/html": "<div>\n<style scoped>\n    .dataframe tbody tr th:only-of-type {\n        vertical-align: middle;\n    }\n\n    .dataframe tbody tr th {\n        vertical-align: top;\n    }\n\n    .dataframe thead th {\n        text-align: right;\n    }\n</style>\n<table border=\"1\" class=\"dataframe\">\n  <thead>\n    <tr style=\"text-align: right;\">\n      <th></th>\n      <th>id</th>\n      <th>has_test</th>\n      <th>response_letter_required</th>\n      <th>salary_from</th>\n      <th>salary_gross</th>\n      <th>area_id</th>\n      <th>name_length</th>\n      <th>name_word_count</th>\n      <th>area_name_Адлер</th>\n      <th>area_name_Азов</th>\n      <th>...</th>\n      <th>это</th>\n      <th>published_day_of_week</th>\n      <th>published_hour</th>\n      <th>published_day_of_month</th>\n      <th>published_day</th>\n      <th>published_month</th>\n      <th>published_year</th>\n      <th>created_day</th>\n      <th>created_month</th>\n      <th>created_year</th>\n    </tr>\n  </thead>\n  <tbody>\n    <tr>\n      <th>0</th>\n      <td>29083</td>\n      <td>False</td>\n      <td>False</td>\n      <td>NaN</td>\n      <td>False</td>\n      <td>1</td>\n      <td>60</td>\n      <td>7</td>\n      <td>0</td>\n      <td>0</td>\n      <td>...</td>\n      <td>0.000000</td>\n      <td>1</td>\n      <td>6</td>\n      <td>16</td>\n      <td>16</td>\n      <td>6</td>\n      <td>2020</td>\n      <td>16</td>\n      <td>6</td>\n      <td>2020</td>\n    </tr>\n    <tr>\n      <th>1</th>\n      <td>26052</td>\n      <td>False</td>\n      <td>False</td>\n      <td>120000.0</td>\n      <td>False</td>\n      <td>1</td>\n      <td>50</td>\n      <td>6</td>\n      <td>0</td>\n      <td>0</td>\n      <td>...</td>\n      <td>0.084806</td>\n      <td>2</td>\n      <td>10</td>\n      <td>22</td>\n      <td>22</td>\n      <td>7</td>\n      <td>2020</td>\n      <td>22</td>\n      <td>7</td>\n      <td>2020</td>\n    </tr>\n    <tr>\n      <th>2</th>\n      <td>24055</td>\n      <td>False</td>\n      <td>False</td>\n      <td>NaN</td>\n      <td>False</td>\n      <td>1</td>\n      <td>27</td>\n      <td>3</td>\n      <td>0</td>\n      <td>0</td>\n      <td>...</td>\n      <td>0.000000</td>\n      <td>6</td>\n      <td>8</td>\n      <td>12</td>\n      <td>12</td>\n      <td>4</td>\n      <td>2020</td>\n      <td>12</td>\n      <td>4</td>\n      <td>2020</td>\n    </tr>\n    <tr>\n      <th>3</th>\n      <td>4408</td>\n      <td>False</td>\n      <td>False</td>\n      <td>33500.0</td>\n      <td>True</td>\n      <td>1</td>\n      <td>41</td>\n      <td>4</td>\n      <td>0</td>\n      <td>0</td>\n      <td>...</td>\n      <td>0.000000</td>\n      <td>0</td>\n      <td>1</td>\n      <td>24</td>\n      <td>24</td>\n      <td>8</td>\n      <td>2020</td>\n      <td>24</td>\n      <td>8</td>\n      <td>2020</td>\n    </tr>\n    <tr>\n      <th>4</th>\n      <td>16856</td>\n      <td>False</td>\n      <td>True</td>\n      <td>30000.0</td>\n      <td>True</td>\n      <td>1</td>\n      <td>21</td>\n      <td>1</td>\n      <td>0</td>\n      <td>0</td>\n      <td>...</td>\n      <td>0.000000</td>\n      <td>5</td>\n      <td>13</td>\n      <td>18</td>\n      <td>18</td>\n      <td>9</td>\n      <td>2021</td>\n      <td>18</td>\n      <td>9</td>\n      <td>2021</td>\n    </tr>\n    <tr>\n      <th>...</th>\n      <td>...</td>\n      <td>...</td>\n      <td>...</td>\n      <td>...</td>\n      <td>...</td>\n      <td>...</td>\n      <td>...</td>\n      <td>...</td>\n      <td>...</td>\n      <td>...</td>\n      <td>...</td>\n      <td>...</td>\n      <td>...</td>\n      <td>...</td>\n      <td>...</td>\n      <td>...</td>\n      <td>...</td>\n      <td>...</td>\n      <td>...</td>\n      <td>...</td>\n      <td>...</td>\n    </tr>\n    <tr>\n      <th>27780</th>\n      <td>16850</td>\n      <td>False</td>\n      <td>False</td>\n      <td>120000.0</td>\n      <td>False</td>\n      <td>1</td>\n      <td>59</td>\n      <td>7</td>\n      <td>0</td>\n      <td>0</td>\n      <td>...</td>\n      <td>0.000000</td>\n      <td>6</td>\n      <td>10</td>\n      <td>3</td>\n      <td>3</td>\n      <td>10</td>\n      <td>2021</td>\n      <td>3</td>\n      <td>10</td>\n      <td>2021</td>\n    </tr>\n    <tr>\n      <th>27781</th>\n      <td>6265</td>\n      <td>False</td>\n      <td>False</td>\n      <td>33500.0</td>\n      <td>True</td>\n      <td>1</td>\n      <td>49</td>\n      <td>9</td>\n      <td>0</td>\n      <td>0</td>\n      <td>...</td>\n      <td>0.000000</td>\n      <td>0</td>\n      <td>0</td>\n      <td>7</td>\n      <td>7</td>\n      <td>9</td>\n      <td>2020</td>\n      <td>7</td>\n      <td>9</td>\n      <td>2020</td>\n    </tr>\n    <tr>\n      <th>27782</th>\n      <td>11284</td>\n      <td>False</td>\n      <td>False</td>\n      <td>50000.0</td>\n      <td>False</td>\n      <td>1</td>\n      <td>23</td>\n      <td>3</td>\n      <td>0</td>\n      <td>0</td>\n      <td>...</td>\n      <td>0.000000</td>\n      <td>1</td>\n      <td>8</td>\n      <td>20</td>\n      <td>20</td>\n      <td>4</td>\n      <td>2021</td>\n      <td>20</td>\n      <td>4</td>\n      <td>2021</td>\n    </tr>\n    <tr>\n      <th>27783</th>\n      <td>860</td>\n      <td>False</td>\n      <td>False</td>\n      <td>60000.0</td>\n      <td>False</td>\n      <td>1</td>\n      <td>29</td>\n      <td>4</td>\n      <td>0</td>\n      <td>0</td>\n      <td>...</td>\n      <td>0.000000</td>\n      <td>6</td>\n      <td>11</td>\n      <td>15</td>\n      <td>15</td>\n      <td>11</td>\n      <td>2020</td>\n      <td>15</td>\n      <td>11</td>\n      <td>2020</td>\n    </tr>\n    <tr>\n      <th>27784</th>\n      <td>15795</td>\n      <td>False</td>\n      <td>False</td>\n      <td>30000.0</td>\n      <td>False</td>\n      <td>11</td>\n      <td>13</td>\n      <td>1</td>\n      <td>0</td>\n      <td>0</td>\n      <td>...</td>\n      <td>0.000000</td>\n      <td>2</td>\n      <td>9</td>\n      <td>11</td>\n      <td>11</td>\n      <td>8</td>\n      <td>2021</td>\n      <td>11</td>\n      <td>8</td>\n      <td>2021</td>\n    </tr>\n  </tbody>\n</table>\n<p>27785 rows × 1006 columns</p>\n</div>"
     },
     "execution_count": 40,
     "metadata": {},
     "output_type": "execute_result"
    }
   ],
   "source": [
    "df_train_encoded['created_day'] = df_train_encoded['created_at'].dt.day\n",
    "df_train_encoded['created_month'] = df_train_encoded['created_at'].dt.month\n",
    "df_train_encoded['created_year'] = df_train_encoded['created_at'].dt.year\n",
    "\n",
    "df_train_encoded.drop(columns=['published_at', 'created_at'], inplace=True)\n",
    "df_train_encoded"
   ],
   "metadata": {
    "collapsed": false,
    "ExecuteTime": {
     "end_time": "2024-01-13T16:33:33.121555Z",
     "start_time": "2024-01-13T16:33:33.051120Z"
    }
   },
   "id": "f694604ecdf084a",
   "execution_count": 40
  },
  {
   "cell_type": "code",
   "outputs": [
    {
     "data": {
      "text/plain": "         id  has_test  response_letter_required  salary_from  salary_gross  \\\n0     20978     False                     False      35000.0         False   \n1      3102     False                     False      20000.0         False   \n2     14731     False                     False     200000.0         False   \n3     16113     False                     False     150000.0         False   \n4      8410     False                     False      80000.0         False   \n...     ...       ...                       ...          ...           ...   \n9307  29490     False                     False      40000.0         False   \n9308  34298     False                     False      40000.0         False   \n9309  33921     False                     False      35000.0          True   \n9310   8886     False                     False          NaN         False   \n9311  23978     False                     False      30000.0         False   \n\n      area_id  name_length  name_word_count  area_name_Адлер  area_name_Азов  \\\n0           1           70               10                0               0   \n1           1           20                3                0               0   \n2           1           35                5                0               0   \n3           1           18                2                0               0   \n4          47           34                3                0               0   \n...       ...          ...              ...              ...             ...   \n9307        1           16                2                0               0   \n9308        4           22                3                0               0   \n9309        1           59                7                0               0   \n9310        1           43                4                0               0   \n9311        2           31                3                0               0   \n\n      ...       это  published_day_of_week  published_hour  \\\n0     ...  0.000000                      0              10   \n1     ...  0.118148                      1              10   \n2     ...  0.000000                      0               9   \n3     ...  0.000000                      6               5   \n4     ...  0.000000                      1               8   \n...   ...       ...                    ...             ...   \n9307  ...  0.000000                      2              10   \n9308  ...  0.000000                      1               8   \n9309  ...  0.000000                      2              23   \n9310  ...  0.000000                      4               8   \n9311  ...  0.000000                      3              10   \n\n      published_day_of_month  published_day  published_month  published_year  \\\n0                         23             23                3            2020   \n1                         18             18                8            2020   \n2                          9              9                8            2021   \n3                          8              8                8            2021   \n4                         12             12                1            2021   \n...                      ...            ...              ...             ...   \n9307                      10             10                6            2020   \n9308                      17             17               11            2020   \n9309                      15             15                7            2020   \n9310                      22             22                1            2021   \n9311                       9              9                4            2020   \n\n      created_day  created_month  created_year  \n0              23              3          2020  \n1              18              8          2020  \n2               9              8          2021  \n3               8              8          2021  \n4              12              1          2021  \n...           ...            ...           ...  \n9307           10              6          2020  \n9308           17             11          2020  \n9309           15              7          2020  \n9310           22              1          2021  \n9311            9              4          2020  \n\n[9312 rows x 1006 columns]",
      "text/html": "<div>\n<style scoped>\n    .dataframe tbody tr th:only-of-type {\n        vertical-align: middle;\n    }\n\n    .dataframe tbody tr th {\n        vertical-align: top;\n    }\n\n    .dataframe thead th {\n        text-align: right;\n    }\n</style>\n<table border=\"1\" class=\"dataframe\">\n  <thead>\n    <tr style=\"text-align: right;\">\n      <th></th>\n      <th>id</th>\n      <th>has_test</th>\n      <th>response_letter_required</th>\n      <th>salary_from</th>\n      <th>salary_gross</th>\n      <th>area_id</th>\n      <th>name_length</th>\n      <th>name_word_count</th>\n      <th>area_name_Адлер</th>\n      <th>area_name_Азов</th>\n      <th>...</th>\n      <th>это</th>\n      <th>published_day_of_week</th>\n      <th>published_hour</th>\n      <th>published_day_of_month</th>\n      <th>published_day</th>\n      <th>published_month</th>\n      <th>published_year</th>\n      <th>created_day</th>\n      <th>created_month</th>\n      <th>created_year</th>\n    </tr>\n  </thead>\n  <tbody>\n    <tr>\n      <th>0</th>\n      <td>20978</td>\n      <td>False</td>\n      <td>False</td>\n      <td>35000.0</td>\n      <td>False</td>\n      <td>1</td>\n      <td>70</td>\n      <td>10</td>\n      <td>0</td>\n      <td>0</td>\n      <td>...</td>\n      <td>0.000000</td>\n      <td>0</td>\n      <td>10</td>\n      <td>23</td>\n      <td>23</td>\n      <td>3</td>\n      <td>2020</td>\n      <td>23</td>\n      <td>3</td>\n      <td>2020</td>\n    </tr>\n    <tr>\n      <th>1</th>\n      <td>3102</td>\n      <td>False</td>\n      <td>False</td>\n      <td>20000.0</td>\n      <td>False</td>\n      <td>1</td>\n      <td>20</td>\n      <td>3</td>\n      <td>0</td>\n      <td>0</td>\n      <td>...</td>\n      <td>0.118148</td>\n      <td>1</td>\n      <td>10</td>\n      <td>18</td>\n      <td>18</td>\n      <td>8</td>\n      <td>2020</td>\n      <td>18</td>\n      <td>8</td>\n      <td>2020</td>\n    </tr>\n    <tr>\n      <th>2</th>\n      <td>14731</td>\n      <td>False</td>\n      <td>False</td>\n      <td>200000.0</td>\n      <td>False</td>\n      <td>1</td>\n      <td>35</td>\n      <td>5</td>\n      <td>0</td>\n      <td>0</td>\n      <td>...</td>\n      <td>0.000000</td>\n      <td>0</td>\n      <td>9</td>\n      <td>9</td>\n      <td>9</td>\n      <td>8</td>\n      <td>2021</td>\n      <td>9</td>\n      <td>8</td>\n      <td>2021</td>\n    </tr>\n    <tr>\n      <th>3</th>\n      <td>16113</td>\n      <td>False</td>\n      <td>False</td>\n      <td>150000.0</td>\n      <td>False</td>\n      <td>1</td>\n      <td>18</td>\n      <td>2</td>\n      <td>0</td>\n      <td>0</td>\n      <td>...</td>\n      <td>0.000000</td>\n      <td>6</td>\n      <td>5</td>\n      <td>8</td>\n      <td>8</td>\n      <td>8</td>\n      <td>2021</td>\n      <td>8</td>\n      <td>8</td>\n      <td>2021</td>\n    </tr>\n    <tr>\n      <th>4</th>\n      <td>8410</td>\n      <td>False</td>\n      <td>False</td>\n      <td>80000.0</td>\n      <td>False</td>\n      <td>47</td>\n      <td>34</td>\n      <td>3</td>\n      <td>0</td>\n      <td>0</td>\n      <td>...</td>\n      <td>0.000000</td>\n      <td>1</td>\n      <td>8</td>\n      <td>12</td>\n      <td>12</td>\n      <td>1</td>\n      <td>2021</td>\n      <td>12</td>\n      <td>1</td>\n      <td>2021</td>\n    </tr>\n    <tr>\n      <th>...</th>\n      <td>...</td>\n      <td>...</td>\n      <td>...</td>\n      <td>...</td>\n      <td>...</td>\n      <td>...</td>\n      <td>...</td>\n      <td>...</td>\n      <td>...</td>\n      <td>...</td>\n      <td>...</td>\n      <td>...</td>\n      <td>...</td>\n      <td>...</td>\n      <td>...</td>\n      <td>...</td>\n      <td>...</td>\n      <td>...</td>\n      <td>...</td>\n      <td>...</td>\n      <td>...</td>\n    </tr>\n    <tr>\n      <th>9307</th>\n      <td>29490</td>\n      <td>False</td>\n      <td>False</td>\n      <td>40000.0</td>\n      <td>False</td>\n      <td>1</td>\n      <td>16</td>\n      <td>2</td>\n      <td>0</td>\n      <td>0</td>\n      <td>...</td>\n      <td>0.000000</td>\n      <td>2</td>\n      <td>10</td>\n      <td>10</td>\n      <td>10</td>\n      <td>6</td>\n      <td>2020</td>\n      <td>10</td>\n      <td>6</td>\n      <td>2020</td>\n    </tr>\n    <tr>\n      <th>9308</th>\n      <td>34298</td>\n      <td>False</td>\n      <td>False</td>\n      <td>40000.0</td>\n      <td>False</td>\n      <td>4</td>\n      <td>22</td>\n      <td>3</td>\n      <td>0</td>\n      <td>0</td>\n      <td>...</td>\n      <td>0.000000</td>\n      <td>1</td>\n      <td>8</td>\n      <td>17</td>\n      <td>17</td>\n      <td>11</td>\n      <td>2020</td>\n      <td>17</td>\n      <td>11</td>\n      <td>2020</td>\n    </tr>\n    <tr>\n      <th>9309</th>\n      <td>33921</td>\n      <td>False</td>\n      <td>False</td>\n      <td>35000.0</td>\n      <td>True</td>\n      <td>1</td>\n      <td>59</td>\n      <td>7</td>\n      <td>0</td>\n      <td>0</td>\n      <td>...</td>\n      <td>0.000000</td>\n      <td>2</td>\n      <td>23</td>\n      <td>15</td>\n      <td>15</td>\n      <td>7</td>\n      <td>2020</td>\n      <td>15</td>\n      <td>7</td>\n      <td>2020</td>\n    </tr>\n    <tr>\n      <th>9310</th>\n      <td>8886</td>\n      <td>False</td>\n      <td>False</td>\n      <td>NaN</td>\n      <td>False</td>\n      <td>1</td>\n      <td>43</td>\n      <td>4</td>\n      <td>0</td>\n      <td>0</td>\n      <td>...</td>\n      <td>0.000000</td>\n      <td>4</td>\n      <td>8</td>\n      <td>22</td>\n      <td>22</td>\n      <td>1</td>\n      <td>2021</td>\n      <td>22</td>\n      <td>1</td>\n      <td>2021</td>\n    </tr>\n    <tr>\n      <th>9311</th>\n      <td>23978</td>\n      <td>False</td>\n      <td>False</td>\n      <td>30000.0</td>\n      <td>False</td>\n      <td>2</td>\n      <td>31</td>\n      <td>3</td>\n      <td>0</td>\n      <td>0</td>\n      <td>...</td>\n      <td>0.000000</td>\n      <td>3</td>\n      <td>10</td>\n      <td>9</td>\n      <td>9</td>\n      <td>4</td>\n      <td>2020</td>\n      <td>9</td>\n      <td>4</td>\n      <td>2020</td>\n    </tr>\n  </tbody>\n</table>\n<p>9312 rows × 1006 columns</p>\n</div>"
     },
     "execution_count": 41,
     "metadata": {},
     "output_type": "execute_result"
    }
   ],
   "source": [
    "df_test_encoded['created_day'] = df_test_encoded['created_at'].dt.day\n",
    "df_test_encoded['created_month'] = df_test_encoded['created_at'].dt.month\n",
    "df_test_encoded['created_year'] = df_test_encoded['created_at'].dt.year\n",
    "\n",
    "df_test_encoded.drop(columns=['published_at', 'created_at'], inplace=True)\n",
    "df_test_encoded"
   ],
   "metadata": {
    "collapsed": false,
    "ExecuteTime": {
     "end_time": "2024-01-13T16:33:35.076985Z",
     "start_time": "2024-01-13T16:33:35.058622Z"
    }
   },
   "id": "ba63ab7df88d0702",
   "execution_count": 41
  },
  {
   "cell_type": "markdown",
   "source": [
    "Area_id"
   ],
   "metadata": {
    "collapsed": false
   },
   "id": "3865a7aa675ddeb3"
  },
  {
   "cell_type": "code",
   "outputs": [],
   "source": [
    "threshold = 1000\n",
    "\n",
    "area_id_counts = df_train_encoded['area_id'].value_counts()\n",
    "area_id_mapping = area_id_counts[area_id_counts >= threshold].index.to_list()\n",
    "area_id_mapping = {area_id: area_id if area_id in area_id_mapping else 'Other' for area_id in area_id_counts.index}\n",
    "\n",
    "\n",
    "df_train_encoded['area_id_grouped'] = df_train_encoded['area_id'].map(area_id_mapping)\n",
    "df_test_encoded['area_id_grouped'] = df_test_encoded['area_id'].map(area_id_mapping)\n",
    "\n",
    "df_train_encoded = pd.get_dummies(df_train_encoded, columns=['area_id_grouped'], prefix='area_id')\n",
    "df_test_encoded = pd.get_dummies(df_test_encoded, columns=['area_id_grouped'], prefix='area_id')"
   ],
   "metadata": {
    "collapsed": false,
    "ExecuteTime": {
     "end_time": "2024-01-13T16:33:37.277012Z",
     "start_time": "2024-01-13T16:33:37.204082Z"
    }
   },
   "id": "515b68640550f555",
   "execution_count": 42
  },
  {
   "cell_type": "code",
   "outputs": [],
   "source": [
    "df_train_encoded.drop('area_id', axis=1, inplace=True)\n",
    "df_test_encoded.drop('area_id', axis=1, inplace=True)"
   ],
   "metadata": {
    "collapsed": false,
    "ExecuteTime": {
     "end_time": "2024-01-13T16:33:38.665972Z",
     "start_time": "2024-01-13T16:33:38.643804Z"
    }
   },
   "id": "16d3e9da2147c2fc",
   "execution_count": 43
  },
  {
   "cell_type": "code",
   "outputs": [
    {
     "data": {
      "text/plain": "          id  has_test  response_letter_required  salary_from  salary_gross  \\\n0      29083     False                     False          NaN         False   \n1      26052     False                     False     120000.0         False   \n2      24055     False                     False          NaN         False   \n3       4408     False                     False      33500.0          True   \n4      16856     False                      True      30000.0          True   \n...      ...       ...                       ...          ...           ...   \n27780  16850     False                     False     120000.0         False   \n27781   6265     False                     False      33500.0          True   \n27782  11284     False                     False      50000.0         False   \n27783    860     False                     False      60000.0         False   \n27784  15795     False                     False      30000.0         False   \n\n       name_length  name_word_count  area_name_Адлер  area_name_Азов  \\\n0               60                7                0               0   \n1               50                6                0               0   \n2               27                3                0               0   \n3               41                4                0               0   \n4               21                1                0               0   \n...            ...              ...              ...             ...   \n27780           59                7                0               0   \n27781           49                9                0               0   \n27782           23                3                0               0   \n27783           29                4                0               0   \n27784           13                1                0               0   \n\n       area_name_Аксай (Казахстан)  ...  published_day_of_month  \\\n0                                0  ...                      16   \n1                                0  ...                      22   \n2                                0  ...                      12   \n3                                0  ...                      24   \n4                                0  ...                      18   \n...                            ...  ...                     ...   \n27780                            0  ...                       3   \n27781                            0  ...                       7   \n27782                            0  ...                      20   \n27783                            0  ...                      15   \n27784                            0  ...                      11   \n\n       published_day  published_month  published_year  created_day  \\\n0                 16                6            2020           16   \n1                 22                7            2020           22   \n2                 12                4            2020           12   \n3                 24                8            2020           24   \n4                 18                9            2021           18   \n...              ...              ...             ...          ...   \n27780              3               10            2021            3   \n27781              7                9            2020            7   \n27782             20                4            2021           20   \n27783             15               11            2020           15   \n27784             11                8            2021           11   \n\n       created_month  created_year  area_id_1  area_id_2  area_id_Other  \n0                  6          2020          1          0              0  \n1                  7          2020          1          0              0  \n2                  4          2020          1          0              0  \n3                  8          2020          1          0              0  \n4                  9          2021          1          0              0  \n...              ...           ...        ...        ...            ...  \n27780             10          2021          1          0              0  \n27781              9          2020          1          0              0  \n27782              4          2021          1          0              0  \n27783             11          2020          1          0              0  \n27784              8          2021          0          0              1  \n\n[27785 rows x 1008 columns]",
      "text/html": "<div>\n<style scoped>\n    .dataframe tbody tr th:only-of-type {\n        vertical-align: middle;\n    }\n\n    .dataframe tbody tr th {\n        vertical-align: top;\n    }\n\n    .dataframe thead th {\n        text-align: right;\n    }\n</style>\n<table border=\"1\" class=\"dataframe\">\n  <thead>\n    <tr style=\"text-align: right;\">\n      <th></th>\n      <th>id</th>\n      <th>has_test</th>\n      <th>response_letter_required</th>\n      <th>salary_from</th>\n      <th>salary_gross</th>\n      <th>name_length</th>\n      <th>name_word_count</th>\n      <th>area_name_Адлер</th>\n      <th>area_name_Азов</th>\n      <th>area_name_Аксай (Казахстан)</th>\n      <th>...</th>\n      <th>published_day_of_month</th>\n      <th>published_day</th>\n      <th>published_month</th>\n      <th>published_year</th>\n      <th>created_day</th>\n      <th>created_month</th>\n      <th>created_year</th>\n      <th>area_id_1</th>\n      <th>area_id_2</th>\n      <th>area_id_Other</th>\n    </tr>\n  </thead>\n  <tbody>\n    <tr>\n      <th>0</th>\n      <td>29083</td>\n      <td>False</td>\n      <td>False</td>\n      <td>NaN</td>\n      <td>False</td>\n      <td>60</td>\n      <td>7</td>\n      <td>0</td>\n      <td>0</td>\n      <td>0</td>\n      <td>...</td>\n      <td>16</td>\n      <td>16</td>\n      <td>6</td>\n      <td>2020</td>\n      <td>16</td>\n      <td>6</td>\n      <td>2020</td>\n      <td>1</td>\n      <td>0</td>\n      <td>0</td>\n    </tr>\n    <tr>\n      <th>1</th>\n      <td>26052</td>\n      <td>False</td>\n      <td>False</td>\n      <td>120000.0</td>\n      <td>False</td>\n      <td>50</td>\n      <td>6</td>\n      <td>0</td>\n      <td>0</td>\n      <td>0</td>\n      <td>...</td>\n      <td>22</td>\n      <td>22</td>\n      <td>7</td>\n      <td>2020</td>\n      <td>22</td>\n      <td>7</td>\n      <td>2020</td>\n      <td>1</td>\n      <td>0</td>\n      <td>0</td>\n    </tr>\n    <tr>\n      <th>2</th>\n      <td>24055</td>\n      <td>False</td>\n      <td>False</td>\n      <td>NaN</td>\n      <td>False</td>\n      <td>27</td>\n      <td>3</td>\n      <td>0</td>\n      <td>0</td>\n      <td>0</td>\n      <td>...</td>\n      <td>12</td>\n      <td>12</td>\n      <td>4</td>\n      <td>2020</td>\n      <td>12</td>\n      <td>4</td>\n      <td>2020</td>\n      <td>1</td>\n      <td>0</td>\n      <td>0</td>\n    </tr>\n    <tr>\n      <th>3</th>\n      <td>4408</td>\n      <td>False</td>\n      <td>False</td>\n      <td>33500.0</td>\n      <td>True</td>\n      <td>41</td>\n      <td>4</td>\n      <td>0</td>\n      <td>0</td>\n      <td>0</td>\n      <td>...</td>\n      <td>24</td>\n      <td>24</td>\n      <td>8</td>\n      <td>2020</td>\n      <td>24</td>\n      <td>8</td>\n      <td>2020</td>\n      <td>1</td>\n      <td>0</td>\n      <td>0</td>\n    </tr>\n    <tr>\n      <th>4</th>\n      <td>16856</td>\n      <td>False</td>\n      <td>True</td>\n      <td>30000.0</td>\n      <td>True</td>\n      <td>21</td>\n      <td>1</td>\n      <td>0</td>\n      <td>0</td>\n      <td>0</td>\n      <td>...</td>\n      <td>18</td>\n      <td>18</td>\n      <td>9</td>\n      <td>2021</td>\n      <td>18</td>\n      <td>9</td>\n      <td>2021</td>\n      <td>1</td>\n      <td>0</td>\n      <td>0</td>\n    </tr>\n    <tr>\n      <th>...</th>\n      <td>...</td>\n      <td>...</td>\n      <td>...</td>\n      <td>...</td>\n      <td>...</td>\n      <td>...</td>\n      <td>...</td>\n      <td>...</td>\n      <td>...</td>\n      <td>...</td>\n      <td>...</td>\n      <td>...</td>\n      <td>...</td>\n      <td>...</td>\n      <td>...</td>\n      <td>...</td>\n      <td>...</td>\n      <td>...</td>\n      <td>...</td>\n      <td>...</td>\n      <td>...</td>\n    </tr>\n    <tr>\n      <th>27780</th>\n      <td>16850</td>\n      <td>False</td>\n      <td>False</td>\n      <td>120000.0</td>\n      <td>False</td>\n      <td>59</td>\n      <td>7</td>\n      <td>0</td>\n      <td>0</td>\n      <td>0</td>\n      <td>...</td>\n      <td>3</td>\n      <td>3</td>\n      <td>10</td>\n      <td>2021</td>\n      <td>3</td>\n      <td>10</td>\n      <td>2021</td>\n      <td>1</td>\n      <td>0</td>\n      <td>0</td>\n    </tr>\n    <tr>\n      <th>27781</th>\n      <td>6265</td>\n      <td>False</td>\n      <td>False</td>\n      <td>33500.0</td>\n      <td>True</td>\n      <td>49</td>\n      <td>9</td>\n      <td>0</td>\n      <td>0</td>\n      <td>0</td>\n      <td>...</td>\n      <td>7</td>\n      <td>7</td>\n      <td>9</td>\n      <td>2020</td>\n      <td>7</td>\n      <td>9</td>\n      <td>2020</td>\n      <td>1</td>\n      <td>0</td>\n      <td>0</td>\n    </tr>\n    <tr>\n      <th>27782</th>\n      <td>11284</td>\n      <td>False</td>\n      <td>False</td>\n      <td>50000.0</td>\n      <td>False</td>\n      <td>23</td>\n      <td>3</td>\n      <td>0</td>\n      <td>0</td>\n      <td>0</td>\n      <td>...</td>\n      <td>20</td>\n      <td>20</td>\n      <td>4</td>\n      <td>2021</td>\n      <td>20</td>\n      <td>4</td>\n      <td>2021</td>\n      <td>1</td>\n      <td>0</td>\n      <td>0</td>\n    </tr>\n    <tr>\n      <th>27783</th>\n      <td>860</td>\n      <td>False</td>\n      <td>False</td>\n      <td>60000.0</td>\n      <td>False</td>\n      <td>29</td>\n      <td>4</td>\n      <td>0</td>\n      <td>0</td>\n      <td>0</td>\n      <td>...</td>\n      <td>15</td>\n      <td>15</td>\n      <td>11</td>\n      <td>2020</td>\n      <td>15</td>\n      <td>11</td>\n      <td>2020</td>\n      <td>1</td>\n      <td>0</td>\n      <td>0</td>\n    </tr>\n    <tr>\n      <th>27784</th>\n      <td>15795</td>\n      <td>False</td>\n      <td>False</td>\n      <td>30000.0</td>\n      <td>False</td>\n      <td>13</td>\n      <td>1</td>\n      <td>0</td>\n      <td>0</td>\n      <td>0</td>\n      <td>...</td>\n      <td>11</td>\n      <td>11</td>\n      <td>8</td>\n      <td>2021</td>\n      <td>11</td>\n      <td>8</td>\n      <td>2021</td>\n      <td>0</td>\n      <td>0</td>\n      <td>1</td>\n    </tr>\n  </tbody>\n</table>\n<p>27785 rows × 1008 columns</p>\n</div>"
     },
     "execution_count": 44,
     "metadata": {},
     "output_type": "execute_result"
    }
   ],
   "source": [
    "df_train_encoded"
   ],
   "metadata": {
    "collapsed": false,
    "ExecuteTime": {
     "end_time": "2024-01-13T16:33:39.533612Z",
     "start_time": "2024-01-13T16:33:39.504426Z"
    }
   },
   "id": "97784184e417e434",
   "execution_count": 44
  },
  {
   "cell_type": "code",
   "outputs": [
    {
     "data": {
      "text/plain": "id                            int64\nhas_test                       bool\nresponse_letter_required       bool\nsalary_from                 float64\nsalary_gross                   bool\n                             ...   \ncreated_month                 int64\ncreated_year                  int64\narea_id_1                     uint8\narea_id_2                     uint8\narea_id_Other                 uint8\nLength: 1008, dtype: object"
     },
     "execution_count": 45,
     "metadata": {},
     "output_type": "execute_result"
    }
   ],
   "source": [
    "df_test_encoded.dtypes"
   ],
   "metadata": {
    "collapsed": false,
    "ExecuteTime": {
     "end_time": "2024-01-13T16:33:42.731066Z",
     "start_time": "2024-01-13T16:33:42.719487Z"
    }
   },
   "id": "526db4d9223d42b9",
   "execution_count": 45
  },
  {
   "cell_type": "code",
   "outputs": [
    {
     "data": {
      "text/plain": "['name_word_count',\n 'word_count',\n 'плата',\n 'речь',\n 'роста',\n 'срок',\n 'сроков',\n 'published_day',\n 'created_day',\n 'created_month',\n 'created_year',\n 'area_id_1',\n 'area_id_2']"
     },
     "execution_count": 46,
     "metadata": {},
     "output_type": "execute_result"
    }
   ],
   "source": [
    "correlation_matrix = df_train_encoded.corr()\n",
    "\n",
    "upper_triangle = correlation_matrix.where(np.bool_(np.triu(np.ones(correlation_matrix.shape), k=1)))\n",
    "\n",
    "to_drop = [column for column in upper_triangle.columns if any(upper_triangle[column] > 0.8)]\n",
    "to_drop"
   ],
   "metadata": {
    "collapsed": false,
    "ExecuteTime": {
     "end_time": "2024-01-13T16:34:31.552818Z",
     "start_time": "2024-01-13T16:33:43.999524Z"
    }
   },
   "id": "f6239b33dc385850",
   "execution_count": 46
  },
  {
   "cell_type": "code",
   "outputs": [],
   "source": [
    "df_train_encoded.drop(columns=to_drop, inplace=True)\n",
    "df_test_encoded.drop(columns=to_drop, inplace=True)"
   ],
   "metadata": {
    "collapsed": false,
    "ExecuteTime": {
     "end_time": "2024-01-13T16:34:33.507685Z",
     "start_time": "2024-01-13T16:34:33.484757Z"
    }
   },
   "id": "5932cef54b9c5b6d",
   "execution_count": 47
  },
  {
   "cell_type": "code",
   "outputs": [
    {
     "data": {
      "text/plain": "id                            int64\nhas_test                       bool\nresponse_letter_required       bool\nsalary_from                 float64\nsalary_gross                   bool\n                             ...   \npublished_hour                int64\npublished_day_of_month        int64\npublished_month               int64\npublished_year                int64\narea_id_Other                 uint8\nLength: 995, dtype: object"
     },
     "execution_count": 48,
     "metadata": {},
     "output_type": "execute_result"
    }
   ],
   "source": [
    "df_test_encoded.dtypes"
   ],
   "metadata": {
    "collapsed": false,
    "ExecuteTime": {
     "end_time": "2024-01-13T16:34:34.164736Z",
     "start_time": "2024-01-13T16:34:34.153463Z"
    }
   },
   "id": "81a05ac9d0c0661b",
   "execution_count": 48
  },
  {
   "cell_type": "code",
   "outputs": [
    {
     "data": {
      "text/plain": "id                            int64\nhas_test                       bool\nresponse_letter_required       bool\nsalary_from                 float64\nsalary_gross                   bool\n                             ...   \npublished_hour                int64\npublished_day_of_month        int64\npublished_month               int64\npublished_year                int64\narea_id_Other                 uint8\nLength: 995, dtype: object"
     },
     "execution_count": 49,
     "metadata": {},
     "output_type": "execute_result"
    }
   ],
   "source": [
    "df_train_encoded.dtypes"
   ],
   "metadata": {
    "collapsed": false,
    "ExecuteTime": {
     "end_time": "2024-01-13T16:34:35.232809Z",
     "start_time": "2024-01-13T16:34:35.214644Z"
    }
   },
   "id": "92de54e5444dd13",
   "execution_count": 49
  },
  {
   "cell_type": "markdown",
   "source": [
    "Salary_from"
   ],
   "metadata": {
    "collapsed": false
   },
   "id": "f2edadfa30d50615"
  },
  {
   "cell_type": "code",
   "outputs": [],
   "source": [
    "important_features = ['salary_from', 'name_length', 'description_length']"
   ],
   "metadata": {
    "collapsed": false,
    "ExecuteTime": {
     "end_time": "2024-01-13T16:34:37.446696Z",
     "start_time": "2024-01-13T16:34:37.420050Z"
    }
   },
   "id": "2f9cb42cc87d931f",
   "execution_count": 50
  },
  {
   "cell_type": "code",
   "outputs": [],
   "source": [
    "x_train_desc_data = df_train_encoded.dropna(subset=['salary_from'])\n",
    "x_test_desc_data = df_test_encoded.dropna(subset=['salary_from'])"
   ],
   "metadata": {
    "collapsed": false,
    "ExecuteTime": {
     "end_time": "2024-01-13T16:34:38.156810Z",
     "start_time": "2024-01-13T16:34:38.075971Z"
    }
   },
   "id": "1d1f4159d419b70c",
   "execution_count": 51
  },
  {
   "cell_type": "code",
   "outputs": [],
   "source": [
    "train_data = pd.concat([x_train_desc_data.drop(columns=['id']), x_test_desc_data.drop(columns=['id'])])"
   ],
   "metadata": {
    "collapsed": false,
    "ExecuteTime": {
     "end_time": "2024-01-13T16:34:43.104345Z",
     "start_time": "2024-01-13T16:34:43.065442Z"
    }
   },
   "id": "f41fa2166d54eca5",
   "execution_count": 52
  },
  {
   "cell_type": "code",
   "outputs": [
    {
     "data": {
      "text/plain": "<Figure size 640x480 with 1 Axes>",
      "image/png": "[encoded data removed]"
     },
     "metadata": {},
     "output_type": "display_data"
    },
    {
     "data": {
      "text/plain": "<Figure size 640x480 with 1 Axes>",
      "image/png": "[encoded data removed]"
     },
     "metadata": {},
     "output_type": "display_data"
    },
    {
     "data": {
      "text/plain": "<Figure size 640x480 with 1 Axes>",
      "image/png": "[encoded data removed]"
     },
     "metadata": {},
     "output_type": "display_data"
    }
   ],
   "source": [
    "for feature in important_features:\n",
    "    sns.boxplot(x=train_data[feature])\n",
    "    plt.title(f\"Ящик с усами для {feature}\")\n",
    "    plt.show()"
   ],
   "metadata": {
    "collapsed": false,
    "ExecuteTime": {
     "end_time": "2024-01-13T16:34:43.785975Z",
     "start_time": "2024-01-13T16:34:43.472124Z"
    }
   },
   "id": "6f65871ad793d648",
   "execution_count": 53
  },
  {
   "cell_type": "code",
   "outputs": [],
   "source": [
    "X_train_for_salary_pred = train_data.drop('salary_from', axis=1)\n",
    "y_train_for_salary_pred = train_data['salary_from']\n",
    "\n",
    "X_train_split_sal, X_val_split_sal, y_train_split_sal, y_val_split_sal = train_test_split(X_train_for_salary_pred, y_train_for_salary_pred, test_size=0.2, random_state=42)"
   ],
   "metadata": {
    "collapsed": false,
    "ExecuteTime": {
     "end_time": "2024-01-13T16:34:58.075660Z",
     "start_time": "2024-01-13T16:34:57.952536Z"
    }
   },
   "id": "992a9b4533a2f7a",
   "execution_count": 54
  },
  {
   "cell_type": "code",
   "outputs": [],
   "source": [
    "dtrain_sal = xgb.DMatrix(X_train_split_sal, label=y_train_split_sal)\n",
    "\n",
    "params = {\n",
    "    'objective': 'reg:squarederror',  \n",
    "    'colsample_bytree': 0.8,\n",
    "    'learning_rate': 0.1,\n",
    "    'max_depth': 6,\n",
    "    'subsample': 0.9,\n",
    "    'eval_metric': 'rmse'\n",
    "}\n",
    "\n",
    "\n",
    "model = xgb.train(params=params, dtrain=dtrain_sal, num_boost_round=300, verbose_eval=True)"
   ],
   "metadata": {
    "collapsed": false,
    "ExecuteTime": {
     "end_time": "2024-01-13T16:35:08.430137Z",
     "start_time": "2024-01-13T16:35:02.123847Z"
    }
   },
   "id": "8c46c342e3cd119a",
   "execution_count": 55
  },
  {
   "cell_type": "code",
   "outputs": [
    {
     "name": "stderr",
     "output_type": "stream",
     "text": [
      "/Users/rpopov/PycharmProjects/data_analysis/venv/lib/python3.9/site-packages/xgboost/core.py:160: UserWarning: [23:35:12] WARNING: /Users/runner/work/xgboost/xgboost/src/c_api/c_api.cc:1240: Saving into deprecated binary model format, please consider using `json` or `ubj`. Model format will default to JSON in XGBoost 2.2 if not specified.\n",
      "  warnings.warn(smsg, UserWarning)\n"
     ]
    }
   ],
   "source": [
    "model.save_model('xgb_model2.model')"
   ],
   "metadata": {
    "collapsed": false,
    "ExecuteTime": {
     "end_time": "2024-01-13T16:35:12.230753Z",
     "start_time": "2024-01-13T16:35:12.207546Z"
    }
   },
   "id": "2f54ea81adb51e7d",
   "execution_count": 56
  },
  {
   "cell_type": "code",
   "outputs": [
    {
     "name": "stdout",
     "output_type": "stream",
     "text": [
      "Root Mean Absolute Error (mse): 758185540.1704068\n"
     ]
    }
   ],
   "source": [
    "from sklearn.metrics import mean_squared_error\n",
    "\n",
    "dtest = xgb.DMatrix(X_val_split_sal)\n",
    "y_pred = model.predict(dtest)\n",
    "\n",
    "mse = mean_squared_error(y_val_split_sal, y_pred)\n",
    "print(f'Mean Squared Error (mse): {mse}')"
   ],
   "metadata": {
    "collapsed": false,
    "ExecuteTime": {
     "end_time": "2024-01-13T16:35:16.064586Z",
     "start_time": "2024-01-13T16:35:15.796337Z"
    }
   },
   "id": "6c508fce75b815b6",
   "execution_count": 57
  },
  {
   "cell_type": "code",
   "outputs": [],
   "source": [
    "loaded_model = xgb.Booster()\n",
    "loaded_model.load_model('xgb_model2.model')"
   ],
   "metadata": {
    "collapsed": false,
    "ExecuteTime": {
     "end_time": "2024-01-13T16:35:17.442889Z",
     "start_time": "2024-01-13T16:35:17.437977Z"
    }
   },
   "id": "38e455cdb7bda3c0",
   "execution_count": 58
  },
  {
   "cell_type": "code",
   "outputs": [],
   "source": [
    "missing_data_train = df_train_encoded[df_train_encoded['salary_from'].isnull()]\n",
    "X_missing_train = missing_data_train.drop('salary_from', axis=1)\n",
    "predicted_values_train = model.predict(xgb.DMatrix(X_missing_train.drop(columns=['id'])))\n",
    "df_train_encoded.loc[df_train_encoded['salary_from'].isnull(), 'salary_from'] = predicted_values_train"
   ],
   "metadata": {
    "collapsed": false,
    "ExecuteTime": {
     "end_time": "2024-01-13T16:35:19.697751Z",
     "start_time": "2024-01-13T16:35:19.487252Z"
    }
   },
   "id": "19580eaf9ee5d8f3",
   "execution_count": 59
  },
  {
   "cell_type": "code",
   "outputs": [],
   "source": [
    "column_order = df_train_encoded.columns\n",
    "df_test_encoded = df_test_encoded[column_order]"
   ],
   "metadata": {
    "collapsed": false,
    "ExecuteTime": {
     "end_time": "2024-01-13T16:35:20.245047Z",
     "start_time": "2024-01-13T16:35:20.237882Z"
    }
   },
   "id": "2730827213f6d5d1",
   "execution_count": 60
  },
  {
   "cell_type": "code",
   "outputs": [],
   "source": [
    "missing_data_test = df_test_encoded[df_test_encoded['salary_from'].isnull()]\n",
    "X_missing_test = missing_data_test.drop('salary_from', axis=1)\n",
    "predicted_values_test = model.predict(xgb.DMatrix(X_missing_test.drop(columns=['id'])))\n",
    "df_test_encoded.loc[df_test_encoded['salary_from'].isnull(), 'salary_from'] = predicted_values_test"
   ],
   "metadata": {
    "collapsed": false,
    "ExecuteTime": {
     "end_time": "2024-01-13T16:35:20.812034Z",
     "start_time": "2024-01-13T16:35:20.694479Z"
    }
   },
   "id": "b6a8cb1a784af12f",
   "execution_count": 61
  },
  {
   "cell_type": "code",
   "outputs": [
    {
     "data": {
      "text/plain": "id                          0\nhas_test                    0\nresponse_letter_required    0\nsalary_from                 0\nsalary_gross                0\n                           ..\npublished_hour              0\npublished_day_of_month      0\npublished_month             0\npublished_year              0\narea_id_Other               0\nLength: 995, dtype: int64"
     },
     "execution_count": 62,
     "metadata": {},
     "output_type": "execute_result"
    }
   ],
   "source": [
    "df_train_encoded.isna().sum()"
   ],
   "metadata": {
    "collapsed": false,
    "ExecuteTime": {
     "end_time": "2024-01-13T16:35:21.358191Z",
     "start_time": "2024-01-13T16:35:21.326667Z"
    }
   },
   "id": "7db55ec5405381c7",
   "execution_count": 62
  },
  {
   "cell_type": "code",
   "outputs": [
    {
     "data": {
      "text/plain": "0"
     },
     "execution_count": 63,
     "metadata": {},
     "output_type": "execute_result"
    }
   ],
   "source": [
    "df_test_encoded['salary_from'].isna().sum()"
   ],
   "metadata": {
    "collapsed": false,
    "ExecuteTime": {
     "end_time": "2024-01-13T16:35:21.927235Z",
     "start_time": "2024-01-13T16:35:21.917780Z"
    }
   },
   "id": "7f7ea1fa18fe48c5",
   "execution_count": 63
  },
  {
   "cell_type": "code",
   "outputs": [
    {
     "data": {
      "text/plain": "<Figure size 1000x600 with 1 Axes>",
      "image/png": "[encoded data removed]"
     },
     "metadata": {},
     "output_type": "display_data"
    }
   ],
   "source": [
    "plt.figure(figsize=(10, 6))\n",
    "sns.histplot(df_train_encoded['salary_from'], bins=50, kde=True, color='blue')\n",
    "plt.title('Distribution of Salary')\n",
    "plt.xlabel('Salary')\n",
    "plt.ylabel('Frequency')\n",
    "plt.show()"
   ],
   "metadata": {
    "collapsed": false,
    "ExecuteTime": {
     "end_time": "2024-01-13T16:35:26.440972Z",
     "start_time": "2024-01-13T16:35:26.139370Z"
    }
   },
   "id": "a9554662dffe949e",
   "execution_count": 64
  },
  {
   "cell_type": "code",
   "outputs": [
    {
     "data": {
      "text/plain": "count    2.778500e+04\nmean     6.526809e+04\nstd      5.387171e+04\nmin      1.000000e+00\n25%      3.450000e+04\n50%      5.000000e+04\n75%      8.000000e+04\nmax      3.400000e+06\nName: salary_from, dtype: float64"
     },
     "execution_count": 65,
     "metadata": {},
     "output_type": "execute_result"
    }
   ],
   "source": [
    "df_train_encoded['salary_from'].describe()"
   ],
   "metadata": {
    "collapsed": false,
    "ExecuteTime": {
     "end_time": "2024-01-13T16:35:44.008269Z",
     "start_time": "2024-01-13T16:35:43.966934Z"
    }
   },
   "id": "7464ba2d84c88a37",
   "execution_count": 65
  },
  {
   "cell_type": "code",
   "outputs": [],
   "source": [
    "salary_bins = [0, 35000, 50000, 75000, 100000, 120000, 150000, float('inf')]\n",
    "salary_labels = ['0-35000', '35001-50000', '50001-75000', '75001-100000', '100001-120000', '120001-150000', '150001+']\n",
    "\n",
    "df_train_encoded.loc[:, 'salary_category'] = pd.cut(df_train_encoded['salary_from'], bins=salary_bins, labels=salary_labels, right=False)\n",
    "salary_category_dummies_train = pd.get_dummies(df_train_encoded['salary_category'], prefix='salary')\n",
    "\n",
    "df_test_encoded.loc[:,'salary_category'] = pd.cut(df_test_encoded['salary_from'], bins=salary_bins, labels=salary_labels, right=False)\n",
    "salary_category_dummies_test = pd.get_dummies(df_test_encoded['salary_category'], prefix='salary')\n",
    "\n",
    "df_train_encoded = pd.concat([df_train_encoded, salary_category_dummies_train], axis=1)\n",
    "df_train_encoded.drop(columns=['salary_category'], inplace=True)\n",
    "\n",
    "df_test_encoded = pd.concat([df_test_encoded, salary_category_dummies_test], axis=1)\n",
    "df_test_encoded.drop(columns=['salary_category'], inplace=True)"
   ],
   "metadata": {
    "collapsed": false,
    "ExecuteTime": {
     "end_time": "2024-01-13T16:35:52.022284Z",
     "start_time": "2024-01-13T16:35:51.972587Z"
    }
   },
   "id": "a5120cb96086260",
   "execution_count": 66
  },
  {
   "cell_type": "code",
   "outputs": [],
   "source": [
    "df_train_encoded['description_to_salary_ratio'] = df_train_encoded['description_length'] / (df_train_encoded['salary_from'])"
   ],
   "metadata": {
    "collapsed": false,
    "ExecuteTime": {
     "end_time": "2024-01-13T16:35:52.937504Z",
     "start_time": "2024-01-13T16:35:52.928331Z"
    }
   },
   "id": "6bf3773f0d6193c3",
   "execution_count": 67
  },
  {
   "cell_type": "code",
   "outputs": [],
   "source": [
    "df_test_encoded['description_to_salary_ratio'] = df_test_encoded['description_length'] / (df_test_encoded['salary_from'])"
   ],
   "metadata": {
    "collapsed": false,
    "ExecuteTime": {
     "end_time": "2024-01-13T16:35:53.506836Z",
     "start_time": "2024-01-13T16:35:53.497563Z"
    }
   },
   "id": "1bd927fe7e1432ff",
   "execution_count": 68
  },
  {
   "cell_type": "code",
   "outputs": [],
   "source": [
    "column_order = df_train_encoded.columns\n",
    "df_test_encoded = df_test_encoded[column_order]"
   ],
   "metadata": {
    "collapsed": false,
    "ExecuteTime": {
     "end_time": "2024-01-13T16:36:01.727013Z",
     "start_time": "2024-01-13T16:36:01.693846Z"
    }
   },
   "id": "750ff8e0510bb50",
   "execution_count": 69
  },
  {
   "cell_type": "code",
   "outputs": [
    {
     "data": {
      "text/plain": "id                               int64\nhas_test                          bool\nresponse_letter_required          bool\nsalary_from                    float64\nsalary_gross                      bool\n                                ...   \nsalary_75001-100000              uint8\nsalary_100001-120000             uint8\nsalary_120001-150000             uint8\nsalary_150001+                   uint8\ndescription_to_salary_ratio    float64\nLength: 1003, dtype: object"
     },
     "execution_count": 70,
     "metadata": {},
     "output_type": "execute_result"
    }
   ],
   "source": [
    "df_train_encoded.dtypes"
   ],
   "metadata": {
    "collapsed": false,
    "ExecuteTime": {
     "end_time": "2024-01-13T16:36:02.332694Z",
     "start_time": "2024-01-13T16:36:02.324350Z"
    }
   },
   "id": "cb39cd2144eccd8e",
   "execution_count": 70
  },
  {
   "cell_type": "code",
   "outputs": [
    {
     "data": {
      "text/plain": "id                               int64\nhas_test                          bool\nresponse_letter_required          bool\nsalary_from                    float64\nsalary_gross                      bool\n                                ...   \nsalary_75001-100000              uint8\nsalary_100001-120000             uint8\nsalary_120001-150000             uint8\nsalary_150001+                   uint8\ndescription_to_salary_ratio    float64\nLength: 1003, dtype: object"
     },
     "execution_count": 71,
     "metadata": {},
     "output_type": "execute_result"
    }
   ],
   "source": [
    "df_test_encoded.dtypes"
   ],
   "metadata": {
    "collapsed": false,
    "ExecuteTime": {
     "end_time": "2024-01-13T16:36:04.140316Z",
     "start_time": "2024-01-13T16:36:04.113784Z"
    }
   },
   "id": "832bba9c5d63f28",
   "execution_count": 71
  },
  {
   "cell_type": "code",
   "execution_count": 72,
   "outputs": [],
   "source": [
    "merged_train = pd.merge(df_train_encoded, y_train, on='id')\n",
    "\n",
    "X_train_split, X_val_split, y_train_split, y_val_split = train_test_split(merged_train.drop(columns=['id', 'salary_to']), merged_train['salary_to'], test_size=0.2, random_state=42)\n",
    "\n",
    "features_to_scale_pred = ['salary_from', 'name_length', 'published_hour', 'published_year', 'published_month', 'published_day_of_month', 'published_day_of_week',  'description_to_salary_ratio']\n",
    "\n",
    "ss = StandardScaler()\n",
    "X_train_split[features_to_scale_pred] = ss.fit_transform(X_train_split[features_to_scale_pred])\n",
    "X_val_split[features_to_scale_pred] = ss.transform(X_val_split[features_to_scale_pred])"
   ],
   "metadata": {
    "collapsed": false,
    "ExecuteTime": {
     "end_time": "2024-01-13T16:36:07.382871Z",
     "start_time": "2024-01-13T16:36:07.185433Z"
    }
   },
   "id": "6d51ee4812e7de0d"
  },
  {
   "cell_type": "code",
   "outputs": [],
   "source": [
    "df_test_encoded[features_to_scale_pred] = ss.transform(df_test_encoded[features_to_scale_pred])"
   ],
   "metadata": {
    "collapsed": false,
    "ExecuteTime": {
     "end_time": "2024-01-13T16:36:10.150274Z",
     "start_time": "2024-01-13T16:36:10.128991Z"
    }
   },
   "id": "48246f8f6787e160",
   "execution_count": 73
  },
  {
   "cell_type": "code",
   "execution_count": 74,
   "outputs": [],
   "source": [
    "def smape(y_true, y_pred):\n",
    "    denominator = np.abs(y_true) + np.abs(y_pred)\n",
    "    diff = np.abs(y_true - y_pred) / denominator\n",
    "    diff[denominator == 0] = 0.0\n",
    "    return 200 * np.mean(diff)\n",
    "\n",
    "smape_scorer = make_scorer(smape, greater_is_better=False)"
   ],
   "metadata": {
    "collapsed": false,
    "ExecuteTime": {
     "end_time": "2024-01-13T16:36:11.696068Z",
     "start_time": "2024-01-13T16:36:11.674032Z"
    }
   },
   "id": "c460e9261013c612"
  },
  {
   "cell_type": "code",
   "outputs": [
    {
     "data": {
      "text/plain": "RandomForestRegressor(min_samples_leaf=2, n_estimators=300)",
      "text/html": "<style>#sk-container-id-1 {color: black;background-color: white;}#sk-container-id-1 pre{padding: 0;}#sk-container-id-1 div.sk-toggleable {background-color: white;}#sk-container-id-1 label.sk-toggleable__label {cursor: pointer;display: block;width: 100%;margin-bottom: 0;padding: 0.3em;box-sizing: border-box;text-align: center;}#sk-container-id-1 label.sk-toggleable__label-arrow:before {content: \"▸\";float: left;margin-right: 0.25em;color: #696969;}#sk-container-id-1 label.sk-toggleable__label-arrow:hover:before {color: black;}#sk-container-id-1 div.sk-estimator:hover label.sk-toggleable__label-arrow:before {color: black;}#sk-container-id-1 div.sk-toggleable__content {max-height: 0;max-width: 0;overflow: hidden;text-align: left;background-color: #f0f8ff;}#sk-container-id-1 div.sk-toggleable__content pre {margin: 0.2em;color: black;border-radius: 0.25em;background-color: #f0f8ff;}#sk-container-id-1 input.sk-toggleable__control:checked~div.sk-toggleable__content {max-height: 200px;max-width: 100%;overflow: auto;}#sk-container-id-1 input.sk-toggleable__control:checked~label.sk-toggleable__label-arrow:before {content: \"▾\";}#sk-container-id-1 div.sk-estimator input.sk-toggleable__control:checked~label.sk-toggleable__label {background-color: #d4ebff;}#sk-container-id-1 div.sk-label input.sk-toggleable__control:checked~label.sk-toggleable__label {background-color: #d4ebff;}#sk-container-id-1 input.sk-hidden--visually {border: 0;clip: rect(1px 1px 1px 1px);clip: rect(1px, 1px, 1px, 1px);height: 1px;margin: -1px;overflow: hidden;padding: 0;position: absolute;width: 1px;}#sk-container-id-1 div.sk-estimator {font-family: monospace;background-color: #f0f8ff;border: 1px dotted black;border-radius: 0.25em;box-sizing: border-box;margin-bottom: 0.5em;}#sk-container-id-1 div.sk-estimator:hover {background-color: #d4ebff;}#sk-container-id-1 div.sk-parallel-item::after {content: \"\";width: 100%;border-bottom: 1px solid gray;flex-grow: 1;}#sk-container-id-1 div.sk-label:hover label.sk-toggleable__label {background-color: #d4ebff;}#sk-container-id-1 div.sk-serial::before {content: \"\";position: absolute;border-left: 1px solid gray;box-sizing: border-box;top: 0;bottom: 0;left: 50%;z-index: 0;}#sk-container-id-1 div.sk-serial {display: flex;flex-direction: column;align-items: center;background-color: white;padding-right: 0.2em;padding-left: 0.2em;position: relative;}#sk-container-id-1 div.sk-item {position: relative;z-index: 1;}#sk-container-id-1 div.sk-parallel {display: flex;align-items: stretch;justify-content: center;background-color: white;position: relative;}#sk-container-id-1 div.sk-item::before, #sk-container-id-1 div.sk-parallel-item::before {content: \"\";position: absolute;border-left: 1px solid gray;box-sizing: border-box;top: 0;bottom: 0;left: 50%;z-index: -1;}#sk-container-id-1 div.sk-parallel-item {display: flex;flex-direction: column;z-index: 1;position: relative;background-color: white;}#sk-container-id-1 div.sk-parallel-item:first-child::after {align-self: flex-end;width: 50%;}#sk-container-id-1 div.sk-parallel-item:last-child::after {align-self: flex-start;width: 50%;}#sk-container-id-1 div.sk-parallel-item:only-child::after {width: 0;}#sk-container-id-1 div.sk-dashed-wrapped {border: 1px dashed gray;margin: 0 0.4em 0.5em 0.4em;box-sizing: border-box;padding-bottom: 0.4em;background-color: white;}#sk-container-id-1 div.sk-label label {font-family: monospace;font-weight: bold;display: inline-block;line-height: 1.2em;}#sk-container-id-1 div.sk-label-container {text-align: center;}#sk-container-id-1 div.sk-container {/* jupyter's `normalize.less` sets `[hidden] { display: none; }` but bootstrap.min.css set `[hidden] { display: none !important; }` so we also need the `!important` here to be able to override the default hidden behavior on the sphinx rendered scikit-learn.org. See: https://github.com/scikit-learn/scikit-learn/issues/21755 */display: inline-block !important;position: relative;}#sk-container-id-1 div.sk-text-repr-fallback {display: none;}</style><div id=\"sk-container-id-1\" class=\"sk-top-container\"><div class=\"sk-text-repr-fallback\"><pre>RandomForestRegressor(min_samples_leaf=2, n_estimators=300)</pre><b>In a Jupyter environment, please rerun this cell to show the HTML representation or trust the notebook. <br />On GitHub, the HTML representation is unable to render, please try loading this page with nbviewer.org.</b></div><div class=\"sk-container\" hidden><div class=\"sk-item\"><div class=\"sk-estimator sk-toggleable\"><input class=\"sk-toggleable__control sk-hidden--visually\" id=\"sk-estimator-id-1\" type=\"checkbox\" checked><label for=\"sk-estimator-id-1\" class=\"sk-toggleable__label sk-toggleable__label-arrow\">RandomForestRegressor</label><div class=\"sk-toggleable__content\"><pre>RandomForestRegressor(min_samples_leaf=2, n_estimators=300)</pre></div></div></div></div></div>"
     },
     "execution_count": 75,
     "metadata": {},
     "output_type": "execute_result"
    }
   ],
   "source": [
    "param_dist_rf = {   \n",
    "    'n_estimators': [50, 100, 150, 200],\n",
    "    'max_depth': [None, 10, 20, 30],\n",
    "    'min_samples_split': [2, 5, 10],\n",
    "    'min_samples_leaf': [1, 2, 4, 8],\n",
    "}\n",
    "\n",
    "\n",
    "rf = RandomForestRegressor(n_estimators=300, min_samples_split=2, min_samples_leaf=2, max_depth=None)\n",
    "\n",
    "\n",
    "rf.fit(X_train_split, y_train_split)"
   ],
   "metadata": {
    "collapsed": false,
    "ExecuteTime": {
     "end_time": "2024-01-13T16:51:47.602744Z",
     "start_time": "2024-01-13T16:36:28.540471Z"
    }
   },
   "id": "331396d2618112b8",
   "execution_count": 75
  },
  {
   "cell_type": "code",
   "execution_count": 76,
   "outputs": [
    {
     "name": "stdout",
     "output_type": "stream",
     "text": [
      "SMAPE on Test Set: 21.208020234279115\n"
     ]
    }
   ],
   "source": [
    "y_pred_for_csv = rf.predict(X_val_split)\n",
    "smape_value = smape(y_val_split, y_pred_for_csv)\n",
    "print(\"SMAPE on Test Set:\", smape_value)"
   ],
   "metadata": {
    "collapsed": false,
    "ExecuteTime": {
     "end_time": "2024-01-13T17:44:55.917191Z",
     "start_time": "2024-01-13T17:44:55.509179Z"
    }
   },
   "id": "553c9da261bbf08f"
  },
  {
   "cell_type": "code",
   "execution_count": 1644,
   "outputs": [],
   "source": [
    "y_res = rf.predict(df_test_encoded.drop(columns=['id']))\n",
    "predictions_df = pd.DataFrame({'id': df_test_encoded['id'], 'salary_to': y_res})\n",
    "predictions_df.to_csv('predictions_result.csv', index=False)"
   ],
   "metadata": {
    "collapsed": false,
    "ExecuteTime": {
     "end_time": "2024-01-09T20:24:56.454064Z",
     "start_time": "2024-01-09T20:24:55.976076Z"
    }
   },
   "id": "d2583c11242e7071"
  }
 ],
 "metadata": {
  "kernelspec": {
   "display_name": "Python 3",
   "language": "python",
   "name": "python3"
  },
  "language_info": {
   "codemirror_mode": {
    "name": "ipython",
    "version": 2
   },
   "file_extension": ".py",
   "mimetype": "text/x-python",
   "name": "python",
   "nbconvert_exporter": "python",
   "pygments_lexer": "ipython2",
   "version": "2.7.6"
  }
 },
 "nbformat": 4,
 "nbformat_minor": 5
}
